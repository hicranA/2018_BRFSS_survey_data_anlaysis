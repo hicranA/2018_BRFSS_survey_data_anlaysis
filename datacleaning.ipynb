{
 "cells": [
  {
   "cell_type": "markdown",
   "metadata": {},
   "source": [
    "2018 BRFSS Survey Data prepared by CDC"
   ]
  },
  {
   "cell_type": "code",
   "execution_count": 427,
   "metadata": {},
   "outputs": [
    {
     "name": "stderr",
     "output_type": "stream",
     "text": [
      "/tmp/ipykernel_3380/3583986020.py:3: DtypeWarning: Columns (8,10,11) have mixed types. Specify dtype option on import or set low_memory=False.\n",
      "  df_initial = pd.read_csv(\"project-2018-BRFSS-arthritis.csv\")\n"
     ]
    }
   ],
   "source": [
    "import pandas as pd\n",
    "\n",
    "df_initial = pd.read_csv(\"project-2018-BRFSS-arthritis.csv\")"
   ]
  },
  {
   "cell_type": "markdown",
   "metadata": {},
   "source": [
    "## Panadas profiling"
   ]
  },
  {
   "cell_type": "code",
   "execution_count": 428,
   "metadata": {},
   "outputs": [],
   "source": [
    "# from pandas_profiling import ProfileReport\n",
    "\n",
    "# profile = ProfileReport(df_initial, title=\"Pandas Profiling Report\")\n",
    "# profile.to_file(\"initial_report.html\")"
   ]
  },
  {
   "cell_type": "markdown",
   "metadata": {},
   "source": []
  },
  {
   "cell_type": "markdown",
   "metadata": {},
   "source": [
    "## data frame info"
   ]
  },
  {
   "cell_type": "code",
   "execution_count": 429,
   "metadata": {},
   "outputs": [
    {
     "name": "stdout",
     "output_type": "stream",
     "text": [
      "Tuples (data pints:  11933\n",
      "Attributes(variables:  108\n",
      "All of the attributes are already numeric 11933\n"
     ]
    }
   ],
   "source": [
    "print(\"Tuples (data pints: \", len(df_initial))\n",
    "print(\"Attributes(variables: \", len(df_initial.columns))\n",
    "print(\"All of the attributes are already numeric\", len(df_initial.select_dtypes(exclude = ['object'])))\n"
   ]
  },
  {
   "cell_type": "code",
   "execution_count": 430,
   "metadata": {},
   "outputs": [],
   "source": [
    "# #df_initial.info(verbose = True, null_counts = False)\n",
    "# print(pd.unique(df_initial['x.aidtst3']))\n",
    "# print(df_initial['x.aidtst3'].value_counts())\n",
    "# df_initial.iloc[:, :1].describe(include=\"all\")"
   ]
  },
  {
   "cell_type": "code",
   "execution_count": 431,
   "metadata": {},
   "outputs": [
    {
     "name": "stdout",
     "output_type": "stream",
     "text": [
      "there are  37  categorical attributes\n"
     ]
    },
    {
     "data": {
      "text/plain": [
       "Index(['x.aidtst3', 'employ1', 'income2', 'weight2', 'height3', 'children',\n",
       "       'veteran3', 'blind', 'renthom1', 'marital', 'educa', 'deaf', 'decide',\n",
       "       'flushot6', 'seatbelt', 'hivtst6', 'hivrisk5', 'pneuvac4', 'alcday5',\n",
       "       'diffwalk', 'usenow3', 'diffdres', 'diffalon', 'smoke100', 'persdoc2',\n",
       "       'medcost', 'checkup1', 'x.metstat', 'htin4', 'wtkg3', 'x.bmi5',\n",
       "       'x.bmi5cat', 'htm4', 'x.race.g1', 'x.urbstat', 'x.chispnc', 'x.michd'],\n",
       "      dtype='object')"
      ]
     },
     "execution_count": 431,
     "metadata": {},
     "output_type": "execute_result"
    }
   ],
   "source": [
    "print(\"there are \", len(df_initial.select_dtypes(exclude='number').columns), \" categorical attributes\")\n",
    "df_initial.select_dtypes(exclude='number').columns"
   ]
  },
  {
   "cell_type": "code",
   "execution_count": 432,
   "metadata": {},
   "outputs": [
    {
     "name": "stderr",
     "output_type": "stream",
     "text": [
      "/tmp/ipykernel_3380/905674552.py:2: SettingWithCopyWarning: \n",
      "A value is trying to be set on a copy of a slice from a DataFrame.\n",
      "Try using .loc[row_indexer,col_indexer] = value instead\n",
      "\n",
      "See the caveats in the documentation: https://pandas.pydata.org/pandas-docs/stable/user_guide/indexing.html#returning-a-view-versus-a-copy\n",
      "  my_data[\"weight2\"]= my_data[\"weight2\"].apply(pd.to_numeric)\n"
     ]
    },
    {
     "data": {
      "text/plain": [
       "count    5382.000000\n",
       "mean      402.291156\n",
       "std      1326.821010\n",
       "min        51.000000\n",
       "25%       170.000000\n",
       "50%       192.000000\n",
       "75%       225.000000\n",
       "max      9999.000000\n",
       "Name: weight2, dtype: float64"
      ]
     },
     "execution_count": 432,
     "metadata": {},
     "output_type": "execute_result"
    }
   ],
   "source": [
    "my_data = df_initial[df_initial[ 'weight2'] != \"?\"]\n",
    "my_data[\"weight2\"]= my_data[\"weight2\"].apply(pd.to_numeric)\n",
    "my_data_male= my_data[my_data[\"sex1\"]==1]\n",
    "my_data_female= my_data[my_data[\"sex1\"]==2]\n",
    "my_data_male.weight2.describe()"
   ]
  },
  {
   "cell_type": "code",
   "execution_count": 433,
   "metadata": {},
   "outputs": [],
   "source": [
    "#print(IQR_outliers_low.index[1])\n",
    "#new_df_num.drop(IQR_outliers_low.index[0],inplace = True )\n",
    "#new_df_num.drop(IQR_outliers_low.index[1],inplace = True )\n",
    "q_low = my_data_male[ 'weight2'].quantile(0.25)\n",
    "q_hi  = my_data_male[ 'weight2'].quantile(0.90)\n",
    "my_data_male = my_data_male[(my_data_male[ 'weight2'] < q_hi) & (my_data_male[ 'weight2'] > q_low)]\n",
    "\n"
   ]
  },
  {
   "cell_type": "code",
   "execution_count": 434,
   "metadata": {},
   "outputs": [
    {
     "data": {
      "image/png": "[encoded data removed]",
      "text/plain": [
       "<Figure size 640x480 with 1 Axes>"
      ]
     },
     "metadata": {},
     "output_type": "display_data"
    },
    {
     "data": {
      "text/plain": [
       "<Figure size 1000x700 with 0 Axes>"
      ]
     },
     "metadata": {},
     "output_type": "display_data"
    }
   ],
   "source": [
    "import matplotlib.pyplot as plt\n",
    "plt.boxplot(df_filtered.weight2)\n",
    "fig = plt.figure(figsize =(10, 7))\n",
    "plt.show()"
   ]
  },
  {
   "cell_type": "code",
   "execution_count": 435,
   "metadata": {},
   "outputs": [
    {
     "name": "stdout",
     "output_type": "stream",
     "text": [
      "int64\n"
     ]
    },
    {
     "data": {
      "text/plain": [
       "<AxesSubplot: >"
      ]
     },
     "execution_count": 435,
     "metadata": {},
     "output_type": "execute_result"
    },
    {
     "data": {
      "image/png": "[encoded data removed]",
      "text/plain": [
       "<Figure size 640x480 with 1 Axes>"
      ]
     },
     "metadata": {},
     "output_type": "display_data"
    }
   ],
   "source": [
    "print(my_data_male.weight2.dtype)\n",
    "\n",
    "my_data_male.weight2.hist()"
   ]
  },
  {
   "cell_type": "code",
   "execution_count": 436,
   "metadata": {},
   "outputs": [
    {
     "data": {
      "text/plain": [
       "0    200\n",
       "Name: weight2, dtype: int64"
      ]
     },
     "execution_count": 436,
     "metadata": {},
     "output_type": "execute_result"
    }
   ],
   "source": [
    "my_data_male.weight2.mean()\n",
    "my_data_male.weight2.median()\n",
    "my_data_male.weight2.mode()"
   ]
  },
  {
   "cell_type": "code",
   "execution_count": 437,
   "metadata": {},
   "outputs": [],
   "source": [
    "# df_initial.loc[((df_initial[\"weight2\"]==\"?\")& (df_initial[\"sex1\"]==\"1\"))]=my_data_male.weight2.mode()\n",
    "# df_initial[df_initial.sex1==1].loc[(df_initial['weight2'] ==\"?\")] = my_data_male.weight2.mode()\n",
    "\n",
    "#df_initial[(df_initial[ 'weight2'] == \"?\")& ( df_initial[\"sex1\"]==1)].weight2.replace(to_replace=\"?\", value=200, inplace=True)\n",
    "df_initial.loc[(df_initial[ 'weight2'] == \"?\")& ( df_initial[\"sex1\"]==1), \"weight2\"]= 200"
   ]
  },
  {
   "cell_type": "code",
   "execution_count": 438,
   "metadata": {},
   "outputs": [],
   "source": [
    "low = my_data_female[ 'weight2'].quantile(0.25)\n",
    "hi  = my_data_female[ 'weight2'].quantile(0.75)\n",
    "my_data_female = my_data_female[(my_data_female[ 'weight2'] < hi) & (my_data_female[ 'weight2'] > low)]\n"
   ]
  },
  {
   "cell_type": "code",
   "execution_count": 439,
   "metadata": {},
   "outputs": [
    {
     "name": "stdout",
     "output_type": "stream",
     "text": [
      "mean:  162.90718372536554 median:  160.0 mode:  0    150\n",
      "Name: weight2, dtype: int64\n"
     ]
    }
   ],
   "source": [
    "print(\"mean: \",\n",
    "my_data_female.weight2.mean(), \"median: \",\n",
    "my_data_female.weight2.median(), \"mode: \",\n",
    "my_data_female.weight2.mode())"
   ]
  },
  {
   "cell_type": "code",
   "execution_count": 440,
   "metadata": {},
   "outputs": [
    {
     "data": {
      "text/plain": [
       "<AxesSubplot: >"
      ]
     },
     "execution_count": 440,
     "metadata": {},
     "output_type": "execute_result"
    },
    {
     "data": {
      "image/png": "[encoded data removed]",
      "text/plain": [
       "<Figure size 640x480 with 1 Axes>"
      ]
     },
     "metadata": {},
     "output_type": "display_data"
    }
   ],
   "source": [
    "my_data_female.weight2.hist()"
   ]
  },
  {
   "cell_type": "code",
   "execution_count": 441,
   "metadata": {},
   "outputs": [
    {
     "name": "stderr",
     "output_type": "stream",
     "text": [
      "/tmp/ipykernel_3380/3590745852.py:1: SettingWithCopyWarning: \n",
      "A value is trying to be set on a copy of a slice from a DataFrame\n",
      "\n",
      "See the caveats in the documentation: https://pandas.pydata.org/pandas-docs/stable/user_guide/indexing.html#returning-a-view-versus-a-copy\n",
      "  df_initial[(df_initial[ 'weight2'] == \"?\")& ( df_initial[\"sex1\"]==2)].replace(to_replace=\"?\", value=my_data_female.weight2.median(),  inplace=True)\n"
     ]
    }
   ],
   "source": [
    "\n",
    "df_initial[(df_initial[ 'weight2'] == \"?\")& ( df_initial[\"sex1\"]==2)].replace(to_replace=\"?\", value=my_data_female.weight2.median(),  inplace=True)\n"
   ]
  },
  {
   "cell_type": "code",
   "execution_count": 442,
   "metadata": {},
   "outputs": [],
   "source": [
    "df_initial.loc[(df_initial[ 'weight2'] == \"?\")& ( df_initial[\"sex1\"].isin([2,7,9])), \"weight2\"]= my_data_female.weight2.median()\n",
    "df_initial[\"weight2\"]= df_initial.weight2.astype('int')\n",
    "df_initial.loc[(df_initial[ 'weight2'] > 600)& ( df_initial[\"sex1\"]==2), \"weight2\"]= my_data_female.weight2.median()\n",
    "df_initial.loc[(df_initial[ 'weight2'] <= 50)& ( df_initial[\"sex1\"]==2), \"weight2\"]= my_data_female.weight2.median()\n",
    "df_initial.loc[(df_initial[ 'weight2'] > 600)& ( df_initial[\"sex1\"]==1), \"weight2\"]= my_data_male.weight2.median()\n",
    "df_initial.loc[(df_initial[ 'weight2'] <= 50)& ( df_initial[\"sex1\"]==1), \"weight2\"]= my_data_male.weight2.median()"
   ]
  },
  {
   "cell_type": "code",
   "execution_count": 465,
   "metadata": {},
   "outputs": [],
   "source": [
    "# step 1\n",
    "def filtered_data(df, column, gender):\n",
    "    my_data = df[df[column] != \"?\"]\n",
    "    my_data[column]= my_data[\"weight2\"].apply(pd.to_numeric)\n",
    "    if gender== \"y\":\n",
    "        my_data_male= my_data[my_data[\"sex1\"]==1]\n",
    "        my_data_female= my_data[my_data[\"sex1\"]==2]\n",
    "        return my_data_male, my_data_female\n",
    "    else:\n",
    "        return my_data"
   ]
  },
  {
   "cell_type": "code",
   "execution_count": 466,
   "metadata": {},
   "outputs": [],
   "source": [
    "# step 2\n",
    "def outliers(data):\n",
    "    lower = data[ 'weight2'].quantile(0.25)\n",
    "    higher  = data[ 'weight2'].quantile(0.75)\n",
    "    new_df = data[(data[ 'weight2'] < higher) & (data[ 'weight2'] > lower)]\n",
    "    return new_df\n"
   ]
  },
  {
   "cell_type": "code",
   "execution_count": 479,
   "metadata": {},
   "outputs": [],
   "source": [
    "# step 3\n",
    "from scipy.stats import skew\n",
    "def filling_value(df, column):\n",
    "    val = skew(df[column], axis=0, bias=True)\n",
    "    if val == 0:\n",
    "        return df[column].mean()\n",
    "    else:\n",
    "        return df[column].median()"
   ]
  },
  {
   "cell_type": "code",
   "execution_count": 487,
   "metadata": {},
   "outputs": [],
   "source": [
    "#step4\n",
    "def adjusted_df(df,m,val, val1, val2):\n",
    "    new_df = df\n",
    "    if m ==0:\n",
    "        new_df.loc[(df_initial[ 'weight2'] == \"?\"), \"weight2\"]= val\n",
    "    else:\n",
    "        new_df.loc[(new_df[ 'weight2'] == \"?\")& ( new_df[\"sex1\"].isin([1])), \"weight2\"] = int(val1)\n",
    "        new_df.loc[(new_df[ 'weight2'] == \"?\")& ( new_df[\"sex1\"].isin([2,7,9])), \"weight2\"]= int(val2)\n",
    "    return new_df\n",
    "        "
   ]
  },
  {
   "cell_type": "code",
   "execution_count": 488,
   "metadata": {},
   "outputs": [
    {
     "name": "stderr",
     "output_type": "stream",
     "text": [
      "/tmp/ipykernel_3380/3237536970.py:1: DtypeWarning: Columns (8,10,11) have mixed types. Specify dtype option on import or set low_memory=False.\n",
      "  testing_df = pd.read_csv(\"project-2018-BRFSS-arthritis.csv\")\n",
      "/tmp/ipykernel_3380/1716805926.py:3: SettingWithCopyWarning: \n",
      "A value is trying to be set on a copy of a slice from a DataFrame.\n",
      "Try using .loc[row_indexer,col_indexer] = value instead\n",
      "\n",
      "See the caveats in the documentation: https://pandas.pydata.org/pandas-docs/stable/user_guide/indexing.html#returning-a-view-versus-a-copy\n",
      "  my_data[column]= my_data[\"weight2\"].apply(pd.to_numeric)\n"
     ]
    },
    {
     "data": {
      "text/html": [
       "<div>\n",
       "<style scoped>\n",
       "    .dataframe tbody tr th:only-of-type {\n",
       "        vertical-align: middle;\n",
       "    }\n",
       "\n",
       "    .dataframe tbody tr th {\n",
       "        vertical-align: top;\n",
       "    }\n",
       "\n",
       "    .dataframe thead th {\n",
       "        text-align: right;\n",
       "    }\n",
       "</style>\n",
       "<table border=\"1\" class=\"dataframe\">\n",
       "  <thead>\n",
       "    <tr style=\"text-align: right;\">\n",
       "      <th></th>\n",
       "      <th>x.aidtst3</th>\n",
       "      <th>employ1</th>\n",
       "      <th>income2</th>\n",
       "      <th>weight2</th>\n",
       "      <th>height3</th>\n",
       "      <th>children</th>\n",
       "      <th>veteran3</th>\n",
       "      <th>blind</th>\n",
       "      <th>renthom1</th>\n",
       "      <th>sex1</th>\n",
       "      <th>...</th>\n",
       "      <th>x.denvst3</th>\n",
       "      <th>x.prace1</th>\n",
       "      <th>x.mrace1</th>\n",
       "      <th>x.exteth3</th>\n",
       "      <th>x.asthms1</th>\n",
       "      <th>x.michd</th>\n",
       "      <th>x.ltasth1</th>\n",
       "      <th>x.casthm1</th>\n",
       "      <th>x.state</th>\n",
       "      <th>havarth3</th>\n",
       "    </tr>\n",
       "  </thead>\n",
       "  <tbody>\n",
       "    <tr>\n",
       "      <th>0</th>\n",
       "      <td>2</td>\n",
       "      <td>1</td>\n",
       "      <td>8</td>\n",
       "      <td>138</td>\n",
       "      <td>504</td>\n",
       "      <td>2</td>\n",
       "      <td>2</td>\n",
       "      <td>2</td>\n",
       "      <td>1</td>\n",
       "      <td>2</td>\n",
       "      <td>...</td>\n",
       "      <td>1</td>\n",
       "      <td>1</td>\n",
       "      <td>1</td>\n",
       "      <td>1</td>\n",
       "      <td>3</td>\n",
       "      <td>2</td>\n",
       "      <td>1</td>\n",
       "      <td>1</td>\n",
       "      <td>27</td>\n",
       "      <td>2</td>\n",
       "    </tr>\n",
       "    <tr>\n",
       "      <th>1</th>\n",
       "      <td>1</td>\n",
       "      <td>1</td>\n",
       "      <td>4</td>\n",
       "      <td>240</td>\n",
       "      <td>600</td>\n",
       "      <td>88</td>\n",
       "      <td>2</td>\n",
       "      <td>1</td>\n",
       "      <td>2</td>\n",
       "      <td>1</td>\n",
       "      <td>...</td>\n",
       "      <td>2</td>\n",
       "      <td>1</td>\n",
       "      <td>1</td>\n",
       "      <td>2</td>\n",
       "      <td>3</td>\n",
       "      <td>2</td>\n",
       "      <td>1</td>\n",
       "      <td>1</td>\n",
       "      <td>72</td>\n",
       "      <td>2</td>\n",
       "    </tr>\n",
       "    <tr>\n",
       "      <th>2</th>\n",
       "      <td>1</td>\n",
       "      <td>1</td>\n",
       "      <td>6</td>\n",
       "      <td>120</td>\n",
       "      <td>504</td>\n",
       "      <td>88</td>\n",
       "      <td>2</td>\n",
       "      <td>2</td>\n",
       "      <td>1</td>\n",
       "      <td>2</td>\n",
       "      <td>...</td>\n",
       "      <td>1</td>\n",
       "      <td>6</td>\n",
       "      <td>6</td>\n",
       "      <td>2</td>\n",
       "      <td>3</td>\n",
       "      <td>2</td>\n",
       "      <td>1</td>\n",
       "      <td>1</td>\n",
       "      <td>31</td>\n",
       "      <td>2</td>\n",
       "    </tr>\n",
       "    <tr>\n",
       "      <th>3</th>\n",
       "      <td>2</td>\n",
       "      <td>7</td>\n",
       "      <td>77</td>\n",
       "      <td>133</td>\n",
       "      <td>502</td>\n",
       "      <td>88</td>\n",
       "      <td>2</td>\n",
       "      <td>2</td>\n",
       "      <td>1</td>\n",
       "      <td>2</td>\n",
       "      <td>...</td>\n",
       "      <td>1</td>\n",
       "      <td>1</td>\n",
       "      <td>1</td>\n",
       "      <td>2</td>\n",
       "      <td>3</td>\n",
       "      <td>2</td>\n",
       "      <td>1</td>\n",
       "      <td>1</td>\n",
       "      <td>45</td>\n",
       "      <td>2</td>\n",
       "    </tr>\n",
       "    <tr>\n",
       "      <th>4</th>\n",
       "      <td>9</td>\n",
       "      <td>7</td>\n",
       "      <td>8</td>\n",
       "      <td>170</td>\n",
       "      <td>505</td>\n",
       "      <td>88</td>\n",
       "      <td>2</td>\n",
       "      <td>2</td>\n",
       "      <td>1</td>\n",
       "      <td>2</td>\n",
       "      <td>...</td>\n",
       "      <td>1</td>\n",
       "      <td>1</td>\n",
       "      <td>1</td>\n",
       "      <td>1</td>\n",
       "      <td>3</td>\n",
       "      <td>2</td>\n",
       "      <td>1</td>\n",
       "      <td>1</td>\n",
       "      <td>24</td>\n",
       "      <td>2</td>\n",
       "    </tr>\n",
       "    <tr>\n",
       "      <th>5</th>\n",
       "      <td>2</td>\n",
       "      <td>1</td>\n",
       "      <td>5</td>\n",
       "      <td>192</td>\n",
       "      <td>601</td>\n",
       "      <td>88</td>\n",
       "      <td>2</td>\n",
       "      <td>2</td>\n",
       "      <td>2</td>\n",
       "      <td>1</td>\n",
       "      <td>...</td>\n",
       "      <td>1</td>\n",
       "      <td>1</td>\n",
       "      <td>1</td>\n",
       "      <td>1</td>\n",
       "      <td>3</td>\n",
       "      <td>2</td>\n",
       "      <td>1</td>\n",
       "      <td>1</td>\n",
       "      <td>19</td>\n",
       "      <td>2</td>\n",
       "    </tr>\n",
       "    <tr>\n",
       "      <th>6</th>\n",
       "      <td>1</td>\n",
       "      <td>1</td>\n",
       "      <td>7</td>\n",
       "      <td>205</td>\n",
       "      <td>511</td>\n",
       "      <td>88</td>\n",
       "      <td>1</td>\n",
       "      <td>2</td>\n",
       "      <td>1</td>\n",
       "      <td>1</td>\n",
       "      <td>...</td>\n",
       "      <td>1</td>\n",
       "      <td>1</td>\n",
       "      <td>1</td>\n",
       "      <td>1</td>\n",
       "      <td>3</td>\n",
       "      <td>2</td>\n",
       "      <td>1</td>\n",
       "      <td>1</td>\n",
       "      <td>1</td>\n",
       "      <td>2</td>\n",
       "    </tr>\n",
       "    <tr>\n",
       "      <th>7</th>\n",
       "      <td>1</td>\n",
       "      <td>2</td>\n",
       "      <td>8</td>\n",
       "      <td>220</td>\n",
       "      <td>508</td>\n",
       "      <td>88</td>\n",
       "      <td>2</td>\n",
       "      <td>2</td>\n",
       "      <td>1</td>\n",
       "      <td>1</td>\n",
       "      <td>...</td>\n",
       "      <td>2</td>\n",
       "      <td>1</td>\n",
       "      <td>1</td>\n",
       "      <td>2</td>\n",
       "      <td>3</td>\n",
       "      <td>2</td>\n",
       "      <td>1</td>\n",
       "      <td>1</td>\n",
       "      <td>51</td>\n",
       "      <td>2</td>\n",
       "    </tr>\n",
       "    <tr>\n",
       "      <th>8</th>\n",
       "      <td>2</td>\n",
       "      <td>1</td>\n",
       "      <td>6</td>\n",
       "      <td>200</td>\n",
       "      <td>601</td>\n",
       "      <td>2</td>\n",
       "      <td>2</td>\n",
       "      <td>2</td>\n",
       "      <td>1</td>\n",
       "      <td>1</td>\n",
       "      <td>...</td>\n",
       "      <td>2</td>\n",
       "      <td>1</td>\n",
       "      <td>1</td>\n",
       "      <td>1</td>\n",
       "      <td>3</td>\n",
       "      <td>2</td>\n",
       "      <td>1</td>\n",
       "      <td>1</td>\n",
       "      <td>55</td>\n",
       "      <td>2</td>\n",
       "    </tr>\n",
       "    <tr>\n",
       "      <th>9</th>\n",
       "      <td>1</td>\n",
       "      <td>2</td>\n",
       "      <td>8</td>\n",
       "      <td>200</td>\n",
       "      <td>507</td>\n",
       "      <td>88</td>\n",
       "      <td>2</td>\n",
       "      <td>2</td>\n",
       "      <td>1</td>\n",
       "      <td>1</td>\n",
       "      <td>...</td>\n",
       "      <td>1</td>\n",
       "      <td>1</td>\n",
       "      <td>1</td>\n",
       "      <td>2</td>\n",
       "      <td>3</td>\n",
       "      <td>1</td>\n",
       "      <td>1</td>\n",
       "      <td>1</td>\n",
       "      <td>48</td>\n",
       "      <td>2</td>\n",
       "    </tr>\n",
       "    <tr>\n",
       "      <th>10</th>\n",
       "      <td>2</td>\n",
       "      <td>7</td>\n",
       "      <td>4</td>\n",
       "      <td>215</td>\n",
       "      <td>508</td>\n",
       "      <td>88</td>\n",
       "      <td>2</td>\n",
       "      <td>2</td>\n",
       "      <td>1</td>\n",
       "      <td>1</td>\n",
       "      <td>...</td>\n",
       "      <td>1</td>\n",
       "      <td>1</td>\n",
       "      <td>1</td>\n",
       "      <td>2</td>\n",
       "      <td>3</td>\n",
       "      <td>1</td>\n",
       "      <td>1</td>\n",
       "      <td>1</td>\n",
       "      <td>41</td>\n",
       "      <td>2</td>\n",
       "    </tr>\n",
       "    <tr>\n",
       "      <th>11</th>\n",
       "      <td>2</td>\n",
       "      <td>8</td>\n",
       "      <td>1</td>\n",
       "      <td>128</td>\n",
       "      <td>503</td>\n",
       "      <td>88</td>\n",
       "      <td>2</td>\n",
       "      <td>2</td>\n",
       "      <td>3</td>\n",
       "      <td>2</td>\n",
       "      <td>...</td>\n",
       "      <td>1</td>\n",
       "      <td>6</td>\n",
       "      <td>6</td>\n",
       "      <td>2</td>\n",
       "      <td>3</td>\n",
       "      <td>1</td>\n",
       "      <td>1</td>\n",
       "      <td>1</td>\n",
       "      <td>72</td>\n",
       "      <td>2</td>\n",
       "    </tr>\n",
       "    <tr>\n",
       "      <th>12</th>\n",
       "      <td>2</td>\n",
       "      <td>6</td>\n",
       "      <td>8</td>\n",
       "      <td>210</td>\n",
       "      <td>602</td>\n",
       "      <td>88</td>\n",
       "      <td>2</td>\n",
       "      <td>2</td>\n",
       "      <td>3</td>\n",
       "      <td>1</td>\n",
       "      <td>...</td>\n",
       "      <td>1</td>\n",
       "      <td>1</td>\n",
       "      <td>1</td>\n",
       "      <td>1</td>\n",
       "      <td>3</td>\n",
       "      <td>2</td>\n",
       "      <td>1</td>\n",
       "      <td>1</td>\n",
       "      <td>36</td>\n",
       "      <td>2</td>\n",
       "    </tr>\n",
       "    <tr>\n",
       "      <th>13</th>\n",
       "      <td>?</td>\n",
       "      <td>7</td>\n",
       "      <td>8</td>\n",
       "      <td>242</td>\n",
       "      <td>511</td>\n",
       "      <td>88</td>\n",
       "      <td>2</td>\n",
       "      <td>2</td>\n",
       "      <td>1</td>\n",
       "      <td>1</td>\n",
       "      <td>...</td>\n",
       "      <td>2</td>\n",
       "      <td>1</td>\n",
       "      <td>1</td>\n",
       "      <td>2</td>\n",
       "      <td>3</td>\n",
       "      <td>1</td>\n",
       "      <td>1</td>\n",
       "      <td>1</td>\n",
       "      <td>12</td>\n",
       "      <td>2</td>\n",
       "    </tr>\n",
       "    <tr>\n",
       "      <th>14</th>\n",
       "      <td>1</td>\n",
       "      <td>7</td>\n",
       "      <td>77</td>\n",
       "      <td>190</td>\n",
       "      <td>7777</td>\n",
       "      <td>88</td>\n",
       "      <td>2</td>\n",
       "      <td>2</td>\n",
       "      <td>2</td>\n",
       "      <td>2</td>\n",
       "      <td>...</td>\n",
       "      <td>1</td>\n",
       "      <td>1</td>\n",
       "      <td>1</td>\n",
       "      <td>1</td>\n",
       "      <td>3</td>\n",
       "      <td>2</td>\n",
       "      <td>1</td>\n",
       "      <td>1</td>\n",
       "      <td>6</td>\n",
       "      <td>2</td>\n",
       "    </tr>\n",
       "    <tr>\n",
       "      <th>15</th>\n",
       "      <td>2</td>\n",
       "      <td>1</td>\n",
       "      <td>7</td>\n",
       "      <td>180</td>\n",
       "      <td>602</td>\n",
       "      <td>1</td>\n",
       "      <td>2</td>\n",
       "      <td>2</td>\n",
       "      <td>1</td>\n",
       "      <td>1</td>\n",
       "      <td>...</td>\n",
       "      <td>1</td>\n",
       "      <td>1</td>\n",
       "      <td>1</td>\n",
       "      <td>1</td>\n",
       "      <td>3</td>\n",
       "      <td>2</td>\n",
       "      <td>1</td>\n",
       "      <td>1</td>\n",
       "      <td>17</td>\n",
       "      <td>2</td>\n",
       "    </tr>\n",
       "    <tr>\n",
       "      <th>16</th>\n",
       "      <td>1</td>\n",
       "      <td>5</td>\n",
       "      <td>6</td>\n",
       "      <td>130</td>\n",
       "      <td>503</td>\n",
       "      <td>2</td>\n",
       "      <td>2</td>\n",
       "      <td>2</td>\n",
       "      <td>2</td>\n",
       "      <td>2</td>\n",
       "      <td>...</td>\n",
       "      <td>1</td>\n",
       "      <td>1</td>\n",
       "      <td>1</td>\n",
       "      <td>2</td>\n",
       "      <td>2</td>\n",
       "      <td>2</td>\n",
       "      <td>2</td>\n",
       "      <td>1</td>\n",
       "      <td>36</td>\n",
       "      <td>2</td>\n",
       "    </tr>\n",
       "    <tr>\n",
       "      <th>17</th>\n",
       "      <td>2</td>\n",
       "      <td>1</td>\n",
       "      <td>7</td>\n",
       "      <td>245</td>\n",
       "      <td>511</td>\n",
       "      <td>88</td>\n",
       "      <td>2</td>\n",
       "      <td>2</td>\n",
       "      <td>1</td>\n",
       "      <td>1</td>\n",
       "      <td>...</td>\n",
       "      <td>1</td>\n",
       "      <td>2</td>\n",
       "      <td>2</td>\n",
       "      <td>1</td>\n",
       "      <td>3</td>\n",
       "      <td>2</td>\n",
       "      <td>1</td>\n",
       "      <td>1</td>\n",
       "      <td>28</td>\n",
       "      <td>2</td>\n",
       "    </tr>\n",
       "    <tr>\n",
       "      <th>18</th>\n",
       "      <td>2</td>\n",
       "      <td>7</td>\n",
       "      <td>8</td>\n",
       "      <td>250</td>\n",
       "      <td>510</td>\n",
       "      <td>88</td>\n",
       "      <td>2</td>\n",
       "      <td>2</td>\n",
       "      <td>1</td>\n",
       "      <td>1</td>\n",
       "      <td>...</td>\n",
       "      <td>1</td>\n",
       "      <td>1</td>\n",
       "      <td>1</td>\n",
       "      <td>1</td>\n",
       "      <td>1</td>\n",
       "      <td>2</td>\n",
       "      <td>2</td>\n",
       "      <td>2</td>\n",
       "      <td>12</td>\n",
       "      <td>2</td>\n",
       "    </tr>\n",
       "    <tr>\n",
       "      <th>19</th>\n",
       "      <td>1</td>\n",
       "      <td>9</td>\n",
       "      <td>99</td>\n",
       "      <td>110</td>\n",
       "      <td>503</td>\n",
       "      <td>88</td>\n",
       "      <td>2</td>\n",
       "      <td>2</td>\n",
       "      <td>2</td>\n",
       "      <td>2</td>\n",
       "      <td>...</td>\n",
       "      <td>1</td>\n",
       "      <td>3</td>\n",
       "      <td>3</td>\n",
       "      <td>1</td>\n",
       "      <td>3</td>\n",
       "      <td>2</td>\n",
       "      <td>1</td>\n",
       "      <td>1</td>\n",
       "      <td>12</td>\n",
       "      <td>2</td>\n",
       "    </tr>\n",
       "    <tr>\n",
       "      <th>20</th>\n",
       "      <td>?</td>\n",
       "      <td>9</td>\n",
       "      <td>?</td>\n",
       "      <td>160</td>\n",
       "      <td>?</td>\n",
       "      <td>99</td>\n",
       "      <td>9</td>\n",
       "      <td>?</td>\n",
       "      <td>9</td>\n",
       "      <td>2</td>\n",
       "      <td>...</td>\n",
       "      <td>1</td>\n",
       "      <td>1</td>\n",
       "      <td>1</td>\n",
       "      <td>1</td>\n",
       "      <td>3</td>\n",
       "      <td>2</td>\n",
       "      <td>1</td>\n",
       "      <td>1</td>\n",
       "      <td>24</td>\n",
       "      <td>2</td>\n",
       "    </tr>\n",
       "    <tr>\n",
       "      <th>21</th>\n",
       "      <td>2</td>\n",
       "      <td>5</td>\n",
       "      <td>3</td>\n",
       "      <td>132</td>\n",
       "      <td>505</td>\n",
       "      <td>2</td>\n",
       "      <td>2</td>\n",
       "      <td>2</td>\n",
       "      <td>1</td>\n",
       "      <td>2</td>\n",
       "      <td>...</td>\n",
       "      <td>2</td>\n",
       "      <td>1</td>\n",
       "      <td>1</td>\n",
       "      <td>2</td>\n",
       "      <td>3</td>\n",
       "      <td>2</td>\n",
       "      <td>1</td>\n",
       "      <td>1</td>\n",
       "      <td>6</td>\n",
       "      <td>2</td>\n",
       "    </tr>\n",
       "  </tbody>\n",
       "</table>\n",
       "<p>22 rows × 108 columns</p>\n",
       "</div>"
      ],
      "text/plain": [
       "   x.aidtst3 employ1 income2 weight2 height3 children veteran3 blind renthom1  \\\n",
       "0          2       1       8     138     504        2        2     2        1   \n",
       "1          1       1       4     240     600       88        2     1        2   \n",
       "2          1       1       6     120     504       88        2     2        1   \n",
       "3          2       7      77     133     502       88        2     2        1   \n",
       "4          9       7       8     170     505       88        2     2        1   \n",
       "5          2       1       5     192     601       88        2     2        2   \n",
       "6          1       1       7     205     511       88        1     2        1   \n",
       "7          1       2       8     220     508       88        2     2        1   \n",
       "8          2       1       6     200     601        2        2     2        1   \n",
       "9          1       2       8     200     507       88        2     2        1   \n",
       "10         2       7       4     215     508       88        2     2        1   \n",
       "11         2       8       1     128     503       88        2     2        3   \n",
       "12         2       6       8     210     602       88        2     2        3   \n",
       "13         ?       7       8     242     511       88        2     2        1   \n",
       "14         1       7      77     190    7777       88        2     2        2   \n",
       "15         2       1       7     180     602        1        2     2        1   \n",
       "16         1       5       6     130     503        2        2     2        2   \n",
       "17         2       1       7     245     511       88        2     2        1   \n",
       "18         2       7       8     250     510       88        2     2        1   \n",
       "19         1       9      99     110     503       88        2     2        2   \n",
       "20         ?       9       ?     160       ?       99        9     ?        9   \n",
       "21         2       5       3     132     505        2        2     2        1   \n",
       "\n",
       "    sex1  ... x.denvst3 x.prace1 x.mrace1 x.exteth3  x.asthms1 x.michd  \\\n",
       "0      2  ...         1        1        1         1          3       2   \n",
       "1      1  ...         2        1        1         2          3       2   \n",
       "2      2  ...         1        6        6         2          3       2   \n",
       "3      2  ...         1        1        1         2          3       2   \n",
       "4      2  ...         1        1        1         1          3       2   \n",
       "5      1  ...         1        1        1         1          3       2   \n",
       "6      1  ...         1        1        1         1          3       2   \n",
       "7      1  ...         2        1        1         2          3       2   \n",
       "8      1  ...         2        1        1         1          3       2   \n",
       "9      1  ...         1        1        1         2          3       1   \n",
       "10     1  ...         1        1        1         2          3       1   \n",
       "11     2  ...         1        6        6         2          3       1   \n",
       "12     1  ...         1        1        1         1          3       2   \n",
       "13     1  ...         2        1        1         2          3       1   \n",
       "14     2  ...         1        1        1         1          3       2   \n",
       "15     1  ...         1        1        1         1          3       2   \n",
       "16     2  ...         1        1        1         2          2       2   \n",
       "17     1  ...         1        2        2         1          3       2   \n",
       "18     1  ...         1        1        1         1          1       2   \n",
       "19     2  ...         1        3        3         1          3       2   \n",
       "20     2  ...         1        1        1         1          3       2   \n",
       "21     2  ...         2        1        1         2          3       2   \n",
       "\n",
       "   x.ltasth1 x.casthm1 x.state havarth3  \n",
       "0          1         1      27        2  \n",
       "1          1         1      72        2  \n",
       "2          1         1      31        2  \n",
       "3          1         1      45        2  \n",
       "4          1         1      24        2  \n",
       "5          1         1      19        2  \n",
       "6          1         1       1        2  \n",
       "7          1         1      51        2  \n",
       "8          1         1      55        2  \n",
       "9          1         1      48        2  \n",
       "10         1         1      41        2  \n",
       "11         1         1      72        2  \n",
       "12         1         1      36        2  \n",
       "13         1         1      12        2  \n",
       "14         1         1       6        2  \n",
       "15         1         1      17        2  \n",
       "16         2         1      36        2  \n",
       "17         1         1      28        2  \n",
       "18         2         2      12        2  \n",
       "19         1         1      12        2  \n",
       "20         1         1      24        2  \n",
       "21         1         1       6        2  \n",
       "\n",
       "[22 rows x 108 columns]"
      ]
     },
     "execution_count": 488,
     "metadata": {},
     "output_type": "execute_result"
    }
   ],
   "source": [
    "testing_df = pd.read_csv(\"project-2018-BRFSS-arthritis.csv\")\n",
    "\n",
    "my_data_male, my_data_female = filtered_data(df=testing_df, column=\"weight2\", gender=\"y\")\n",
    "val1= filling_value(df=outliers(my_data_male), column=\"weight2\")\n",
    "val2= filling_value(df=outliers(my_data_female), column=\"weight2\")\n",
    "val = filling_value(df=outliers(my_data), column=\"weight2\")\n",
    "df_1 = adjusted_df(df=testing_df,m=1, val1=val1, val2=val2, val=0)\n",
    "df_1.head(n=22)"
   ]
  },
  {
   "cell_type": "code",
   "execution_count": 523,
   "metadata": {},
   "outputs": [],
   "source": [
    "\n",
    "def filtered_data(df, column, gender):\n",
    "    my_data = df[df[column] != \"?\"]\n",
    "    my_data[column]= my_data[column].apply(pd.to_numeric)\n",
    "    if gender== \"y\":\n",
    "        my_data_male= my_data[my_data[\"sex1\"]==1]\n",
    "        my_data_female= my_data[my_data[\"sex1\"]==2]\n",
    "        m=0\n",
    "        # setting m to one for the function below\n",
    "        return my_data_male, my_data_female\n",
    "    else:\n",
    "        return my_data\n",
    "\n",
    "def outliers(data, column):\n",
    "    lower = data[ column].quantile(0.25)\n",
    "    higher  = data[ column].quantile(0.75)\n",
    "    new_df = data[(data[ column] < higher) & (data[ column] > lower)]\n",
    "    return new_df\n",
    "def filling_value(df, column):\n",
    "    val = skew(df[column], axis=0, bias=True)\n",
    "    if val == 0:\n",
    "        return df[column].mean()\n",
    "    else:\n",
    "        return df[column].median()\n",
    "def adjusted_df(df,m,val, val1, val2, column):\n",
    "    new_df = df\n",
    "    if m ==0:\n",
    "        new_df.loc[(df_initial[ column] == \"?\"), column]= val\n",
    "    else:\n",
    "        new_df.loc[(new_df[ column] == \"?\")& ( new_df[\"sex1\"].isin([1])), column] = int(val1)\n",
    "        new_df.loc[(new_df[ column] == \"?\")& ( new_df[\"sex1\"].isin([2,7,9])), column]= int(val2)\n",
    "    return new_df\n",
    "\n",
    "def main(df, column, gender):\n",
    "    if gender != \"y\":\n",
    "        data =filtered_data(df=df, column=column, gender=gender)\n",
    "        val = filling_value(df=outliers(data, column= column), column=column)\n",
    "        print(\"filed value\", val)\n",
    "        val1=0\n",
    "        val2=0\n",
    "        df_1 = adjusted_df(df=df,m=0, val1=val1, val2=val2, val=val, column=column)\n",
    "        return df_1\n",
    "\n",
    "    else:\n",
    "        my_data_male, my_data_female = filtered_data(df, column, gender)\n",
    "        val1= filling_value(df=outliers(my_data_male, column= column), column=column)\n",
    "        val2= filling_value(df=outliers(my_data_female, column= column), column=column)\n",
    "        val=0\n",
    "        df_1 = adjusted_df(df=df,m=1, val1=val1, val2=val2, val=val, column=column)\n",
    "        return df_1      "
   ]
  },
  {
   "cell_type": "code",
   "execution_count": 524,
   "metadata": {},
   "outputs": [
    {
     "name": "stdout",
     "output_type": "stream",
     "text": [
      "filed value 6.0\n"
     ]
    }
   ],
   "source": [
    "my_test_df = main(df=testing_df, gender=\"y\", column=\"weight2\")\n",
    "my_test_df_2= main(df=my_test_df, gender=\"y\", column= 'height3')\n",
    "my_test_df_3= main(df=my_test_df, gender=0, column= 'children')"
   ]
  },
  {
   "cell_type": "code",
   "execution_count": 582,
   "metadata": {},
   "outputs": [
    {
     "name": "stdout",
     "output_type": "stream",
     "text": [
      "7646\n"
     ]
    }
   ],
   "source": [
    "test = testing_df.replace(\"?\",  None)\n",
    "\n",
    "empty_cells_dropped = test.dropna()\n",
    "print(len(empty_cells_dropped))"
   ]
  },
  {
   "cell_type": "code",
   "execution_count": 557,
   "metadata": {},
   "outputs": [],
   "source": [
    "test_missing = test.isna()\n",
    "test_missing_sum = test_missing.sum()"
   ]
  },
  {
   "cell_type": "code",
   "execution_count": 571,
   "metadata": {},
   "outputs": [],
   "source": [
    "n= test_missing_sum/ len(test) *100\n",
    "k =test.isna().mean().round(4)*100"
   ]
  },
  {
   "cell_type": "code",
   "execution_count": 583,
   "metadata": {},
   "outputs": [
    {
     "name": "stdout",
     "output_type": "stream",
     "text": [
      "108\n"
     ]
    }
   ],
   "source": [
    "number = len(test.columns)\n",
    "print(number)\n",
    "discrip= test.isnull().sum(axis=1)/number "
   ]
  }
 ],
 "metadata": {
  "kernelspec": {
   "display_name": "Python 3.8.10 ('env': venv)",
   "language": "python",
   "name": "python3"
  },
  "language_info": {
   "codemirror_mode": {
    "name": "ipython",
    "version": 3
   },
   "file_extension": ".py",
   "mimetype": "text/x-python",
   "name": "python",
   "nbconvert_exporter": "python",
   "pygments_lexer": "ipython3",
   "version": "3.8.10"
  },
  "orig_nbformat": 4,
  "vscode": {
   "interpreter": {
    "hash": "3c1415cb821ed4adf865e02a40bc7bc1df3fdd4fe2d5a3e5cd806c6716eac26a"
   }
  }
 },
 "nbformat": 4,
 "nbformat_minor": 2
}
