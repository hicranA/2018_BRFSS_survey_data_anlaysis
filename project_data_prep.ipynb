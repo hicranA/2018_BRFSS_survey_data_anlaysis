{
 "cells": [
  {
   "cell_type": "markdown",
   "metadata": {},
   "source": [
    "-------"
   ]
  },
  {
   "cell_type": "markdown",
   "metadata": {},
   "source": [
    "#  Reading the CSV file "
   ]
  },
  {
   "cell_type": "markdown",
   "metadata": {},
   "source": [
    "Reading the csv file  and printing the information about the data"
   ]
  },
  {
   "cell_type": "code",
   "execution_count": 114,
   "metadata": {},
   "outputs": [],
   "source": [
    "#libraries used\n",
    "import pandas as pd\n",
    "import numpy as np\n",
    "from scipy.stats import skew"
   ]
  },
  {
   "cell_type": "markdown",
   "metadata": {},
   "source": [
    "We will get warning because we have mixed data types due to \"?\" in the data. "
   ]
  },
  {
   "cell_type": "code",
   "execution_count": 115,
   "metadata": {},
   "outputs": [
    {
     "name": "stderr",
     "output_type": "stream",
     "text": [
      "/tmp/ipykernel_4016/4112109159.py:2: DtypeWarning: Columns (8,10,11) have mixed types. Specify dtype option on import or set low_memory=False.\n",
      "  df_initial = pd.read_csv(\"project-2018-BRFSS-arthritis.csv\")\n"
     ]
    }
   ],
   "source": [
    "# reading csv\n",
    "df_initial = pd.read_csv(\"project-2018-BRFSS-arthritis.csv\")"
   ]
  },
  {
   "cell_type": "markdown",
   "metadata": {},
   "source": [
    "Normally we should not see any categorical data because all of our values are already converted to numeric. As we see above error we have mixed data types because of the \"?\" symbol"
   ]
  },
  {
   "cell_type": "code",
   "execution_count": 116,
   "metadata": {},
   "outputs": [
    {
     "name": "stdout",
     "output_type": "stream",
     "text": [
      "Count of Tuples:  11933\n",
      "Count of Attributes variables:  108\n",
      "there are  37  categorical attributes\n"
     ]
    }
   ],
   "source": [
    "print(\"Count of Tuples: \", len(df_initial))\n",
    "print(\"Count of Attributes variables: \", len(df_initial.columns))\n",
    "print(\"there are \", len(df_initial.select_dtypes(exclude='number').columns), \" categorical attributes\")\n",
    "#df_initial.select_dtypes(exclude='number').columns"
   ]
  },
  {
   "cell_type": "markdown",
   "metadata": {},
   "source": [
    "-------"
   ]
  },
  {
   "cell_type": "markdown",
   "metadata": {},
   "source": [
    "# Replace \"?\" with null values"
   ]
  },
  {
   "cell_type": "markdown",
   "metadata": {},
   "source": [
    "We want to use pandas special functions to fill the null values. Therefore we will replace them with nan"
   ]
  },
  {
   "cell_type": "code",
   "execution_count": 117,
   "metadata": {},
   "outputs": [],
   "source": [
    "# saving as a different df to protect our original df \n",
    "df_modified_null = df_initial\n",
    "df_modified_null= df_modified_null.replace(\"?\",np.nan)\n"
   ]
  },
  {
   "cell_type": "code",
   "execution_count": 118,
   "metadata": {},
   "outputs": [
    {
     "name": "stdout",
     "output_type": "stream",
     "text": [
      "any value is null True\n",
      "total tuples that missing  14830\n"
     ]
    }
   ],
   "source": [
    "print(\"any value is null\", df_modified_null.isnull().values.any())\n",
    "print(\"total tuples that missing \",df_modified_null.isnull().sum().sum())\n",
    "missing_tuples = df_modified_null.isnull().sum()\n",
    "missing_tuples= pd.DataFrame({'name':missing_tuples.index, 'total_missing_columns':missing_tuples.values})\n",
    "notnull = df_modified_null.notna().sum()\n",
    "notnull  =pd.DataFrame({'name':notnull.index, 'non_missing':notnull.values})"
   ]
  },
  {
   "cell_type": "code",
   "execution_count": 119,
   "metadata": {},
   "outputs": [
    {
     "name": "stdout",
     "output_type": "stream",
     "text": [
      "total columns that has missing values:  37\n"
     ]
    }
   ],
   "source": [
    "data_info= missing_tuples.merge(notnull, how='left')\n",
    "size= len(df_initial)\n",
    "data_info[\"percentage_missing\"]= round(data_info['total_missing_columns']/size, 2)\n",
    "print(\"total columns that has missing values: \", len(data_info[data_info[\"total_missing_columns\"]!=0]))\n",
    "#data_info[data_info[\"total_missing_columns\"]!=0]\n"
   ]
  },
  {
   "cell_type": "markdown",
   "metadata": {},
   "source": [
    "Creating meta data to help us to evaluate the model better "
   ]
  },
  {
   "cell_type": "code",
   "execution_count": 120,
   "metadata": {},
   "outputs": [
    {
     "data": {
      "text/html": [
       "<div>\n",
       "<style scoped>\n",
       "    .dataframe tbody tr th:only-of-type {\n",
       "        vertical-align: middle;\n",
       "    }\n",
       "\n",
       "    .dataframe tbody tr th {\n",
       "        vertical-align: top;\n",
       "    }\n",
       "\n",
       "    .dataframe thead th {\n",
       "        text-align: right;\n",
       "    }\n",
       "</style>\n",
       "<table border=\"1\" class=\"dataframe\">\n",
       "  <thead>\n",
       "    <tr style=\"text-align: right;\">\n",
       "      <th></th>\n",
       "      <th>name</th>\n",
       "      <th>total_missing_columns</th>\n",
       "      <th>non_missing</th>\n",
       "      <th>percentage_missing</th>\n",
       "      <th>unique_items</th>\n",
       "    </tr>\n",
       "  </thead>\n",
       "  <tbody>\n",
       "    <tr>\n",
       "      <th>0</th>\n",
       "      <td>x.aidtst3</td>\n",
       "      <td>805</td>\n",
       "      <td>11128</td>\n",
       "      <td>0.07</td>\n",
       "      <td>[{'2': 7002, '1': 3657, '9': 469}]</td>\n",
       "    </tr>\n",
       "    <tr>\n",
       "      <th>1</th>\n",
       "      <td>employ1</td>\n",
       "      <td>34</td>\n",
       "      <td>11899</td>\n",
       "      <td>0.00</td>\n",
       "      <td>[{'1': 4964, '7': 3505, '2': 1091, '8': 869, '...</td>\n",
       "    </tr>\n",
       "    <tr>\n",
       "      <th>2</th>\n",
       "      <td>income2</td>\n",
       "      <td>114</td>\n",
       "      <td>11819</td>\n",
       "      <td>0.01</td>\n",
       "      <td>[{'8': 3343, '7': 1592, '6': 1382, '99': 1117,...</td>\n",
       "    </tr>\n",
       "    <tr>\n",
       "      <th>3</th>\n",
       "      <td>weight2</td>\n",
       "      <td>180</td>\n",
       "      <td>11753</td>\n",
       "      <td>0.02</td>\n",
       "      <td>[{'180': 564, '200': 535, '150': 514, '160': 4...</td>\n",
       "    </tr>\n",
       "    <tr>\n",
       "      <th>4</th>\n",
       "      <td>height3</td>\n",
       "      <td>198</td>\n",
       "      <td>11735</td>\n",
       "      <td>0.02</td>\n",
       "      <td>[{'506': 1050, '504': 966, '507': 950, '505': ...</td>\n",
       "    </tr>\n",
       "    <tr>\n",
       "      <th>...</th>\n",
       "      <td>...</td>\n",
       "      <td>...</td>\n",
       "      <td>...</td>\n",
       "      <td>...</td>\n",
       "      <td>...</td>\n",
       "    </tr>\n",
       "    <tr>\n",
       "      <th>103</th>\n",
       "      <td>x.michd</td>\n",
       "      <td>114</td>\n",
       "      <td>11819</td>\n",
       "      <td>0.01</td>\n",
       "      <td>[{'2': 10748, '1': 1071}]</td>\n",
       "    </tr>\n",
       "    <tr>\n",
       "      <th>104</th>\n",
       "      <td>x.ltasth1</td>\n",
       "      <td>0</td>\n",
       "      <td>11933</td>\n",
       "      <td>0.00</td>\n",
       "      <td>[{1: 10233, 2: 1662, 9: 38}]</td>\n",
       "    </tr>\n",
       "    <tr>\n",
       "      <th>105</th>\n",
       "      <td>x.casthm1</td>\n",
       "      <td>0</td>\n",
       "      <td>11933</td>\n",
       "      <td>0.00</td>\n",
       "      <td>[{1: 10708, 2: 1132, 9: 93}]</td>\n",
       "    </tr>\n",
       "    <tr>\n",
       "      <th>106</th>\n",
       "      <td>x.state</td>\n",
       "      <td>0</td>\n",
       "      <td>11933</td>\n",
       "      <td>0.00</td>\n",
       "      <td>[{36: 936, 24: 487, 27: 464, 12: 417, 31: 382,...</td>\n",
       "    </tr>\n",
       "    <tr>\n",
       "      <th>107</th>\n",
       "      <td>havarth3</td>\n",
       "      <td>0</td>\n",
       "      <td>11933</td>\n",
       "      <td>0.00</td>\n",
       "      <td>[{2: 7906, 1: 4027}]</td>\n",
       "    </tr>\n",
       "  </tbody>\n",
       "</table>\n",
       "<p>108 rows × 5 columns</p>\n",
       "</div>"
      ],
      "text/plain": [
       "          name  total_missing_columns  non_missing  percentage_missing  \\\n",
       "0    x.aidtst3                    805        11128                0.07   \n",
       "1      employ1                     34        11899                0.00   \n",
       "2      income2                    114        11819                0.01   \n",
       "3      weight2                    180        11753                0.02   \n",
       "4      height3                    198        11735                0.02   \n",
       "..         ...                    ...          ...                 ...   \n",
       "103    x.michd                    114        11819                0.01   \n",
       "104  x.ltasth1                      0        11933                0.00   \n",
       "105  x.casthm1                      0        11933                0.00   \n",
       "106    x.state                      0        11933                0.00   \n",
       "107   havarth3                      0        11933                0.00   \n",
       "\n",
       "                                          unique_items  \n",
       "0                   [{'2': 7002, '1': 3657, '9': 469}]  \n",
       "1    [{'1': 4964, '7': 3505, '2': 1091, '8': 869, '...  \n",
       "2    [{'8': 3343, '7': 1592, '6': 1382, '99': 1117,...  \n",
       "3    [{'180': 564, '200': 535, '150': 514, '160': 4...  \n",
       "4    [{'506': 1050, '504': 966, '507': 950, '505': ...  \n",
       "..                                                 ...  \n",
       "103                          [{'2': 10748, '1': 1071}]  \n",
       "104                       [{1: 10233, 2: 1662, 9: 38}]  \n",
       "105                       [{1: 10708, 2: 1132, 9: 93}]  \n",
       "106  [{36: 936, 24: 487, 27: 464, 12: 417, 31: 382,...  \n",
       "107                               [{2: 7906, 1: 4027}]  \n",
       "\n",
       "[108 rows x 5 columns]"
      ]
     },
     "execution_count": 120,
     "metadata": {},
     "output_type": "execute_result"
    }
   ],
   "source": [
    "my_list= []\n",
    "for items in data_info.name:\n",
    "    my_list.append([df_modified_null[items].value_counts().to_dict()])\n",
    "\n",
    "data_info[\"unique_items\"]= my_list\n",
    "data_info"
   ]
  },
  {
   "cell_type": "markdown",
   "metadata": {},
   "source": [
    "**Converting all values to numeric **"
   ]
  },
  {
   "cell_type": "code",
   "execution_count": 121,
   "metadata": {},
   "outputs": [],
   "source": [
    "#data_info[data_info[\"total_missing_columns\"]!=0].name.to_list()\n",
    "df_2= df_modified_null\n",
    "missing_columns= data_info[data_info[\"total_missing_columns\"]!=0].name.to_list()\n",
    "\n",
    "for item in missing_columns:\n",
    "    df_2[item] =pd.to_numeric(df_2[item])\n",
    "\n"
   ]
  },
  {
   "cell_type": "markdown",
   "metadata": {},
   "source": [
    "Double checking to see if there is any mixed values and if all values are numeric"
   ]
  },
  {
   "cell_type": "code",
   "execution_count": 122,
   "metadata": {},
   "outputs": [
    {
     "name": "stdout",
     "output_type": "stream",
     "text": [
      "there are  0  categorical attributes\n"
     ]
    },
    {
     "data": {
      "text/plain": [
       "Index([], dtype='object')"
      ]
     },
     "execution_count": 122,
     "metadata": {},
     "output_type": "execute_result"
    }
   ],
   "source": [
    "print(\"there are \", len(df_2.select_dtypes(exclude='number').columns), \" categorical attributes\")\n",
    "df_2.select_dtypes(exclude='number').columns"
   ]
  },
  {
   "cell_type": "markdown",
   "metadata": {},
   "source": [
    "We are looking to see what percentage of the data is missing over all and tuple based. Are there any tuples that missing 60% data? "
   ]
  },
  {
   "cell_type": "code",
   "execution_count": 123,
   "metadata": {},
   "outputs": [
    {
     "name": "stdout",
     "output_type": "stream",
     "text": [
      "Over all total percentage that is missing 1.24 percent\n",
      "0     0.07\n",
      "17    0.07\n",
      "18    0.07\n",
      "57    0.07\n",
      "58    0.08\n",
      "59    0.08\n",
      "83    0.23\n",
      "Name: percentage_missing, dtype: float64\n",
      "total  7 tuples\n"
     ]
    }
   ],
   "source": [
    "total_percentage_missing = round(df_modified_null.isnull().sum().sum()/len( df_initial),2)\n",
    "print(\"Over all total percentage that is missing\", total_percentage_missing, \"percent\")\n",
    "print(data_info.percentage_missing[data_info.percentage_missing>0.05])\n",
    "print(\"total \", len(data_info.percentage_missing[data_info.percentage_missing>0.05]), \"tuples\")"
   ]
  },
  {
   "cell_type": "markdown",
   "metadata": {},
   "source": [
    "Since there is only seven tuples left I will keep them but I might delete them in later clean up"
   ]
  },
  {
   "cell_type": "code",
   "execution_count": 129,
   "metadata": {},
   "outputs": [],
   "source": [
    "#df_2_mod = df_2[~df_2.index.isin(data_info.percentage_missing[data_info.percentage_missing>0.05].index)]\n"
   ]
  },
  {
   "cell_type": "markdown",
   "metadata": {},
   "source": [
    "------"
   ]
  },
  {
   "cell_type": "markdown",
   "metadata": {},
   "source": [
    "Missing data treatment"
   ]
  },
  {
   "cell_type": "markdown",
   "metadata": {},
   "source": [
    "We checked our missing data and find out actual numeric data and we will use median info to update them . We use median because there are outliers and mean is effected by outliers"
   ]
  },
  {
   "cell_type": "code",
   "execution_count": 136,
   "metadata": {},
   "outputs": [],
   "source": [
    "\n",
    "# updating categorical variables with median\n",
    "# we are using the median because the data includes a lot of outliers\n",
    "df_3= df_2\n",
    "df_3[['weight2', 'height3', 'htin4', 'wtkg3',  'x.bmi5',  'htm4']] = df_3[['weight2', 'height3', 'htin4', 'wtkg3',  'x.bmi5',  'htm4']].fillna(df_3[['weight2', 'height3', 'htin4', 'wtkg3',  'x.bmi5',  'htm4']].median())\n"
   ]
  },
  {
   "cell_type": "markdown",
   "metadata": {},
   "source": [
    "for categorical variables we will use mode to find out most repeated values"
   ]
  },
  {
   "cell_type": "code",
   "execution_count": 137,
   "metadata": {},
   "outputs": [],
   "source": [
    "#df_3.loc[ : , ~df_3.columns.isin(['weight2', 'height3', 'htin4', 'wtkg3',  'x.bmi5', 'htm4'])]\n",
    "y = df_3.loc[ : , ~df_3.columns.isin(['weight2', 'height3', 'htin4', 'wtkg3',  'x.bmi5', 'htm4'])]\n",
    "my_list = y.columns.to_list()\n",
    "for item in my_list:\n",
    "    df_3[item] = df_3[item].fillna(df_3[item].mode()[0])\n",
    "\n"
   ]
  },
  {
   "cell_type": "markdown",
   "metadata": {},
   "source": [
    "We will double check to see if we have any missing values "
   ]
  },
  {
   "cell_type": "code",
   "execution_count": 138,
   "metadata": {},
   "outputs": [
    {
     "name": "stdout",
     "output_type": "stream",
     "text": [
      "any value is null False\n",
      "total tuples that missing  0\n"
     ]
    }
   ],
   "source": [
    "print(\"any value is null\", df_3.isnull().values.any())\n",
    "print(\"total tuples that missing \",df_3.isnull().sum().sum())\n"
   ]
  },
  {
   "cell_type": "markdown",
   "metadata": {},
   "source": [
    "----"
   ]
  },
  {
   "cell_type": "markdown",
   "metadata": {},
   "source": [
    "outliers treatment"
   ]
  },
  {
   "cell_type": "markdown",
   "metadata": {},
   "source": [
    "We do not want to delete data because of outliers because we might have some useful data. Therefore we will only update out extreme data points with median of the data for numeric values. "
   ]
  },
  {
   "cell_type": "code",
   "execution_count": 139,
   "metadata": {},
   "outputs": [
    {
     "name": "stdout",
     "output_type": "stream",
     "text": [
      "28\n"
     ]
    }
   ],
   "source": [
    "# size is bigger than ten\n",
    "count= 0\n",
    "cat_type= []\n",
    "for item in range(len(data_info)):\n",
    "    size =len(data_info.unique_items[item][0])\n",
    "    if size > 11:\n",
    "        count +=1\n",
    "        cat_type.append(\"numeric\")\n",
    "        #print('a')\n",
    "    else:\n",
    "        cat_type.append(\"categorical\")\n",
    "\n",
    "data_info[\"category_type\"]= cat_type\n",
    "print(count)\n"
   ]
  },
  {
   "cell_type": "code",
   "execution_count": 140,
   "metadata": {},
   "outputs": [],
   "source": [
    "# The 3(IQR) Criterion for Outliers\n",
    "def outliersTreatment(df, col_name,whisker_width ):\n",
    "    median = df[col_name].median()\n",
    "    Q1=df[col_name].quantile(q=0.25)\n",
    "    Q3=df[col_name].quantile(q=0.75)\n",
    "    IQR= Q3-Q1\n",
    "    lower_threshold = Q1 - (whisker_width*IQR)\n",
    "    upper_threshold = Q3 + (whisker_width*IQR)\n",
    "    print(lower_threshold)\n",
    "    print(upper_threshold)\n",
    "    df[col_name] = np.where(df[col_name] > upper_threshold, median, df[col_name])\n",
    "    df[col_name] = np.where(df[col_name] < lower_threshold, median, df[col_name])\n",
    "    return df\n",
    "   \n"
   ]
  },
  {
   "cell_type": "markdown",
   "metadata": {},
   "source": [
    "we change some of the numeric columns outliers but there might be more. \n",
    "\n",
    "we will get back again clean more "
   ]
  },
  {
   "cell_type": "code",
   "execution_count": null,
   "metadata": {},
   "outputs": [
    {
     "name": "stdout",
     "output_type": "stream",
     "text": [
      "0.0\n",
      "350.0\n",
      "492.0\n",
      "520.0\n",
      "46.0\n",
      "88.0\n",
      "496.0\n",
      "5004.0\n"
     ]
    }
   ],
   "source": [
    "df_4 = outliersTreatment(df=df_3, col_name='weight2', whisker_width=3)\n",
    "\n",
    "df_5= outliersTreatment(df=df_4, col_name='height3', whisker_width=3)\n",
    "\n",
    "df_6= outliersTreatment(df=df_5, col_name='htin4', whisker_width=3)\n",
    "\n",
    "df_7= outliersTreatment(df=df_6, col_name='x.bmi5', whisker_width=3)\n",
    "\n",
    "# bmi seems like a calculated field but there is no time to chec \n",
    "\n"
   ]
  },
  {
   "cell_type": "code",
   "execution_count": 141,
   "metadata": {},
   "outputs": [
    {
     "name": "stdout",
     "output_type": "stream",
     "text": [
      "118.0\n",
      "223.0\n",
      "<class 'pandas.core.series.Series'>\n"
     ]
    }
   ],
   "source": [
    "df_8= outliersTreatment(df=df_7, col_name='htm4', whisker_width=3)\n",
    "print(type(df_7.htm4))"
   ]
  },
  {
   "cell_type": "markdown",
   "metadata": {},
   "source": [
    "we save our data frame to csv file ready for processing. "
   ]
  },
  {
   "cell_type": "code",
   "execution_count": 142,
   "metadata": {},
   "outputs": [],
   "source": [
    "df_8.to_csv(\"HicranArnold_project_intial.csv\", index=False)"
   ]
  },
  {
   "cell_type": "code",
   "execution_count": 143,
   "metadata": {},
   "outputs": [
    {
     "data": {
      "text/plain": [
       "11933"
      ]
     },
     "execution_count": 143,
     "metadata": {},
     "output_type": "execute_result"
    }
   ],
   "source": [
    "len(df_8)"
   ]
  },
  {
   "cell_type": "code",
   "execution_count": null,
   "metadata": {},
   "outputs": [],
   "source": [
    "# data_dropped = data_info.drop(['unique_items'], axis=1)\n",
    "# data_dropped.to_csv(\"metadata.csv\")"
   ]
  }
 ],
 "metadata": {
  "kernelspec": {
   "display_name": "Python 3.8.10 ('env': venv)",
   "language": "python",
   "name": "python3"
  },
  "language_info": {
   "codemirror_mode": {
    "name": "ipython",
    "version": 3
   },
   "file_extension": ".py",
   "mimetype": "text/x-python",
   "name": "python",
   "nbconvert_exporter": "python",
   "pygments_lexer": "ipython3",
   "version": "3.8.10"
  },
  "orig_nbformat": 4,
  "vscode": {
   "interpreter": {
    "hash": "3c1415cb821ed4adf865e02a40bc7bc1df3fdd4fe2d5a3e5cd806c6716eac26a"
   }
  }
 },
 "nbformat": 4,
 "nbformat_minor": 2
}
