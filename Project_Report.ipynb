{
 "cells": [
  {
   "cell_type": "markdown",
   "metadata": {},
   "source": [
    "***Auther : Hicran Arnold***\n",
    "\n",
    "***MET CS 6999 Term Project***\n",
    "\n",
    "***Title: Prediction Self Health Condition Using Machine Learning Algorithms - 2018 BRFSS Survey Data***\n"
   ]
  },
  {
   "cell_type": "markdown",
   "metadata": {},
   "source": [
    "***Table Of Contents***\n",
    "\n",
    "1. Introduction\n",
    "2. Information About the Data\n",
    "3. Summary of Data Preprocessing\n",
    "4. Summary of Attribute Selection Methods\n",
    "5. Summary of the Classifier Algorithms\n",
    "6. Summary of 25 Models\n",
    "7. Best Attribute Selection Method and the Classifier Algorithm\n",
    "8. Model Comparisons\n",
    "9. Five Relevant Attributes\n",
    "10. Project Key Takeaways\n",
    "11. Appendix List"
   ]
  },
  {
   "cell_type": "markdown",
   "metadata": {},
   "source": [
    "## 1 Introduction "
   ]
  },
  {
   "cell_type": "markdown",
   "metadata": {},
   "source": [
    "The data has been retirived from CDC [2018 BRFSS Survey Data](https://www.cdc.gov/brfss/annual_data/annual_2018.html). There are total amount of 25 machine learning models.  \n",
    "The target population (aged 18 years and older) for cellular telephone samples in 2018 consists of people residing in a private residence or college housing who have a working cellular telephone. The goal of this project assignment is to build and test classifier models using a real-world data.\n"
   ]
  },
  {
   "cell_type": "markdown",
   "metadata": {},
   "source": [
    "## 2- Information About the Data"
   ]
  },
  {
   "cell_type": "markdown",
   "metadata": {},
   "source": [
    "**Data Source** :  [CDC 2018 BRFSS Survey Data ](https://www.cdc.gov/brfss/annual_data/annual_2018.html)\n",
    "\n",
    "**Data Size** : 11933 tuples(observations) and 108 attributes\n",
    "\n",
    "**Target Attribute**: \"havarth3\" and its value is either 1 or 2. The value of 1 means that the person was ever told to have some form of arthritis, rheumatoid arthritis, gout, lupus, or fibromyalgia. Otherwise, the value is 2."
   ]
  },
  {
   "cell_type": "markdown",
   "metadata": {},
   "source": [
    "## 3- Summary of Data Preprocessing"
   ]
  },
  {
   "cell_type": "markdown",
   "metadata": {},
   "source": [
    "I used python and pandas library in my data cleaning process and one of the first things I had to do is changing the null value symbol(\"?\") in the data to \"nan\". There are many built-in functions in pandas to deal with null values but if there is \"?\" then the library thinks that it is a mixed type of data. So my first step was to convert those data back to nulls so I can use pandas fillna() functions. Overall missing tuples were a very small portion of the data, only 1.24 percent. The second thing that I checked was how much of the data missing for each data point. After that, I proceed with filling null values and outlier treatment. I used the median value to fill the null values because the mean is very sensitive to outliers. "
   ]
  },
  {
   "cell_type": "markdown",
   "metadata": {},
   "source": [
    "## 4-Summary of Attribute Selection Methods"
   ]
  },
  {
   "cell_type": "markdown",
   "metadata": {},
   "source": [
    "### 4.1 Information Gain/Mutual Info\n",
    "I wanted to use this filtering feature selection method to pick attributes that has a higher information gain. \n",
    "\n",
    "selected column names :'x.age80', 'x.ageg5yr', 'x.age.g', 'employ1', 'diffwalk', 'x.hcvu651',\n",
    "       'genhlth', 'x.age65yr', 'marital', 'x.phys14d', 'physhlth', 'rmvteth4',\n",
    "       'pneuvac4', 'x.rfhlth', 'x.ststr', 'x.exteth3', 'persdoc2', 'qstver',\n",
    "       'x.strwt', 'chccopd1'],\n",
    "      dtype='object'\n",
    "\n",
    "Note: I noticed that the age attributes has multiple columns with different range and maybe we need to eliminate duplicates and try this method again. "
   ]
  },
  {
   "cell_type": "markdown",
   "metadata": {},
   "source": [
    "### 4.2 Information Chi-square\n",
    "In this method we check our categorical attributes to see if they are associated with our target attribute. It gives us the rate of importance. I dropped columns that are not important and picked the top columns that are most important. \n",
    "\n",
    "selected column names Index(['employ1', 'income2', 'weight2', 'height3', 'children', 'x.drnkdrv',\n",
    "       'pneuvac4', 'alcday5', 'rmvteth4', 'x.psu', 'physhlth', 'menthlth',\n",
    "       'genhlth', 'sleptim1', 'qstver', 'htin4', 'wtkg3', 'x.bmi5', 'htm4',\n",
    "       'x.age.g', 'x.age80', 'x.ageg5yr', 'x.chldcnt', 'x.drnkwek', 'drocdy3.',\n",
    "       'x.race', 'x.llcpwt2', 'x.llcpwt', 'x.dualuse', 'x.wt2rake', 'x.ststr',\n",
    "       'x.strwt', 'x.rawrake', 'x.phys14d', 'x.hcvu651', 'x.prace1',\n",
    "       'x.mrace1'],\n",
    "      dtype='object')\n"
   ]
  },
  {
   "cell_type": "markdown",
   "metadata": {},
   "source": [
    "### 4.3 Information Random Forest Classifier\n",
    "\n",
    "This method is very similar to the first mutual info attribute selection method. \n",
    "\n",
    "selected column names Index(['employ1', 'income2', 'weight2', 'height3', 'pneuvac4', 'alcday5',\n",
    "       'diffwalk', 'x.psu', 'physhlth', 'menthlth', 'genhlth', 'fmonth',\n",
    "       'imonth', 'iday', 'sleptim1', 'qstver', 'htin4', 'wtkg3', 'x.bmi5',\n",
    "       'htm4', 'x.age.g', 'x.age80', 'x.ageg5yr', 'x.age65yr', 'x.drnkwek',\n",
    "       'drocdy3.', 'x.llcpwt2', 'x.llcpwt', 'x.wt2rake', 'x.ststr', 'x.strwt',\n",
    "       'x.phys14d', 'x.state'],\n",
    "      dtype='object')\n",
    "\n",
    "I noticed it picked  days and months. Those columns are not seems relevant, we should remove them and rerun this method again.   "
   ]
  },
  {
   "cell_type": "markdown",
   "metadata": {},
   "source": [
    "### 4.4 Forward Feature Selection\n",
    "\n",
    "This method iteratively pairs and runs features starting from no features. The downside of this method is that it is very expensive. It takes a long time to compute. Therefore I selected small number of features to try this method. \n",
    "\n",
    "feature names Index(['x.aidtst3', 'employ1', 'income2', 'weight2', 'height3', 'children',\n",
    "       'havarth3'],\n",
    "      dtype='object')\n",
    "\n"
   ]
  },
  {
   "cell_type": "markdown",
   "metadata": {},
   "source": [
    "### 4.5  Feature Drop and Manually Determining Irrelevant Attributes\n",
    "\n",
    "In this method I used information gain attribute selection method attributes and run logistic regression algorithm. The goal is to see when we drop which attribute the method accuracy increased. So if the accuracy increases a lot then we should drop that feature. Also I noticed age attribute repeated a lot, so I eliminate that attribute to one attribute. \n",
    "\n",
    "features :(['havarth3', 'x.age80', 'diffwalk', 'employ1', 'genhlth', 'pneuvac4',\n",
    "       'physhlth', 'x.hcvu651', 'x.rfhlth', 'x.phys14d', 'marital', 'rmvteth4',\n",
    "       'x.exteth3', 'x.chldcnt', 'diabete3'],\n",
    "      dtype='object')\n"
   ]
  },
  {
   "cell_type": "markdown",
   "metadata": {},
   "source": [
    "## 5 Summary of the Classifier Algorithms"
   ]
  },
  {
   "cell_type": "markdown",
   "metadata": {},
   "source": [
    "### 5.1 Classifier 1: Logistic Regression \n",
    "\n",
    "I wanted to use logistic regression to check the relationship between attributes and dependent (target) attribute. This is a linier model. I thought it would be nice to compare linier model with nonlinear models."
   ]
  },
  {
   "cell_type": "markdown",
   "metadata": {},
   "source": [
    "### 5.2 Classifier 2: Decision Tree  \n",
    "\n",
    "I used Decision Tree Classifier. It is a non-linier model. It did  better than logistic regression in this data, especially with some certain feature pair where there is not clear linear separation"
   ]
  },
  {
   "cell_type": "markdown",
   "metadata": {},
   "source": [
    "### 5.3 Classifier 3: K-Nearest Neighbors Algorithm (KNN)  \n",
    "\n",
    "I wanted to include a classifier that looks for proximity similarity to make. This algorithm gave similar result to other algorithms and like to decision tree it did better than logistic regression  in some certain attributes selection pair. "
   ]
  },
  {
   "cell_type": "markdown",
   "metadata": {},
   "source": [
    "### 5.4 Classifier S:Support Vector Machine (SVM)\n",
    "This algorithm works well with high dimensional spaces. I see that in my experiment. It did better than other algorithms in general."
   ]
  },
  {
   "cell_type": "markdown",
   "metadata": {},
   "source": [
    "### 5.5 neural network MLPClassifier\n",
    "We learned about neural network recently and I wanted to use the multilayer perceptron (MLP) is a feedforward artificial neural network model to check to see how it is performing comparing to other models. "
   ]
  },
  {
   "cell_type": "markdown",
   "metadata": {},
   "source": [
    "## 6 Summary of 25 Models and key Takeaways"
   ]
  },
  {
   "cell_type": "markdown",
   "metadata": {},
   "source": [
    "Most of the model's accuracy were around 70 to 75 percent. Most of the models performed similar but logistic regression in some cases did really bad. It did not learn and classified all of the data as negative. Rest of them gave very similar results. \n",
    "In real life is messy and big. There are a lot of steps that has to be taken in order to make that ready to analyze. Each steps effect your accuracy of the data. My biggest take away is that it is difficult to eliminate big number of features. Knowing the attributes meaning I think is important.I learned that building an accurate the machine learning model highly connected to feature selections. The accuracy score that I received for average models were about 70% but the sensitivity rate above 50%. Even that I thought my models are doing actually they were not. This shows that I need to clean the data again and balance. "
   ]
  },
  {
   "cell_type": "markdown",
   "metadata": {},
   "source": [
    "## 7 Best Attribute Selection Method and the Classifier Algorithm"
   ]
  },
  {
   "cell_type": "markdown",
   "metadata": {},
   "source": [
    "***Best Attribute Selection Method***: Feature drop and manual elimination based on given info\n",
    "\n",
    "***Classifier Algorithm***: KNN\n",
    "\n",
    "***Selected Features :*** 'x.age80', 'employ1', 'diffwalk', 'x.hcvu651', 'genhlth', 'marital',\n",
    "       'x.phys14d', 'physhlth', 'rmvteth4', 'pneuvac4', 'x.rfhlth',\n",
    "       'x.exteth3', 'persdoc2', 'qstver', 'chccopd1'\n"
   ]
  },
  {
   "cell_type": "code",
   "execution_count": 54,
   "metadata": {},
   "outputs": [
    {
     "data": {
      "text/html": [
       "<div>\n",
       "<style scoped>\n",
       "    .dataframe tbody tr th:only-of-type {\n",
       "        vertical-align: middle;\n",
       "    }\n",
       "\n",
       "    .dataframe tbody tr th {\n",
       "        vertical-align: top;\n",
       "    }\n",
       "\n",
       "    .dataframe thead th {\n",
       "        text-align: right;\n",
       "    }\n",
       "</style>\n",
       "<table border=\"1\" class=\"dataframe\">\n",
       "  <thead>\n",
       "    <tr style=\"text-align: right;\">\n",
       "      <th></th>\n",
       "      <th>x.age80</th>\n",
       "      <th>employ1</th>\n",
       "      <th>diffwalk</th>\n",
       "      <th>x.hcvu651</th>\n",
       "      <th>genhlth</th>\n",
       "      <th>marital</th>\n",
       "      <th>x.phys14d</th>\n",
       "      <th>physhlth</th>\n",
       "      <th>rmvteth4</th>\n",
       "      <th>pneuvac4</th>\n",
       "      <th>x.rfhlth</th>\n",
       "      <th>x.exteth3</th>\n",
       "      <th>persdoc2</th>\n",
       "      <th>qstver</th>\n",
       "      <th>chccopd1</th>\n",
       "      <th>havarth3</th>\n",
       "    </tr>\n",
       "  </thead>\n",
       "  <tbody>\n",
       "    <tr>\n",
       "      <th>0</th>\n",
       "      <td>47</td>\n",
       "      <td>2.0</td>\n",
       "      <td>2.0</td>\n",
       "      <td>1</td>\n",
       "      <td>1</td>\n",
       "      <td>1.0</td>\n",
       "      <td>1</td>\n",
       "      <td>88</td>\n",
       "      <td>8</td>\n",
       "      <td>2.0</td>\n",
       "      <td>1</td>\n",
       "      <td>1</td>\n",
       "      <td>1.0</td>\n",
       "      <td>20</td>\n",
       "      <td>2</td>\n",
       "      <td>2</td>\n",
       "    </tr>\n",
       "    <tr>\n",
       "      <th>1</th>\n",
       "      <td>65</td>\n",
       "      <td>2.0</td>\n",
       "      <td>2.0</td>\n",
       "      <td>9</td>\n",
       "      <td>5</td>\n",
       "      <td>1.0</td>\n",
       "      <td>3</td>\n",
       "      <td>30</td>\n",
       "      <td>8</td>\n",
       "      <td>2.0</td>\n",
       "      <td>2</td>\n",
       "      <td>1</td>\n",
       "      <td>1.0</td>\n",
       "      <td>20</td>\n",
       "      <td>2</td>\n",
       "      <td>2</td>\n",
       "    </tr>\n",
       "    <tr>\n",
       "      <th>2</th>\n",
       "      <td>77</td>\n",
       "      <td>1.0</td>\n",
       "      <td>2.0</td>\n",
       "      <td>9</td>\n",
       "      <td>1</td>\n",
       "      <td>3.0</td>\n",
       "      <td>1</td>\n",
       "      <td>88</td>\n",
       "      <td>2</td>\n",
       "      <td>2.0</td>\n",
       "      <td>1</td>\n",
       "      <td>2</td>\n",
       "      <td>3.0</td>\n",
       "      <td>10</td>\n",
       "      <td>2</td>\n",
       "      <td>2</td>\n",
       "    </tr>\n",
       "    <tr>\n",
       "      <th>3</th>\n",
       "      <td>80</td>\n",
       "      <td>7.0</td>\n",
       "      <td>1.0</td>\n",
       "      <td>9</td>\n",
       "      <td>3</td>\n",
       "      <td>3.0</td>\n",
       "      <td>1</td>\n",
       "      <td>88</td>\n",
       "      <td>1</td>\n",
       "      <td>1.0</td>\n",
       "      <td>1</td>\n",
       "      <td>2</td>\n",
       "      <td>1.0</td>\n",
       "      <td>10</td>\n",
       "      <td>2</td>\n",
       "      <td>1</td>\n",
       "    </tr>\n",
       "    <tr>\n",
       "      <th>4</th>\n",
       "      <td>51</td>\n",
       "      <td>1.0</td>\n",
       "      <td>2.0</td>\n",
       "      <td>1</td>\n",
       "      <td>2</td>\n",
       "      <td>1.0</td>\n",
       "      <td>1</td>\n",
       "      <td>88</td>\n",
       "      <td>8</td>\n",
       "      <td>2.0</td>\n",
       "      <td>1</td>\n",
       "      <td>1</td>\n",
       "      <td>3.0</td>\n",
       "      <td>10</td>\n",
       "      <td>2</td>\n",
       "      <td>2</td>\n",
       "    </tr>\n",
       "  </tbody>\n",
       "</table>\n",
       "</div>"
      ],
      "text/plain": [
       "   x.age80  employ1  diffwalk  x.hcvu651  genhlth  marital  x.phys14d  \\\n",
       "0       47      2.0       2.0          1        1      1.0          1   \n",
       "1       65      2.0       2.0          9        5      1.0          3   \n",
       "2       77      1.0       2.0          9        1      3.0          1   \n",
       "3       80      7.0       1.0          9        3      3.0          1   \n",
       "4       51      1.0       2.0          1        2      1.0          1   \n",
       "\n",
       "   physhlth  rmvteth4  pneuvac4  x.rfhlth  x.exteth3  persdoc2  qstver  \\\n",
       "0        88         8       2.0         1          1       1.0      20   \n",
       "1        30         8       2.0         2          1       1.0      20   \n",
       "2        88         2       2.0         1          2       3.0      10   \n",
       "3        88         1       1.0         1          2       1.0      10   \n",
       "4        88         8       2.0         1          1       3.0      10   \n",
       "\n",
       "   chccopd1  havarth3  \n",
       "0         2         2  \n",
       "1         2         2  \n",
       "2         2         2  \n",
       "3         2         1  \n",
       "4         2         2  "
      ]
     },
     "execution_count": 54,
     "metadata": {},
     "output_type": "execute_result"
    }
   ],
   "source": [
    "import pandas as pd \n",
    "df  = pd.read_csv('HicranArnold_best_train.csv')\n",
    "df2  = pd.read_csv('HicranArnold_best_test.csv')\n",
    "df.head()"
   ]
  },
  {
   "cell_type": "code",
   "execution_count": 55,
   "metadata": {},
   "outputs": [
    {
     "data": {
      "text/html": [
       "<div>\n",
       "<style scoped>\n",
       "    .dataframe tbody tr th:only-of-type {\n",
       "        vertical-align: middle;\n",
       "    }\n",
       "\n",
       "    .dataframe tbody tr th {\n",
       "        vertical-align: top;\n",
       "    }\n",
       "\n",
       "    .dataframe thead th {\n",
       "        text-align: right;\n",
       "    }\n",
       "</style>\n",
       "<table border=\"1\" class=\"dataframe\">\n",
       "  <thead>\n",
       "    <tr style=\"text-align: right;\">\n",
       "      <th></th>\n",
       "      <th>x.age80</th>\n",
       "      <th>employ1</th>\n",
       "      <th>diffwalk</th>\n",
       "      <th>x.hcvu651</th>\n",
       "      <th>genhlth</th>\n",
       "      <th>marital</th>\n",
       "      <th>x.phys14d</th>\n",
       "      <th>physhlth</th>\n",
       "      <th>rmvteth4</th>\n",
       "      <th>pneuvac4</th>\n",
       "      <th>x.rfhlth</th>\n",
       "      <th>x.exteth3</th>\n",
       "      <th>persdoc2</th>\n",
       "      <th>qstver</th>\n",
       "      <th>chccopd1</th>\n",
       "      <th>havarth3</th>\n",
       "    </tr>\n",
       "  </thead>\n",
       "  <tbody>\n",
       "    <tr>\n",
       "      <th>0</th>\n",
       "      <td>75</td>\n",
       "      <td>5.0</td>\n",
       "      <td>2.0</td>\n",
       "      <td>9</td>\n",
       "      <td>2</td>\n",
       "      <td>1.0</td>\n",
       "      <td>1</td>\n",
       "      <td>88</td>\n",
       "      <td>8</td>\n",
       "      <td>1.0</td>\n",
       "      <td>1</td>\n",
       "      <td>1</td>\n",
       "      <td>1.0</td>\n",
       "      <td>10</td>\n",
       "      <td>2</td>\n",
       "      <td>1</td>\n",
       "    </tr>\n",
       "    <tr>\n",
       "      <th>1</th>\n",
       "      <td>23</td>\n",
       "      <td>1.0</td>\n",
       "      <td>2.0</td>\n",
       "      <td>1</td>\n",
       "      <td>3</td>\n",
       "      <td>5.0</td>\n",
       "      <td>1</td>\n",
       "      <td>88</td>\n",
       "      <td>8</td>\n",
       "      <td>2.0</td>\n",
       "      <td>1</td>\n",
       "      <td>1</td>\n",
       "      <td>3.0</td>\n",
       "      <td>12</td>\n",
       "      <td>2</td>\n",
       "      <td>1</td>\n",
       "    </tr>\n",
       "    <tr>\n",
       "      <th>2</th>\n",
       "      <td>80</td>\n",
       "      <td>7.0</td>\n",
       "      <td>2.0</td>\n",
       "      <td>9</td>\n",
       "      <td>5</td>\n",
       "      <td>2.0</td>\n",
       "      <td>3</td>\n",
       "      <td>30</td>\n",
       "      <td>1</td>\n",
       "      <td>1.0</td>\n",
       "      <td>2</td>\n",
       "      <td>2</td>\n",
       "      <td>2.0</td>\n",
       "      <td>10</td>\n",
       "      <td>2</td>\n",
       "      <td>1</td>\n",
       "    </tr>\n",
       "    <tr>\n",
       "      <th>3</th>\n",
       "      <td>36</td>\n",
       "      <td>2.0</td>\n",
       "      <td>2.0</td>\n",
       "      <td>2</td>\n",
       "      <td>1</td>\n",
       "      <td>2.0</td>\n",
       "      <td>1</td>\n",
       "      <td>88</td>\n",
       "      <td>1</td>\n",
       "      <td>2.0</td>\n",
       "      <td>1</td>\n",
       "      <td>2</td>\n",
       "      <td>3.0</td>\n",
       "      <td>20</td>\n",
       "      <td>2</td>\n",
       "      <td>2</td>\n",
       "    </tr>\n",
       "    <tr>\n",
       "      <th>4</th>\n",
       "      <td>65</td>\n",
       "      <td>1.0</td>\n",
       "      <td>2.0</td>\n",
       "      <td>9</td>\n",
       "      <td>2</td>\n",
       "      <td>1.0</td>\n",
       "      <td>1</td>\n",
       "      <td>88</td>\n",
       "      <td>1</td>\n",
       "      <td>2.0</td>\n",
       "      <td>1</td>\n",
       "      <td>2</td>\n",
       "      <td>1.0</td>\n",
       "      <td>20</td>\n",
       "      <td>2</td>\n",
       "      <td>2</td>\n",
       "    </tr>\n",
       "  </tbody>\n",
       "</table>\n",
       "</div>"
      ],
      "text/plain": [
       "   x.age80  employ1  diffwalk  x.hcvu651  genhlth  marital  x.phys14d  \\\n",
       "0       75      5.0       2.0          9        2      1.0          1   \n",
       "1       23      1.0       2.0          1        3      5.0          1   \n",
       "2       80      7.0       2.0          9        5      2.0          3   \n",
       "3       36      2.0       2.0          2        1      2.0          1   \n",
       "4       65      1.0       2.0          9        2      1.0          1   \n",
       "\n",
       "   physhlth  rmvteth4  pneuvac4  x.rfhlth  x.exteth3  persdoc2  qstver  \\\n",
       "0        88         8       1.0         1          1       1.0      10   \n",
       "1        88         8       2.0         1          1       3.0      12   \n",
       "2        30         1       1.0         2          2       2.0      10   \n",
       "3        88         1       2.0         1          2       3.0      20   \n",
       "4        88         1       2.0         1          2       1.0      20   \n",
       "\n",
       "   chccopd1  havarth3  \n",
       "0         2         1  \n",
       "1         2         1  \n",
       "2         2         1  \n",
       "3         2         2  \n",
       "4         2         2  "
      ]
     },
     "execution_count": 55,
     "metadata": {},
     "output_type": "execute_result"
    }
   ],
   "source": [
    "df2.head()"
   ]
  },
  {
   "cell_type": "code",
   "execution_count": 56,
   "metadata": {},
   "outputs": [],
   "source": [
    "X_train = df.loc[ :,  ~df.columns.isin(['havarth3']) ]\n",
    "y_train = df.loc[:, 'havarth3':'havarth3']\n",
    "\n",
    "X_test = df2.loc[ :,  ~df2.columns.isin(['havarth3']) ]\n",
    "y_test = df2.loc[:, 'havarth3':'havarth3']\n"
   ]
  },
  {
   "cell_type": "code",
   "execution_count": 57,
   "metadata": {},
   "outputs": [],
   "source": [
    "from sklearn.neighbors import KNeighborsClassifier#clf3\n",
    "#data transformation \n",
    "from sklearn import preprocessing\n",
    "#accuracy measurement\n",
    "from sklearn.metrics import accuracy_score\n",
    "from sklearn.metrics import confusion_matrix\n",
    "from sklearn.metrics import log_loss, roc_auc_score, recall_score, precision_score, average_precision_score, f1_score, classification_report\n",
    "from sklearn import metrics\n",
    "#data transformation \n",
    "from sklearn import preprocessing\n",
    "import numpy as np\n",
    "# plotting\n",
    "import seaborn as sns\n",
    "\n",
    "def kNNMaker(X_train,y_train,X_test):\n",
    "    scaler =preprocessing.StandardScaler().fit(X_train)\n",
    "    X_train_scaled = scaler.transform(X_train)\n",
    "    X_test_scaled= scaler.transform(X_test)\n",
    "    m = KNeighborsClassifier(n_neighbors=9)\n",
    "    m.fit(X_train_scaled, y_train.values.ravel())\n",
    "    y_pred_knn= m.predict(X_test_scaled)\n",
    "    return m , y_pred_knn\n",
    "\n",
    "def printAccuracy(y_test, y_pred):\n",
    "        print(y_pred)\n",
    "        cm = confusion_matrix(y_test, y_pred)\n",
    "        TP, FP, FN, TN = cm.ravel() \n",
    "        group_names = [\"TP\", \"FP\", \"FN\", \"TN\"]\n",
    "        group_counts = [\"{0:0.0f}\".format(value) for value in\n",
    "                        cm.flatten()]\n",
    "        group_percentages = [\"{0:.2%}\".format(value) for value in\n",
    "                                cm.flatten()/np.sum(cm)]\n",
    "        labels = [f\"{v1}\\n{v2}\\n{v3}\" for v1, v2, v3 in\n",
    "                zip(group_names,group_counts,group_percentages)]\n",
    "        labels = np.asarray(labels).reshape(2,2)\n",
    "        sns.heatmap(cm, annot=labels, fmt='', cmap='mako')\n",
    "        P = TP+FP\n",
    "        N= FN+ TN\n",
    "        TPR_log = TP/P\n",
    "        TNR_log = TN /N \n",
    "\n",
    "        my_accuracy_score_log= accuracy_score(y_test, y_pred)\n",
    "        my_matrix_values_1 = {\"TN\":TN, \"FP\":FP, \"FN\":FN, \"TP\":TP,\"Accuracy\":my_accuracy_score_log,\n",
    "                        \"Sensitivity: TPR\":TPR_log,\"Specificity: TNR\":TNR_log}\n",
    "        result_of_m = pd.DataFrame(my_matrix_values_1 , index=[0])\n",
    "        print(result_of_m)\n",
    "        #return my_accuracy_score_log\n",
    "        print('Log loss = {:.5f}'.format(log_loss(y_test, y_pred)))\n",
    "        print('AUC = {:.5f}'.format(roc_auc_score(y_test, y_pred)))\n",
    "        print('Average Precision = {:.5f}'.format(average_precision_score(y_test, y_pred)))\n",
    "        print('\\nUsing 0.5 as threshold:')\n",
    "        print('Accuracy = {:.5f}'.format(accuracy_score(y_test, y_pred)))\n",
    "        print('Precision = {:.5f}'.format(precision_score(y_test, y_pred)))\n",
    "        print('Recall = {:.5f}'.format(recall_score(y_test, y_pred)))\n",
    "        print('F1 score = {:.5f}'.format(f1_score(y_test, y_pred)))\n",
    "        print('\\nClassification Report')\n",
    "        print(classification_report(y_test, y_pred))\n",
    "        print(\"Note that in binary classification, recall of the positive class is also known as “sensitivity”; recall of the negative class is 'specificity'.\")\n",
    "        return result_of_m\n"
   ]
  },
  {
   "cell_type": "code",
   "execution_count": 58,
   "metadata": {},
   "outputs": [
    {
     "name": "stderr",
     "output_type": "stream",
     "text": [
      "/home/harnold/github/CS_699_Data-Mining/venv/lib/python3.8/site-packages/sklearn/neighbors/_classification.py:228: FutureWarning: Unlike other reduction functions (e.g. `skew`, `kurtosis`), the default behavior of `mode` typically preserves the axis it acts along. In SciPy 1.11.0, this behavior will change: the default value of `keepdims` will become False, the `axis` over which the statistic is taken will be eliminated, and the value None will no longer be accepted. Set `keepdims` to True or False to avoid this warning.\n",
      "  mode, _ = stats.mode(_y[neigh_ind, k], axis=1)\n"
     ]
    }
   ],
   "source": [
    "m3_knn, m3_y_pred_knn  = kNNMaker(X_train=X_train , y_train= y_train, X_test=X_test)"
   ]
  },
  {
   "cell_type": "code",
   "execution_count": 59,
   "metadata": {},
   "outputs": [
    {
     "name": "stdout",
     "output_type": "stream",
     "text": [
      "[2 2 1 ... 2 1 1]\n",
      "     TN   FP   FN   TP  Accuracy  Sensitivity: TPR  Specificity: TNR\n",
      "0  2189  605  441  703  0.734383          0.537462          0.832319\n",
      "Log loss = 11.47226\n",
      "AUC = 0.68489\n",
      "Average Precision = 0.27867\n",
      "\n",
      "Using 0.5 as threshold:\n",
      "Accuracy = 0.73438\n",
      "Precision = 0.61451\n",
      "Recall = 0.53746\n",
      "F1 score = 0.57341\n",
      "\n",
      "Classification Report\n",
      "              precision    recall  f1-score   support\n",
      "\n",
      "           1       0.61      0.54      0.57      1308\n",
      "           2       0.78      0.83      0.81      2630\n",
      "\n",
      "    accuracy                           0.73      3938\n",
      "   macro avg       0.70      0.68      0.69      3938\n",
      "weighted avg       0.73      0.73      0.73      3938\n",
      "\n",
      "Note that in binary classification, recall of the positive class is also known as “sensitivity”; recall of the negative class is 'specificity'.\n"
     ]
    },
    {
     "data": {
      "image/png": "[encoded data removed]",
      "text/plain": [
       "<Figure size 640x480 with 2 Axes>"
      ]
     },
     "metadata": {},
     "output_type": "display_data"
    }
   ],
   "source": [
    "m3_knn_result = printAccuracy(y_test, m3_y_pred_knn)"
   ]
  },
  {
   "cell_type": "markdown",
   "metadata": {},
   "source": [
    "## 8. Model Comparisons"
   ]
  },
  {
   "cell_type": "markdown",
   "metadata": {},
   "source": [
    "I evaluate my model based on the criteria below. The goal of this project to predict \n",
    "* accuracy : In general this gives us how over all our project did. \n",
    "* error_rate : this tell us what percentage the model did make mistakes\n",
    "\n",
    "I checked the above metrics but the goal of this project is to predict people with listed illnesses. So I picked the model with the highest sensitivity and precision because we want to know how precise our data identify the person with the illness   \n",
    "\n",
    "\n",
    "* sensitivity_recall\n",
    "* precision_rate"
   ]
  },
  {
   "cell_type": "code",
   "execution_count": 60,
   "metadata": {},
   "outputs": [
    {
     "data": {
      "image/png": "[encoded data removed]",
      "text/plain": [
       "<IPython.core.display.Image object>"
      ]
     },
     "execution_count": 60,
     "metadata": {},
     "output_type": "execute_result"
    }
   ],
   "source": [
    "from IPython.display import Image\n",
    "Image(filename=\"modelcomp.png\")"
   ]
  },
  {
   "cell_type": "markdown",
   "metadata": {},
   "source": [
    "## 9  Five Relevant Attribute"
   ]
  },
  {
   "cell_type": "markdown",
   "metadata": {},
   "source": [
    "Below are the five attributes I think are the most relevant. These attributes has been repeatedly selected in attribute selection methods that are relevant and they got highest associate rate and my model accuracy went down when I dropped them in the feature selection method. \n",
    "\n",
    "1. Age \n",
    "2. physhlth\n",
    "3. diffwalk\n",
    "4. employ1\n",
    "5. HCVU651"
   ]
  },
  {
   "cell_type": "code",
   "execution_count": 61,
   "metadata": {},
   "outputs": [
    {
     "data": {
      "image/png": "[encoded data removed]",
      "text/plain": [
       "<IPython.core.display.Image object>"
      ]
     },
     "execution_count": 61,
     "metadata": {},
     "output_type": "execute_result"
    }
   ],
   "source": [
    "\n",
    "from IPython.display import Image\n",
    "Image(filename=\"bestFeatures.png\")"
   ]
  },
  {
   "cell_type": "markdown",
   "metadata": {},
   "source": [
    "## 10  Project Key Takeaways"
   ]
  },
  {
   "cell_type": "markdown",
   "metadata": {},
   "source": [
    "My take away from this project is that\n",
    "-  Data prep processing, selecting attributes and models, all those steps  are all related ,and each steps performance has effect on the next step. \n",
    "-   Now I understand now that in order to know if a model is performing well you need to compare it with alternatives. You can see the areas that the model is not doing well clearly. \n",
    "-  The real world data is big and messy and making sense of big data is not easy. It is my first project where I had to work with these big of data with this many attributes. I ran out time but I am hoping that I would gain the speed with time. "
   ]
  },
  {
   "cell_type": "markdown",
   "metadata": {},
   "source": [
    "## 11 Appendix List"
   ]
  },
  {
   "cell_type": "markdown",
   "metadata": {},
   "source": [
    "I have inculuded the files below\n",
    "\n",
    "- HicranArnold_project_data_prep.ipynb (Providing the details of data cleaning)\n",
    "- HicranArnold_project_data_process.ipynb and pdf (Providing the details of each attribute selections and model performance for each iterations, model comparison details)\n",
    "- Initial and Best feature datasets \n",
    "- modelcomp.png and bestFeatures.png for the report presentation "
   ]
  }
 ],
 "metadata": {
  "authors": [
   {
    "name": "Hicran Arnold"
   }
  ],
  "ipub": {
   "titlepage": {
    "author": "Hicran Arnold",
    "title": "Main-Title"
   }
  },
  "kernelspec": {
   "display_name": "Python 3.8.10 ('venv': venv)",
   "language": "python",
   "name": "python3"
  },
  "language_info": {
   "codemirror_mode": {
    "name": "ipython",
    "version": 3
   },
   "file_extension": ".py",
   "mimetype": "text/x-python",
   "name": "python",
   "nbconvert_exporter": "python",
   "pygments_lexer": "ipython3",
   "version": "3.8.10"
  },
  "orig_nbformat": 4,
  "title": "project-2018-BRFSS",
  "vscode": {
   "interpreter": {
    "hash": "1417755986901c50d0a2d815c90f0d9b5714233b5cef037e91b19346eaa01f5c"
   }
  }
 },
 "nbformat": 4,
 "nbformat_minor": 2
}
