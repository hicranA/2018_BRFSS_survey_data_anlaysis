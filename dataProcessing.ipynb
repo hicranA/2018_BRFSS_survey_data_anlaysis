{
 "cells": [
  {
   "cell_type": "markdown",
   "metadata": {},
   "source": [
    "***Reading the data***"
   ]
  },
  {
   "cell_type": "code",
   "execution_count": 58,
   "metadata": {},
   "outputs": [],
   "source": [
    "# libraries \n",
    "# for data processing\n",
    "import pandas as pd  # for reading and analyzing the data\n",
    "#for  visualizations\n",
    "import seaborn as sns\n",
    "import matplotlib.pyplot as plt\n",
    "from pandas_profiling import ProfileReport\n",
    "#to split data into training and testing \n",
    "from sklearn.model_selection import train_test_split\n",
    "##feature selection \n",
    "from sklearn.feature_selection import mutual_info_classif # attribute selection method 1\n",
    "##classifications\n",
    "from sklearn.linear_model import LogisticRegression #clf1\n",
    "from sklearn.tree import DecisionTreeClassifier #clf2\n",
    "from sklearn.neighbors import KNeighborsClassifier#clf3\n",
    "from sklearn import svm #clf4\n",
    "from sklearn.neural_network import MLPClassifier#clf5\n",
    "#accuracy measurement\n",
    "from sklearn.metrics import accuracy_score\n",
    "from sklearn.metrics import confusion_matrix\n",
    "from sklearn.metrics import log_loss, roc_auc_score, recall_score, precision_score, average_precision_score, f1_score, classification_report\n",
    "from sklearn import metrics\n",
    "#data transformation \n",
    "from sklearn import preprocessing\n",
    "\n",
    "\n",
    "\n"
   ]
  },
  {
   "cell_type": "code",
   "execution_count": 4,
   "metadata": {},
   "outputs": [
    {
     "data": {
      "text/html": [
       "<div>\n",
       "<style scoped>\n",
       "    .dataframe tbody tr th:only-of-type {\n",
       "        vertical-align: middle;\n",
       "    }\n",
       "\n",
       "    .dataframe tbody tr th {\n",
       "        vertical-align: top;\n",
       "    }\n",
       "\n",
       "    .dataframe thead th {\n",
       "        text-align: right;\n",
       "    }\n",
       "</style>\n",
       "<table border=\"1\" class=\"dataframe\">\n",
       "  <thead>\n",
       "    <tr style=\"text-align: right;\">\n",
       "      <th></th>\n",
       "      <th>x.aidtst3</th>\n",
       "      <th>employ1</th>\n",
       "      <th>income2</th>\n",
       "      <th>weight2</th>\n",
       "      <th>height3</th>\n",
       "      <th>children</th>\n",
       "      <th>veteran3</th>\n",
       "      <th>blind</th>\n",
       "      <th>renthom1</th>\n",
       "      <th>sex1</th>\n",
       "      <th>...</th>\n",
       "      <th>x.denvst3</th>\n",
       "      <th>x.prace1</th>\n",
       "      <th>x.mrace1</th>\n",
       "      <th>x.exteth3</th>\n",
       "      <th>x.asthms1</th>\n",
       "      <th>x.michd</th>\n",
       "      <th>x.ltasth1</th>\n",
       "      <th>x.casthm1</th>\n",
       "      <th>x.state</th>\n",
       "      <th>havarth3</th>\n",
       "    </tr>\n",
       "  </thead>\n",
       "  <tbody>\n",
       "    <tr>\n",
       "      <th>0</th>\n",
       "      <td>2.0</td>\n",
       "      <td>1.0</td>\n",
       "      <td>8.0</td>\n",
       "      <td>138.0</td>\n",
       "      <td>504.0</td>\n",
       "      <td>2.0</td>\n",
       "      <td>2.0</td>\n",
       "      <td>2.0</td>\n",
       "      <td>1.0</td>\n",
       "      <td>2</td>\n",
       "      <td>...</td>\n",
       "      <td>1</td>\n",
       "      <td>1</td>\n",
       "      <td>1</td>\n",
       "      <td>1</td>\n",
       "      <td>3</td>\n",
       "      <td>2.0</td>\n",
       "      <td>1</td>\n",
       "      <td>1</td>\n",
       "      <td>27</td>\n",
       "      <td>2</td>\n",
       "    </tr>\n",
       "    <tr>\n",
       "      <th>1</th>\n",
       "      <td>1.0</td>\n",
       "      <td>1.0</td>\n",
       "      <td>4.0</td>\n",
       "      <td>240.0</td>\n",
       "      <td>507.0</td>\n",
       "      <td>88.0</td>\n",
       "      <td>2.0</td>\n",
       "      <td>1.0</td>\n",
       "      <td>2.0</td>\n",
       "      <td>1</td>\n",
       "      <td>...</td>\n",
       "      <td>2</td>\n",
       "      <td>1</td>\n",
       "      <td>1</td>\n",
       "      <td>2</td>\n",
       "      <td>3</td>\n",
       "      <td>2.0</td>\n",
       "      <td>1</td>\n",
       "      <td>1</td>\n",
       "      <td>72</td>\n",
       "      <td>2</td>\n",
       "    </tr>\n",
       "    <tr>\n",
       "      <th>2</th>\n",
       "      <td>1.0</td>\n",
       "      <td>1.0</td>\n",
       "      <td>6.0</td>\n",
       "      <td>120.0</td>\n",
       "      <td>504.0</td>\n",
       "      <td>88.0</td>\n",
       "      <td>2.0</td>\n",
       "      <td>2.0</td>\n",
       "      <td>1.0</td>\n",
       "      <td>2</td>\n",
       "      <td>...</td>\n",
       "      <td>1</td>\n",
       "      <td>6</td>\n",
       "      <td>6</td>\n",
       "      <td>2</td>\n",
       "      <td>3</td>\n",
       "      <td>2.0</td>\n",
       "      <td>1</td>\n",
       "      <td>1</td>\n",
       "      <td>31</td>\n",
       "      <td>2</td>\n",
       "    </tr>\n",
       "    <tr>\n",
       "      <th>3</th>\n",
       "      <td>2.0</td>\n",
       "      <td>7.0</td>\n",
       "      <td>77.0</td>\n",
       "      <td>133.0</td>\n",
       "      <td>502.0</td>\n",
       "      <td>88.0</td>\n",
       "      <td>2.0</td>\n",
       "      <td>2.0</td>\n",
       "      <td>1.0</td>\n",
       "      <td>2</td>\n",
       "      <td>...</td>\n",
       "      <td>1</td>\n",
       "      <td>1</td>\n",
       "      <td>1</td>\n",
       "      <td>2</td>\n",
       "      <td>3</td>\n",
       "      <td>2.0</td>\n",
       "      <td>1</td>\n",
       "      <td>1</td>\n",
       "      <td>45</td>\n",
       "      <td>2</td>\n",
       "    </tr>\n",
       "    <tr>\n",
       "      <th>4</th>\n",
       "      <td>9.0</td>\n",
       "      <td>7.0</td>\n",
       "      <td>8.0</td>\n",
       "      <td>170.0</td>\n",
       "      <td>505.0</td>\n",
       "      <td>88.0</td>\n",
       "      <td>2.0</td>\n",
       "      <td>2.0</td>\n",
       "      <td>1.0</td>\n",
       "      <td>2</td>\n",
       "      <td>...</td>\n",
       "      <td>1</td>\n",
       "      <td>1</td>\n",
       "      <td>1</td>\n",
       "      <td>1</td>\n",
       "      <td>3</td>\n",
       "      <td>2.0</td>\n",
       "      <td>1</td>\n",
       "      <td>1</td>\n",
       "      <td>24</td>\n",
       "      <td>2</td>\n",
       "    </tr>\n",
       "  </tbody>\n",
       "</table>\n",
       "<p>5 rows × 108 columns</p>\n",
       "</div>"
      ],
      "text/plain": [
       "   x.aidtst3  employ1  income2  weight2  height3  children  veteran3  blind  \\\n",
       "0        2.0      1.0      8.0    138.0    504.0       2.0       2.0    2.0   \n",
       "1        1.0      1.0      4.0    240.0    507.0      88.0       2.0    1.0   \n",
       "2        1.0      1.0      6.0    120.0    504.0      88.0       2.0    2.0   \n",
       "3        2.0      7.0     77.0    133.0    502.0      88.0       2.0    2.0   \n",
       "4        9.0      7.0      8.0    170.0    505.0      88.0       2.0    2.0   \n",
       "\n",
       "   renthom1  sex1  ...  x.denvst3  x.prace1  x.mrace1  x.exteth3  x.asthms1  \\\n",
       "0       1.0     2  ...          1         1         1          1          3   \n",
       "1       2.0     1  ...          2         1         1          2          3   \n",
       "2       1.0     2  ...          1         6         6          2          3   \n",
       "3       1.0     2  ...          1         1         1          2          3   \n",
       "4       1.0     2  ...          1         1         1          1          3   \n",
       "\n",
       "   x.michd  x.ltasth1  x.casthm1  x.state  havarth3  \n",
       "0      2.0          1          1       27         2  \n",
       "1      2.0          1          1       72         2  \n",
       "2      2.0          1          1       31         2  \n",
       "3      2.0          1          1       45         2  \n",
       "4      2.0          1          1       24         2  \n",
       "\n",
       "[5 rows x 108 columns]"
      ]
     },
     "execution_count": 4,
     "metadata": {},
     "output_type": "execute_result"
    }
   ],
   "source": [
    "# saving as df \n",
    "df= pd.read_csv(\"dataClean.csv\", index_col = False)\n",
    "df.head()"
   ]
  },
  {
   "cell_type": "code",
   "execution_count": 5,
   "metadata": {},
   "outputs": [],
   "source": [
    "X= df.loc[ :,  ~df.columns.isin(['havarth3']) ]\n",
    "y = df.loc[:, 'havarth3':'havarth3']"
   ]
  },
  {
   "cell_type": "code",
   "execution_count": 6,
   "metadata": {},
   "outputs": [
    {
     "name": "stdout",
     "output_type": "stream",
     "text": [
      "original data size  (11933, 108)\n",
      "training data size (7995, 107)\n",
      "testing data size  (3938, 107)\n"
     ]
    }
   ],
   "source": [
    "X_train, X_test, y_train, y_test  = train_test_split(X, y, test_size=0.33 ,random_state = 42)\n",
    "print(\"original data size \", df.shape)\n",
    "print(\"training data size\", X_train.shape)\n",
    "print(\"testing data size \", X_test.shape)\n",
    "# print(X_train.head())"
   ]
  },
  {
   "cell_type": "code",
   "execution_count": 45,
   "metadata": {},
   "outputs": [],
   "source": [
    "# X_train_csv= X_train\n",
    "# X_train_csv[\"target\"]= y_train\n",
    "# X_train_csv.to_csv(\"X_train.csv\")"
   ]
  },
  {
   "cell_type": "code",
   "execution_count": 7,
   "metadata": {},
   "outputs": [
    {
     "name": "stdout",
     "output_type": "stream",
     "text": [
      "categorical data\n",
      "['x.aidtst3', 'employ1', 'veteran3', 'blind', 'renthom1', 'sex1', 'marital', 'educa', 'deaf', 'decide', 'x.drnkdrv', 'flushot6', 'seatbelt', 'hivtst6', 'hivrisk5', 'pneuvac4', 'diffwalk', 'usenow3', 'diffdres', 'diffalon', 'smoke100', 'rmvteth4', 'lastden4', 'diabete3', 'hlthpln1', 'genhlth', 'dispcode', 'chckdny1', 'iyear', 'persdoc2', 'medcost', 'checkup1', 'exerany2', 'chcocncr', 'chccopd1', 'addepev2', 'chcscncr', 'asthma3', 'cvdstrk3', 'cvdinfr4', 'cvdcrhd4', 'qstver', 'qstlang', 'x.metstat', 'x.bmi5cat', 'x.age.g', 'x.raceg21', 'x.race.g1', 'x.age65yr', 'x.rfbmi5', 'x.chldcnt', 'x.educag', 'x.incomg', 'x.rfdrhv6', 'x.rfseat2', 'x.rfseat3', 'x.rfbing5', 'x.smoker3', 'x.rfsmok3', 'drnkany5', 'x.racegr3', 'x.race', 'x.urbstat', 'x.chispnc', 'x.rfhlth', 'x.dualuse', 'x.imprace', 'x.hispanc', 'x.phys14d', 'x.ment14d', 'x.hcvu651', 'x.totinda', 'x.denvst3', 'x.prace1', 'x.mrace1', 'x.exteth3', 'x.asthms1', 'x.michd', 'x.ltasth1', 'x.casthm1']\n",
      "numeric data\n",
      "['income2', 'weight2', 'height3', 'children', 'alcday5', 'x.psu', 'physhlth', 'menthlth', 'fmonth', 'imonth', 'iday', 'sleptim1', 'htin4', 'wtkg3', 'x.bmi5', 'htm4', 'x.age80', 'x.ageg5yr', 'x.drnkwek', 'drocdy3.', 'x.llcpwt2', 'x.llcpwt', 'x.wt2rake', 'x.ststr', 'x.strwt', 'x.rawrake', 'x.state']\n"
     ]
    }
   ],
   "source": [
    "import numpy as np\n",
    "categ_data =[]\n",
    "numeric_data = []\n",
    "X_train_col = X_train.columns.to_list()\n",
    "for column in X_train_col:\n",
    "    unique_values = len(X_train[column].value_counts())\n",
    "    if unique_values < 10:\n",
    "        categ_data.append(column)\n",
    "    else:\n",
    "        numeric_data.append(column)\n",
    "print(\"categorical data\")    \n",
    "print(categ_data)\n",
    "print(\"numeric data\")\n",
    "print(numeric_data)"
   ]
  },
  {
   "cell_type": "code",
   "execution_count": 8,
   "metadata": {},
   "outputs": [],
   "source": [
    "numeric_var = [\"weight2\",\"height3\",\"children\",\"alcday5\",\"x.psu\",\"physhlth\",\"menthlth\",\"sleptim1\",\"htin4\",\"wtkg3\",\"x.bmi5\",\"htm4\",\"x.drnkwek\",\"drocdy3.\",\"x.llcpwt2\",\"x.llcpwt\",\"x.wt2rake\",\"x.ststr\"\n",
    ",\"x.strwt\",\"x.rawrake\"]\n",
    "\n",
    "categorical = X_train.loc[:, ~X_train.columns.isin(numeric_var)].columns.to_list()\n"
   ]
  },
  {
   "cell_type": "code",
   "execution_count": 9,
   "metadata": {},
   "outputs": [
    {
     "data": {
      "text/plain": [
       "['fmonth', 'x.ageg5yr', 'iday', 'income2', 'imonth', 'x.age80', 'x.state']"
      ]
     },
     "execution_count": 9,
     "metadata": {},
     "output_type": "execute_result"
    }
   ],
   "source": [
    "list(set(numeric_data) - set(numeric_var))"
   ]
  },
  {
   "cell_type": "markdown",
   "metadata": {},
   "source": [
    "We have have only above differences. We know that dates are not count as numeric and ranges, state number not a numeric variable.We are now sure that our data is correct. "
   ]
  },
  {
   "cell_type": "markdown",
   "metadata": {},
   "source": [
    "-----------------------------------------------"
   ]
  },
  {
   "cell_type": "markdown",
   "metadata": {},
   "source": [
    "**----------------------------------------------------Iteration One-------------------------------------------------**"
   ]
  },
  {
   "cell_type": "markdown",
   "metadata": {},
   "source": [
    "**Attribute Selection Method : Information Gain/Mutual Information**"
   ]
  },
  {
   "cell_type": "markdown",
   "metadata": {},
   "source": [
    "First attribute selection method is Information Gain/Mutual Information. This is a filtering method. It means we will use univariate statistics to pick our attributes and filter them based on their information gain. We will only select the ones with high information gain. "
   ]
  },
  {
   "cell_type": "code",
   "execution_count": 13,
   "metadata": {},
   "outputs": [],
   "source": [
    "# takes df, return to df \n",
    "def mutualInfo(X_train, y_train, X_test):\n",
    "    #initating the mututal info object\n",
    "    mutual_info = mutual_info_classif(X_train, y_train.values.ravel(), random_state=42)\n",
    "    #coverting to series\n",
    "    mutual_info = pd.Series(mutual_info)\n",
    "    #renaming index with column names\n",
    "    mutual_info.index = X_train.columns\n",
    "    #sorting\n",
    "    mutual_info.sort_values(ascending=False)\n",
    "    #mutual_info.between(0.1,1 ) because we do not want the one that has zero rate\n",
    "    #filtering the data with only selected attributes\n",
    "    mutual_info[mutual_info.between(0.01,1 )].sort_values(ascending=False).plot.bar(figsize=(8, 8))\n",
    "    X_train_20= X_train[mutual_info[mutual_info.between(0.01,1 )].sort_values(ascending=False)[0:20].index.to_list()]\n",
    "    X_test_20 = X_test[mutual_info[mutual_info.between(0.01,1 )].sort_values(ascending=False)[0:20].index.to_list()]\n",
    "    return X_train_20, X_test_20\n"
   ]
  },
  {
   "cell_type": "code",
   "execution_count": 14,
   "metadata": {},
   "outputs": [
    {
     "name": "stdout",
     "output_type": "stream",
     "text": [
      "new size X_train (7995, 20)\n",
      "new size X_train (3938, 20)\n",
      "selected column names Index(['x.age80', 'x.ageg5yr', 'x.age.g', 'employ1', 'diffwalk', 'x.hcvu651',\n",
      "       'genhlth', 'x.age65yr', 'marital', 'x.phys14d', 'physhlth', 'rmvteth4',\n",
      "       'pneuvac4', 'x.rfhlth', 'x.ststr', 'x.exteth3', 'persdoc2', 'qstver',\n",
      "       'x.strwt', 'chccopd1'],\n",
      "      dtype='object')\n"
     ]
    },
    {
     "data": {
      "image/png": "[encoded data removed]",
      "text/plain": [
       "<Figure size 800x800 with 1 Axes>"
      ]
     },
     "metadata": {},
     "output_type": "display_data"
    }
   ],
   "source": [
    "# reduced data set 1\n",
    "X_train_reduced1 , X_test_reduced1= mutualInfo(X_train, y_train, X_test)\n",
    "print(\"new size X_train\",X_train_reduced1.shape )\n",
    "print(\"new size X_train\",X_test_reduced1.shape )\n",
    "print(\"selected column names\",X_test_reduced1.columns)"
   ]
  },
  {
   "cell_type": "markdown",
   "metadata": {},
   "source": [
    "**Model Creation : Initializing 5 models**"
   ]
  },
  {
   "cell_type": "markdown",
   "metadata": {},
   "source": [
    "**Classifier  1- Logistic Regression**"
   ]
  },
  {
   "cell_type": "code",
   "execution_count": 51,
   "metadata": {},
   "outputs": [],
   "source": [
    "def lRMaker(X_train, y_train, X_test):\n",
    "    # instantiate the model (using the default parameters)\n",
    "    m = LogisticRegression(random_state=0) # initialize lr\n",
    "    m.fit(X_train,y_train.values.ravel())# fit the training data to train the data\n",
    "    y_pred = m.predict(X_test) # use test data to predict\n",
    "    return m, y_pred\n",
    "    "
   ]
  },
  {
   "cell_type": "code",
   "execution_count": 52,
   "metadata": {},
   "outputs": [],
   "source": [
    "def printAccuracy(y_test, y_pred):\n",
    "    cm = confusion_matrix(y_test, y_pred)\n",
    "    TP, FP, FN, TN = cm.ravel() \n",
    "    group_names = [\"TP\", \"FP\", \"FN\", \"TN\"]\n",
    "    group_counts = [\"{0:0.0f}\".format(value) for value in\n",
    "                    cm.flatten()]\n",
    "    group_percentages = [\"{0:.2%}\".format(value) for value in\n",
    "                        cm.flatten()/np.sum(cm)]\n",
    "    labels = [f\"{v1}\\n{v2}\\n{v3}\" for v1, v2, v3 in\n",
    "            zip(group_names,group_counts,group_percentages)]\n",
    "    labels = np.asarray(labels).reshape(2,2)\n",
    "    sns.heatmap(cm, annot=labels, fmt='', cmap='mako')\n",
    "    P = TP+FP\n",
    "    N= FN+ TN\n",
    "    TPR_log = TP/P\n",
    "    TNR_log = TN /N \n",
    "\n",
    "    my_accuracy_score_log= accuracy_score(y_test, y_pred)\n",
    "    my_matrix_values_1 = {\"TN\":TN, \"FP\":FP, \"FN\":FN, \"TP\":TP,\"Accuracy\":my_accuracy_score_log,\n",
    "                      \"Sensitivity: TPR\":TPR_log,\"Specificity: TNR\":TNR_log}\n",
    "    result_of_m = pd.DataFrame(my_matrix_values_1 , index=[0])\n",
    "    print(result_of_m)\n",
    "    #return my_accuracy_score_log\n",
    "    print('Log loss = {:.5f}'.format(log_loss(y_test, y_pred)))\n",
    "    print('AUC = {:.5f}'.format(roc_auc_score(y_test, y_pred)))\n",
    "    print('Average Precision = {:.5f}'.format(average_precision_score(y_test, y_pred)))\n",
    "    print('\\nUsing 0.5 as threshold:')\n",
    "    print('Accuracy = {:.5f}'.format(accuracy_score(y_test, y_pred)))\n",
    "    print('Precision = {:.5f}'.format(precision_score(y_test, y_pred)))\n",
    "    print('Recall = {:.5f}'.format(recall_score(y_test, y_pred)))\n",
    "    print('F1 score = {:.5f}'.format(f1_score(y_test, y_pred)))\n",
    "    print('\\nClassification Report')\n",
    "    print(classification_report(y_test, y_pred))\n",
    "    print(\"Note that in binary classification, recall of the positive class is also known as “sensitivity”; recall of the negative class is 'specificity'.\")\n",
    "    return result_of_m\n"
   ]
  },
  {
   "cell_type": "markdown",
   "metadata": {},
   "source": [
    "***Model 1***"
   ]
  },
  {
   "cell_type": "code",
   "execution_count": 26,
   "metadata": {},
   "outputs": [],
   "source": [
    "m1_lr, m1_y_pred_lr= lRMaker(X_train=X_train_reduced1, y_train=y_train, X_test=X_test_reduced1)"
   ]
  },
  {
   "cell_type": "code",
   "execution_count": 28,
   "metadata": {},
   "outputs": [
    {
     "name": "stdout",
     "output_type": "stream",
     "text": [
      "     TN   FP   FN   TP  Accuracy  Sensitivity: TPR  Specificity: TNR\n",
      "0  2212  785  418  523  0.694515          0.399847          0.841065\n",
      "Log loss = 11.97184\n",
      "AUC = 0.62046\n",
      "Average Precision = 0.29001\n",
      "\n",
      "Using 0.5 as threshold:\n",
      "Accuracy = 0.69451\n",
      "Precision = 0.55579\n",
      "Recall = 0.39985\n",
      "F1 score = 0.46510\n",
      "\n",
      "Classification Report\n",
      "              precision    recall  f1-score   support\n",
      "\n",
      "           1       0.56      0.40      0.47      1308\n",
      "           2       0.74      0.84      0.79      2630\n",
      "\n",
      "    accuracy                           0.69      3938\n",
      "   macro avg       0.65      0.62      0.63      3938\n",
      "weighted avg       0.68      0.69      0.68      3938\n",
      "\n",
      "Note that in binary classification, recall of the positive class is also known as “sensitivity”; recall of the negative class is 'specificity'.\n"
     ]
    },
    {
     "data": {
      "image/png": "[encoded data removed]",
      "text/plain": [
       "<Figure size 640x480 with 2 Axes>"
      ]
     },
     "metadata": {},
     "output_type": "display_data"
    }
   ],
   "source": [
    "m1_lr_result = printAccuracy(y_test, m1_y_pred_lr)"
   ]
  },
  {
   "cell_type": "markdown",
   "metadata": {},
   "source": [
    "***Classifier 2-Decision Tree Classifier***"
   ]
  },
  {
   "cell_type": "markdown",
   "metadata": {},
   "source": [
    "***Model 2***"
   ]
  },
  {
   "cell_type": "code",
   "execution_count": 38,
   "metadata": {},
   "outputs": [],
   "source": [
    "def dTMaker(X_train, y_train, X_test):\n",
    "    #max_depth to control the size of the tree to prevent overfitting\n",
    "    m = DecisionTreeClassifier(max_depth=3, random_state=42)\n",
    "    m = m.fit(X_train, y_train.values.ravel())\n",
    "    y_pred = m.predict(X_test)\n",
    "    return m , y_pred"
   ]
  },
  {
   "cell_type": "code",
   "execution_count": 39,
   "metadata": {},
   "outputs": [],
   "source": [
    "m2_dt, m2_y_pred_dt  = dTMaker (X_train=X_train_reduced1, y_train=y_train, X_test=X_test_reduced1)"
   ]
  },
  {
   "cell_type": "code",
   "execution_count": 40,
   "metadata": {},
   "outputs": [
    {
     "name": "stdout",
     "output_type": "stream",
     "text": [
      "     TN   FP   FN   TP  Accuracy  Sensitivity: TPR  Specificity: TNR\n",
      "0  2276  652  354  656   0.74454          0.501529          0.865399\n",
      "Log loss = 11.97184\n",
      "AUC = 0.68346\n",
      "Average Precision = 0.27758\n",
      "\n",
      "Using 0.5 as threshold:\n",
      "Accuracy = 0.74454\n",
      "Precision = 0.64950\n",
      "Recall = 0.50153\n",
      "F1 score = 0.56601\n",
      "\n",
      "Classification Report\n",
      "              precision    recall  f1-score   support\n",
      "\n",
      "           1       0.65      0.50      0.57      1308\n",
      "           2       0.78      0.87      0.82      2630\n",
      "\n",
      "    accuracy                           0.74      3938\n",
      "   macro avg       0.71      0.68      0.69      3938\n",
      "weighted avg       0.73      0.74      0.73      3938\n",
      "\n",
      "Note that in binary classification, recall of the positive class is also known as “sensitivity”; recall of the negative class is 'specificity'.\n"
     ]
    },
    {
     "data": {
      "image/png": "[encoded data removed]",
      "text/plain": [
       "<Figure size 640x480 with 2 Axes>"
      ]
     },
     "metadata": {},
     "output_type": "display_data"
    }
   ],
   "source": [
    "# printing dt result \n",
    "m2_dt_result = printAccuracy(y_test, m2_y_pred_dt)"
   ]
  },
  {
   "cell_type": "markdown",
   "metadata": {},
   "source": [
    "***Model 3 : K-Nearest Neighbors Classifier (KNN)***"
   ]
  },
  {
   "cell_type": "code",
   "execution_count": 53,
   "metadata": {},
   "outputs": [],
   "source": [
    "def kNNMaker(X_train,y_train,X_test):\n",
    "    scaler =preprocessing.StandardScaler().fit(X_train)\n",
    "    X_train_scaled = scaler.transform(X_train)\n",
    "    X_test_scaled= scaler.transform(X_test)\n",
    "    m = KNeighborsClassifier(n_neighbors=9)\n",
    "    m.fit(X_train_scaled, y_train.values.ravel())\n",
    "    y_pred_knn= m.predict(X_test_scaled)\n",
    "    return m , y_pred_knn"
   ]
  },
  {
   "cell_type": "code",
   "execution_count": 44,
   "metadata": {},
   "outputs": [],
   "source": [
    "m3_knn, m3_y_pred_knn  = kNNMaker(X_train=X_train_reduced1, y_train=y_train, X_test=X_test_reduced1)"
   ]
  },
  {
   "cell_type": "code",
   "execution_count": 54,
   "metadata": {},
   "outputs": [
    {
     "name": "stdout",
     "output_type": "stream",
     "text": [
      "     TN   FP   FN   TP  Accuracy  Sensitivity: TPR  Specificity: TNR\n",
      "0  2203  627  427  681  0.732351          0.520642          0.837643\n",
      "Log loss = 11.97184\n",
      "AUC = 0.67914\n",
      "Average Precision = 0.27913\n",
      "\n",
      "Using 0.5 as threshold:\n",
      "Accuracy = 0.73235\n",
      "Precision = 0.61462\n",
      "Recall = 0.52064\n",
      "F1 score = 0.56374\n",
      "\n",
      "Classification Report\n",
      "              precision    recall  f1-score   support\n",
      "\n",
      "           1       0.61      0.52      0.56      1308\n",
      "           2       0.78      0.84      0.81      2630\n",
      "\n",
      "    accuracy                           0.73      3938\n",
      "   macro avg       0.70      0.68      0.69      3938\n",
      "weighted avg       0.72      0.73      0.73      3938\n",
      "\n",
      "Note that in binary classification, recall of the positive class is also known as “sensitivity”; recall of the negative class is 'specificity'.\n"
     ]
    },
    {
     "data": {
      "image/png": "[encoded data removed]",
      "text/plain": [
       "<Figure size 640x480 with 2 Axes>"
      ]
     },
     "metadata": {},
     "output_type": "display_data"
    }
   ],
   "source": [
    "m3_knn_result = printAccuracy(y_test, m3_y_pred_knn)"
   ]
  },
  {
   "cell_type": "markdown",
   "metadata": {},
   "source": [
    "***Classifier 4 : Support vector machine (SVM)***"
   ]
  },
  {
   "cell_type": "code",
   "execution_count": 55,
   "metadata": {},
   "outputs": [],
   "source": [
    "def sVMMaker(X_train,y_train,X_test ):\n",
    "    scaler =preprocessing.StandardScaler().fit(X_train)\n",
    "    X_train_scaled = scaler.transform(X_train)\n",
    "    X_test_scaled= scaler.transform(X_test)\n",
    "    m= svm.SVC(random_state=0)\n",
    "    m = m.fit(X_train_scaled, y_train.values.ravel())\n",
    "    y_pred_svm= m.predict(X_test_scaled)\n",
    "    return m, y_pred_svm"
   ]
  },
  {
   "cell_type": "markdown",
   "metadata": {},
   "source": [
    "***Model 4***"
   ]
  },
  {
   "cell_type": "code",
   "execution_count": 56,
   "metadata": {},
   "outputs": [],
   "source": [
    "m4_svm, m4_y_pred_svm  = sVMMaker(X_train=X_train_reduced1, y_train=y_train, X_test=X_test_reduced1)"
   ]
  },
  {
   "cell_type": "code",
   "execution_count": 57,
   "metadata": {},
   "outputs": [
    {
     "name": "stdout",
     "output_type": "stream",
     "text": [
      "     TN   FP   FN   TP  Accuracy  Sensitivity: TPR  Specificity: TNR\n",
      "0  2351  690  279  618  0.753936          0.472477          0.893916\n",
      "Log loss = 11.97184\n",
      "AUC = 0.68320\n",
      "Average Precision = 0.27663\n",
      "\n",
      "Using 0.5 as threshold:\n",
      "Accuracy = 0.75394\n",
      "Precision = 0.68896\n",
      "Recall = 0.47248\n",
      "F1 score = 0.56054\n",
      "\n",
      "Classification Report\n",
      "              precision    recall  f1-score   support\n",
      "\n",
      "           1       0.69      0.47      0.56      1308\n",
      "           2       0.77      0.89      0.83      2630\n",
      "\n",
      "    accuracy                           0.75      3938\n",
      "   macro avg       0.73      0.68      0.69      3938\n",
      "weighted avg       0.75      0.75      0.74      3938\n",
      "\n",
      "Note that in binary classification, recall of the positive class is also known as “sensitivity”; recall of the negative class is 'specificity'.\n"
     ]
    },
    {
     "data": {
      "image/png": "[encoded data removed]",
      "text/plain": [
       "<Figure size 640x480 with 2 Axes>"
      ]
     },
     "metadata": {},
     "output_type": "display_data"
    }
   ],
   "source": [
    "m4_svm_result = printAccuracy(y_test, m4_y_pred_svm)"
   ]
  },
  {
   "cell_type": "markdown",
   "metadata": {},
   "source": [
    "***Classifier 5: neural_network.MLPClassifier***"
   ]
  },
  {
   "cell_type": "code",
   "execution_count": 59,
   "metadata": {},
   "outputs": [],
   "source": [
    "def mLPMaker(X_train,X_test, y_train):\n",
    "    scaler =preprocessing.StandardScaler().fit(X_train)\n",
    "    X_train_scaled = scaler.transform(X_train)\n",
    "    X_test_scaled= scaler.transform(X_test)\n",
    "    m = MLPClassifier(random_state=0, max_iter=1).fit(X_train_scaled, y_train.values.ravel())\n",
    "    y_pred_mlp= m.predict(X_test_scaled)\n",
    "    return m, y_pred_mlp\n"
   ]
  },
  {
   "cell_type": "code",
   "execution_count": 60,
   "metadata": {},
   "outputs": [
    {
     "name": "stderr",
     "output_type": "stream",
     "text": [
      "/home/harnold/github/2018_BRFSS_survey_data_anlaysis/env/lib/python3.8/site-packages/sklearn/neural_network/_multilayer_perceptron.py:679: ConvergenceWarning: Stochastic Optimizer: Maximum iterations (1) reached and the optimization hasn't converged yet.\n",
      "  warnings.warn(\n"
     ]
    }
   ],
   "source": [
    "m5_mlp , m5_y_pred_mlp  = mLPMaker(X_train=X_train_reduced1, y_train=y_train, X_test=X_test_reduced1)"
   ]
  },
  {
   "cell_type": "code",
   "execution_count": 63,
   "metadata": {},
   "outputs": [
    {
     "name": "stdout",
     "output_type": "stream",
     "text": [
      "     TN   FP   FN   TP  Accuracy  Sensitivity: TPR  Specificity: TNR\n",
      "0  2302  681  328  627  0.743779          0.479358          0.875285\n",
      "Log loss = 11.97184\n",
      "AUC = 0.67732\n",
      "Average Precision = 0.27808\n",
      "\n",
      "Using 0.5 as threshold:\n",
      "Accuracy = 0.74378\n",
      "Precision = 0.65654\n",
      "Recall = 0.47936\n",
      "F1 score = 0.55413\n",
      "\n",
      "Classification Report\n",
      "              precision    recall  f1-score   support\n",
      "\n",
      "           1       0.66      0.48      0.55      1308\n",
      "           2       0.77      0.88      0.82      2630\n",
      "\n",
      "    accuracy                           0.74      3938\n",
      "   macro avg       0.71      0.68      0.69      3938\n",
      "weighted avg       0.73      0.74      0.73      3938\n",
      "\n",
      "Note that in binary classification, recall of the positive class is also known as “sensitivity”; recall of the negative class is 'specificity'.\n"
     ]
    },
    {
     "data": {
      "image/png": "[encoded data removed]",
      "text/plain": [
       "<Figure size 640x480 with 2 Axes>"
      ]
     },
     "metadata": {},
     "output_type": "display_data"
    }
   ],
   "source": [
    "m5_mlp_result = printAccuracy(y_test, m5_y_pred_mlp)"
   ]
  },
  {
   "cell_type": "markdown",
   "metadata": {},
   "source": [
    "------------------------------------------------- End of iteration 1------------------------------------------"
   ]
  },
  {
   "cell_type": "markdown",
   "metadata": {},
   "source": [
    "------------------------------------------------------------------ Iteration 2 -----------------------------------------------"
   ]
  },
  {
   "cell_type": "code",
   "execution_count": null,
   "metadata": {},
   "outputs": [],
   "source": [
    "# from sklearn.feature_selection import SelectKBest\n",
    "# select_twenty_cols = SelectKBest(mutual_info_classif, k=20)\n",
    "# train_twenty = select_twenty_cols.fit_transform(X_train, y_train.values.ravel())\n",
    "# print(X_train.columns[select_twenty_cols.get_support()])\n",
    "# X_train_20 = select_twenty_cols.transform(X_train)\n",
    "# X_train_20 = X_train.iloc[ :, select_twenty_cols.get_support()]\n",
    "# X_test_20 = select_twenty_cols.transform(X_test)\n",
    "# X_test_20  = X_test.iloc[ :, select_twenty_cols.get_support()]\n",
    "\n",
    "# print(\"Train data length\", X_train.shape)\n",
    "# print(\"After attribute reduction\", X_test_20.shape)\n",
    "# print(X_test_20.head())\n",
    "\n",
    "# new_df= X_train.iloc[ :, select_twenty_cols.get_support()]\n",
    "# new_df.head()"
   ]
  },
  {
   "cell_type": "markdown",
   "metadata": {},
   "source": [
    "## Model creation"
   ]
  },
  {
   "cell_type": "markdown",
   "metadata": {},
   "source": [
    "## Logistic Regretion "
   ]
  },
  {
   "cell_type": "code",
   "execution_count": null,
   "metadata": {},
   "outputs": [],
   "source": [
    "# from sklearn.metrics import accuracy_score\n",
    "# # import the class\n",
    "# from sklearn.linear_model import LogisticRegression\n",
    "# # instantiate the model (using the default parameters)\n",
    "# m1_log = LogisticRegression(solver='lbfgs', max_iter=1000, random_state=0) # intiate the log reg\n",
    "# m1_log.fit(X_train_20,y_train.values.ravel())# fit the training data to train the data\n",
    "# y_pred = m1_log.predict(X_test_20) # use test data to predict\n",
    "# accuracy_m1 = accuracy_score(y_test, y_pred)\n",
    "# round(accuracy_m1,2)"
   ]
  },
  {
   "cell_type": "code",
   "execution_count": null,
   "metadata": {},
   "outputs": [],
   "source": [
    "def dropFeatureAccr(x_train,x_test, y_train, y_test):\n",
    "    accuracy_featuresDrop = []\n",
    "    column_name= list(x_train.columns.values.tolist())\n",
    "    for column in range(len(column_name)):\n",
    "        #print(\"test\", column_name[column])\n",
    "        name_col= column_name[column]\n",
    "        x_train_modified =  x_train.loc[:, ~x_train.columns.isin([name_col]) ]\n",
    "        x_test_modified =  x_test.loc[:, ~x_test.columns.isin([name_col]) ]\n",
    "        clf = LogisticRegression(solver='lbfgs', max_iter=5000) \n",
    "        clf.fit(x_train_modified,y_train.values.ravel())\n",
    "        y_pred_mod = clf.predict(x_test_modified)\n",
    "        accuracy_featuresDrop.append(accuracy_score(y_test,y_pred_mod))      \n",
    "    dictionary_feature_drop = dict(zip(column_name, accuracy_featuresDrop))\n",
    "    return dictionary_feature_drop\n",
    "\n",
    "logisticRegDrop =dropFeatureAccr(x_train= X_train_20,y_train= y_train, x_test= X_test_20, y_test = y_test) \n",
    "print(logisticRegDrop)\n",
    "print(\"max effect \")\n",
    "print(\"feature\", max(logisticRegDrop, key=logisticRegDrop.get))\n",
    "print(\"accuracy score \", logisticRegDrop.get(max(logisticRegDrop, key=logisticRegDrop.get)))\n",
    "print(\"when we drop it the accurasy score went down effect\")\n",
    "print(\"feature\",min(logisticRegDrop, key=logisticRegDrop.get))\n",
    "print(\"accuracy score \", logisticRegDrop.get(min(logisticRegDrop, key=logisticRegDrop.get)))\n",
    "\n",
    "\n",
    "# lists = logisticRegDrop.items() # sorted by key, return a list of tuples\n",
    "\n",
    "# # x, y = zip(*lists) # unpack a list of pairs into two tuples\n",
    "\n",
    "# # plt.plot(x, y)\n",
    "# # plt.xticks(x,[0,1,2,3,4,5,6,7,8,9,10])\n",
    "# # plt.show()"
   ]
  },
  {
   "cell_type": "code",
   "execution_count": null,
   "metadata": {},
   "outputs": [],
   "source": [
    "print(X_train_20.columns)\n",
    "x_train_modified = X_train_20.drop(columns=['x.ageg5yr','x.age.g', \"x.ststr\"])\n",
    "x_test_modified = X_test_20.drop(columns=[ 'x.ageg5yr', 'x.age.g',\"x.ststr\", ])\n",
    "print(\"train\", x_train_modified.shape)\n",
    "print(\"test\", x_train_modified.shape)\n",
    "m2 = LogisticRegression(solver='lbfgs', max_iter=5000, random_state=0)\n",
    "m2.fit(x_train_modified,y_train.values.ravel())\n",
    "y_pred_mod_2 = m2.predict(x_test_modified)\n",
    "accuracy_score(y_test,y_pred_mod_2)  "
   ]
  },
  {
   "cell_type": "markdown",
   "metadata": {},
   "source": [
    "***Decision Tree Classifier Model***"
   ]
  },
  {
   "cell_type": "code",
   "execution_count": null,
   "metadata": {},
   "outputs": [],
   "source": [
    "\n",
    "# max_depth to control the size of the tree to prevent overfitting\n",
    "m2_dt = DecisionTreeClassifier(max_depth=3, random_state=42)\n",
    "cm2_dt = m2_dt.fit(X_train_20, y_train)\n",
    "y_pred_dt = cm2_dt.predict(X_test_20)\n",
    "accuracy_dt = accuracy_score(y_test,y_pred_dt) \n",
    "accuracy_dt\n",
    "# from sklearn import tree\n",
    "# tree.plot_tree(cm2_dt)"
   ]
  },
  {
   "cell_type": "markdown",
   "metadata": {},
   "source": [
    "## KNN"
   ]
  },
  {
   "cell_type": "code",
   "execution_count": null,
   "metadata": {},
   "outputs": [],
   "source": [
    "from sklearn.neighbors import KNeighborsClassifier\n",
    "from sklearn import preprocessing\n",
    "from sklearn import metrics\n",
    "\n",
    "scaler =preprocessing.StandardScaler().fit(X_train_20)\n",
    "X_train_scaled = scaler.transform(X_train_20)\n",
    "X_test_scaled= scaler.transform(X_test_20)\n",
    "m3 = KNeighborsClassifier(n_neighbors=9)\n",
    "m3.fit(X_train_scaled, y_train.values.ravel())\n",
    "y_pred_knn= m3.predict(X_test_scaled)\n",
    "accuracy_knn = accuracy_score(y_test,y_pred_knn) \n",
    "accuracy_knn\n"
   ]
  },
  {
   "cell_type": "markdown",
   "metadata": {},
   "source": [
    "## SVM"
   ]
  },
  {
   "cell_type": "code",
   "execution_count": null,
   "metadata": {},
   "outputs": [],
   "source": [
    "\n",
    "\n",
    "m4_svm= svm.SVC(random_state=0)\n",
    "m4_svm = m4_svm.fit(X_train_scaled, y_train.values.ravel())\n",
    "y_pred_svm= m4_svm.predict(X_test_scaled)\n",
    "accuracy_svm  = accuracy_score(y_test,y_pred_svm) \n",
    "accuracy_svm "
   ]
  },
  {
   "cell_type": "markdown",
   "metadata": {},
   "source": [
    "## neural_network.MLPClassifier"
   ]
  },
  {
   "cell_type": "code",
   "execution_count": null,
   "metadata": {},
   "outputs": [],
   "source": [
    "from sklearn.neural_network import MLPClassifier\n",
    "\n",
    "m5_mlp = MLPClassifier(random_state=0, max_iter=1).fit(X_train_scaled, y_train.values.ravel())\n",
    "y_pred_mlp= m5_mlp.predict(X_test_scaled)\n",
    "accuracy_mlp = accuracy_score(y_test,y_pred_mlp) \n",
    "accuracy_mlp"
   ]
  },
  {
   "cell_type": "markdown",
   "metadata": {},
   "source": [
    "---------------------------------- Iteration II ----------------------------"
   ]
  },
  {
   "cell_type": "markdown",
   "metadata": {},
   "source": [
    "## Feature selection : ANOVA F-value"
   ]
  },
  {
   "cell_type": "markdown",
   "metadata": {},
   "source": [
    "### numeric feature selection "
   ]
  },
  {
   "cell_type": "code",
   "execution_count": null,
   "metadata": {},
   "outputs": [],
   "source": [
    "# from sklearn.feature_selection import f_classif \n",
    "# select = f_classif(new_df, y_train.values.ravel())\n",
    "# select_numeric = pd.Series(select[0])\n",
    "# select_numeric.index = new_df.columns\n",
    "# select_numeric.sort_values(ascending=False)\n",
    "\n"
   ]
  },
  {
   "cell_type": "code",
   "execution_count": null,
   "metadata": {},
   "outputs": [],
   "source": [
    "from sklearn.feature_selection import f_classif \n",
    "from sklearn.feature_selection import SelectKBest\n",
    "new_df= X_train[numeric_var]\n",
    "sel_five_cols = SelectKBest(f_classif, k=10)\n",
    "sel_five_cols.fit(new_df, y_train.values.ravel())\n",
    "new_df.columns[sel_five_cols.get_support()].to_list()"
   ]
  },
  {
   "cell_type": "code",
   "execution_count": null,
   "metadata": {},
   "outputs": [],
   "source": [
    "Colnames_numeric = new_df.columns[sel_five_cols.get_support()].to_list()\n",
    "Colnames_numeric"
   ]
  },
  {
   "cell_type": "markdown",
   "metadata": {},
   "source": [
    "categorical selection "
   ]
  },
  {
   "cell_type": "code",
   "execution_count": null,
   "metadata": {},
   "outputs": [],
   "source": [
    "from sklearn.feature_selection import chi2\n",
    "X_cat = X_train.loc[:,  ~X_train.columns.isin(numeric_var) ]\n",
    "f_p_values=chi2(X_cat,y_train)\n",
    "p_values=pd.Series(f_p_values[1])\n",
    "p_values.index=X_cat.columns\n",
    "p_values.sort_index(ascending=False).index.to_list()\n",
    "\n"
   ]
  },
  {
   "cell_type": "code",
   "execution_count": null,
   "metadata": {},
   "outputs": [],
   "source": [
    "from sklearn.feature_selection import chi2\n",
    "from sklearn.feature_selection import SelectKBest\n",
    "sel_five_cols = SelectKBest(score_func=chi2, k=10)\n",
    "\n",
    "sel_five_cols.fit(X_cat, y_train.values.ravel())\n",
    "categorical_features = X_cat.columns[sel_five_cols.get_support()].to_list()"
   ]
  },
  {
   "cell_type": "code",
   "execution_count": null,
   "metadata": {},
   "outputs": [],
   "source": [
    "my_columns = categorical_features+ Colnames_numeric\n",
    "\n",
    "my_columns"
   ]
  },
  {
   "cell_type": "code",
   "execution_count": null,
   "metadata": {},
   "outputs": [],
   "source": [
    "X_train_A2_num = X_train[my_columns]\n",
    "X_test_A2_num = X_test[my_columns]\n",
    "len(X_test_A2_num.columns)\n"
   ]
  },
  {
   "cell_type": "code",
   "execution_count": null,
   "metadata": {},
   "outputs": [],
   "source": [
    "# import the class\n",
    "from sklearn.linear_model import LogisticRegression\n",
    "# instantiate the model (using the default parameters)\n",
    "m2_log = LogisticRegression(solver='lbfgs', max_iter=1000, random_state=0) # intiate the log reg\n",
    "m2_log.fit(X_train_A2_num,y_train.values.ravel())# fit the training data to train the data\n",
    "y_pred_m2_log = m2_log.predict(X_test_A2_num) # use test data to predict\n",
    "accuracy_m2_log = accuracy_score(y_test, y_pred_m2_log)\n",
    "round(accuracy_m2_log,2)"
   ]
  },
  {
   "cell_type": "code",
   "execution_count": null,
   "metadata": {},
   "outputs": [],
   "source": [
    "from sklearn.neighbors import KNeighborsClassifier\n",
    "from sklearn import preprocessing\n",
    "from sklearn import metrics\n",
    "scaler =preprocessing.StandardScaler().fit(X_train_A2_num)\n",
    "print(X_train_A2_num.shape)\n",
    "print(X_test_A2_num.shape)\n",
    "X_train_scaled_2 = scaler.transform(X_train_A2_num)\n",
    "X_test_scaled_2 = scaler.transform(X_test_A2_num)\n",
    "print(X_train_scaled_2.shape)\n",
    "print(X_test_scaled_2.shape)\n",
    "m3_2 = KNeighborsClassifier(n_neighbors=9)\n",
    "m3_2.fit(X_train_scaled_2, y_train.values.ravel())\n",
    "y_pred_m3_2= m3_2.predict(X_test_scaled_2)\n",
    "accuracy_m3_2 = accuracy_score(y_test, y_pred_m3_2)\n",
    "round(accuracy_m3_2,2)"
   ]
  },
  {
   "cell_type": "markdown",
   "metadata": {},
   "source": [
    "sequential feature selection method "
   ]
  },
  {
   "cell_type": "code",
   "execution_count": null,
   "metadata": {},
   "outputs": [],
   "source": [
    "from mlxtend.feature_selection import SequentialFeatureSelector as SFS\n",
    "from sklearn.linear_model import LogisticRegression\n",
    "# instantiate the model (using the default parameters)\n",
    "model = LogisticRegression(solver='lbfgs', max_iter=1000, random_state=0)\n",
    "\n",
    "sfs1 = SFS(model, \n",
    "           k_features=7, \n",
    "           forward=True, \n",
    "           floating=False, \n",
    "           verbose=2,\n",
    "           scoring='accuracy',\n",
    "           n_jobs=-1,\n",
    "           cv=5)\n",
    "\n",
    "sfs1 = sfs1.fit(X_train, y_train.values.ravel())"
   ]
  },
  {
   "cell_type": "code",
   "execution_count": null,
   "metadata": {},
   "outputs": [],
   "source": [
    "sfs1.k_feature_names_"
   ]
  },
  {
   "cell_type": "code",
   "execution_count": null,
   "metadata": {},
   "outputs": [],
   "source": [
    "sfs1.k_score_"
   ]
  },
  {
   "cell_type": "code",
   "execution_count": null,
   "metadata": {},
   "outputs": [],
   "source": [
    "from mlxtend.plotting import plot_sequential_feature_selection as plot_sfs\n",
    "metric_dict = sfs1.get_metric_dict(confidence_interval=0.95)\n",
    "fig1 = plot_sfs(metric_dict, kind='std_dev')\n",
    "\n",
    "plt.title('Sequential Forward Selection (w. StdDev)')\n",
    "plt.grid()\n",
    "plt.show()"
   ]
  },
  {
   "cell_type": "code",
   "execution_count": null,
   "metadata": {},
   "outputs": [],
   "source": [
    "pd.DataFrame.from_dict(sfs1.get_metric_dict()).T"
   ]
  },
  {
   "cell_type": "code",
   "execution_count": null,
   "metadata": {},
   "outputs": [],
   "source": [
    "from sklearn.preprocessing import StandardScaler\n",
    "sc = StandardScaler()\n",
    "X_train_std = sc.fit_transform(X_train)\n",
    "X_test_std = sc.transform(X_test)\n",
    "\n",
    "\n",
    "from sklearn.neighbors import KNeighborsClassifier\n",
    "\n",
    "\n",
    "model2 = KNeighborsClassifier(n_neighbors=5)\n",
    "\n",
    "model2.fit(X_train_std, y_train)"
   ]
  },
  {
   "cell_type": "code",
   "execution_count": null,
   "metadata": {},
   "outputs": [],
   "source": [
    "from mlxtend.feature_selection import SequentialFeatureSelector as SFS\n",
    "\n",
    "\n",
    "sfs2 = SFS(model2, \n",
    "           k_features=5, \n",
    "           forward=True, \n",
    "           floating=False, \n",
    "           verbose=2,\n",
    "           scoring='accuracy',\n",
    "           n_jobs=-1,\n",
    "           cv=5)\n",
    "\n",
    "\n",
    "sfs2 = sfs2.fit(X_train_std, y_train.values.ravel())"
   ]
  },
  {
   "cell_type": "code",
   "execution_count": null,
   "metadata": {},
   "outputs": [],
   "source": [
    "sfs2.k_feature_names_\n",
    "sfs2.k_feature_idx_\n",
    "sfs2.k_score_"
   ]
  },
  {
   "cell_type": "code",
   "execution_count": null,
   "metadata": {},
   "outputs": [],
   "source": [
    "pd.DataFrame.from_dict(sfs2.get_metric_dict()).T"
   ]
  },
  {
   "cell_type": "code",
   "execution_count": null,
   "metadata": {},
   "outputs": [],
   "source": [
    "from sklearn.ensemble import RandomForestClassifier\n",
    "\n",
    "sfs_rf = SFS(RandomForestClassifier(n_estimators=100, random_state=0),\n",
    "          k_features =4,\n",
    "          forward= True,\n",
    "          floating = False,\n",
    "          verbose= 2,\n",
    "          scoring= 'accuracy',\n",
    "          cv = 5,\n",
    "          n_jobs= -1\n",
    "         ).fit(X_train, y_train.values.ravel())"
   ]
  },
  {
   "cell_type": "code",
   "execution_count": null,
   "metadata": {},
   "outputs": [],
   "source": [
    "\n",
    "sfs_rf.k_feature_names_\n",
    "# sfs_rf.k_feature_idx_\n",
    "sfs_rf.k_score_"
   ]
  },
  {
   "cell_type": "code",
   "execution_count": null,
   "metadata": {},
   "outputs": [],
   "source": [
    "from sklearn.ensemble import RandomForestClassifier\n",
    "from sklearn.feature_selection import SelectFromModel"
   ]
  },
  {
   "cell_type": "code",
   "execution_count": null,
   "metadata": {},
   "outputs": [],
   "source": [
    "rm = RandomForestClassifier(n_estimators=100, random_state=0)\n",
    "rm.fit(X_train, y_train)\n",
    "sel = SelectFromModel(RandomForestClassifier(n_estimators = 100, random_state=0))\n",
    "sel.fit(X_train, y_train)"
   ]
  },
  {
   "cell_type": "code",
   "execution_count": null,
   "metadata": {},
   "outputs": [],
   "source": [
    "selected_feat= X_train.columns[(sel.get_support())]\n",
    "len(selected_feat)\n",
    "print(selected_feat)"
   ]
  },
  {
   "cell_type": "code",
   "execution_count": null,
   "metadata": {},
   "outputs": [],
   "source": [
    "feature_scores = pd.Series(rm.feature_importances_, index=X_train.columns).sort_values(ascending=False)\n",
    "feature_scores"
   ]
  },
  {
   "cell_type": "markdown",
   "metadata": {},
   "source": [
    "If two variables are correlated, we can predict one from the other. Therefore, if two features are correlated, the model only really needs one of them, as the second one does not add additional information. We will use the Pearson Correlation here."
   ]
  },
  {
   "cell_type": "code",
   "execution_count": null,
   "metadata": {},
   "outputs": [],
   "source": [
    "import seaborn as sns\n",
    "numer_corr = X_train[numeric_var].corr()\n",
    "corr_pairs = numer_corr.unstack()\n",
    "corr_pairs\n",
    "# print(corr_pairs.sort_values()[0:10])\n",
    "\n",
    "# sorted_pairs =corr_pairs.sort_values()"
   ]
  },
  {
   "cell_type": "code",
   "execution_count": null,
   "metadata": {},
   "outputs": [],
   "source": [
    "from sklearn.feature_selection import chi2\n",
    "X_categorical= X_train.loc[ :,  ~X_train.columns.isin(numeric_var)]\n",
    "f_p_values=chi2(X_categorical,y_train)"
   ]
  },
  {
   "cell_type": "code",
   "execution_count": null,
   "metadata": {},
   "outputs": [],
   "source": [
    "strong_pairs = sorted_pairs[(abs(sorted_pairs) > 0.5) & (abs(sorted_pairs)<1)].sort_values()\n",
    "strong_pairs\n",
    "strong_pairs.values\n",
    "strong_pairs_df = strong_pairs.to_frame()\n",
    "strong_pairs_df = strong_pairs_df.rename(columns = {0:'corr'})\n",
    "\n",
    "strong_pairs_df.reset_index(inplace=True)\n",
    "strong_pairs_df.columns\n",
    "strong_pairs_df = strong_pairs_df.rename(columns = {'level_0':'var1','level_1':'var2' })\n",
    "print(strong_pairs_df[\"var2\"].unique())\n",
    "print(strong_pairs_df[\"var1\"].unique())\n",
    "\n",
    "strong_pairs_df\n",
    "    "
   ]
  },
  {
   "cell_type": "code",
   "execution_count": null,
   "metadata": {},
   "outputs": [],
   "source": [
    "strong_pairs_df.to_csv(\"correlated.csv\")"
   ]
  },
  {
   "cell_type": "code",
   "execution_count": null,
   "metadata": {},
   "outputs": [],
   "source": [
    "def correlation(dataset, threshold):\n",
    "    col_corr = set()  # Set of all the names of correlated columns\n",
    "    corr_matrix = dataset.corr()# creating the matrix\n",
    "    for i in range(len(corr_matrix.columns)):\n",
    "        for j in range(i):\n",
    "            if abs(corr_matrix.iloc[i, j]) > threshold: # we are interested in absolute coeff value\n",
    "                colname = corr_matrix.columns[i]  # getting the name of column\n",
    "                col_corr.add(colname)\n",
    "    return col_corr\n"
   ]
  },
  {
   "cell_type": "code",
   "execution_count": null,
   "metadata": {},
   "outputs": [],
   "source": [
    "\n",
    "corr_features = correlation(X_train[numeric_var], 0.7)\n",
    "corr_features"
   ]
  },
  {
   "cell_type": "code",
   "execution_count": null,
   "metadata": {},
   "outputs": [],
   "source": [
    "from sklearn.feature_selection import chi2\n",
    "X_categorical= X_train.loc[ :,  ~X_train.columns.isin(numeric_var)]\n",
    "f_p_values=chi2(X_categorical,y_train)\n",
    "X_categorical.shape"
   ]
  },
  {
   "cell_type": "code",
   "execution_count": null,
   "metadata": {},
   "outputs": [],
   "source": [
    "import pandas as pd\n",
    "# highier the p value lower the importance\n",
    "# A p-value less than 0.05 is typically considered to be statistically significant\n",
    "p_values=pd.Series(f_p_values[1])\n",
    "p_values.index=X_categorical.columns\n",
    "p_values.sort_values(ascending=False, inplace=True)\n",
    "column_name= p_values.index.to_list()\n",
    "values= p_values.values.tolist()\n",
    "data= pd.DataFrame(data=values,columns=['p_values'] ) # 0000001\n",
    "data[\"featureNames\"] = column_name\n",
    "# this will eliminate our features to 20\n",
    "cat= data[data[\"p_values\"]>0.00000000000000000000000001].featureNames.to_list()\n",
    "len(cat)"
   ]
  },
  {
   "cell_type": "code",
   "execution_count": null,
   "metadata": {},
   "outputs": [],
   "source": [
    "p_values.plot.bar()"
   ]
  },
  {
   "cell_type": "code",
   "execution_count": null,
   "metadata": {},
   "outputs": [],
   "source": [
    "X_categorical = X_train.loc[ :,  ~X_train.columns.isin(numeric_var)]\n",
    "# Two features with highest chi-squared statistics are selected\n",
    "chi2_features = SelectKBest(chi2, k = 15)\n",
    "X_kbest_features = chi2_features.fit_transform(X_categorical, y_train)\n",
    "  \n",
    "# Reduced features\n",
    "print('Original feature number:', X_categorical.shape[1])\n",
    "print('Reduced feature number:', X_kbest_features.shape[1])\n",
    "X_categorical.columns[chi2_features.get_support()].to_list()"
   ]
  },
  {
   "cell_type": "code",
   "execution_count": null,
   "metadata": {},
   "outputs": [],
   "source": [
    "\n",
    "corr_features\n",
    "dropped_features = list(corr_features)\n",
    "print(len(cat))"
   ]
  },
  {
   "cell_type": "code",
   "execution_count": null,
   "metadata": {},
   "outputs": [],
   "source": [
    "X_train_dropped = X_train.loc[ :,  ~X_train.columns.isin(dropped_features) ]\n",
    "X_test_dropped = X_test.loc[ :,  ~X_test.columns.isin(dropped_features) ]\n",
    "print(\"original\",X_train.shape)\n",
    "print(\"original\",X_train_dropped.shape )\n",
    "# categorical elimination\n",
    "X_train_dropped_2 = X_train_dropped.loc[ :,  ~X_train_dropped.columns.isin(cat) ]\n",
    "X_test_dropped_2 = X_test_dropped.loc[ :,  ~X_test_dropped.columns.isin(cat) ]"
   ]
  },
  {
   "cell_type": "code",
   "execution_count": null,
   "metadata": {},
   "outputs": [],
   "source": [
    "print(\"new size\",X_train_dropped_2.shape )\n",
    "print(\"new size\",X_test_dropped_2.shape )"
   ]
  },
  {
   "cell_type": "code",
   "execution_count": null,
   "metadata": {},
   "outputs": [],
   "source": [
    "X_train_dropped_2.columns"
   ]
  },
  {
   "cell_type": "code",
   "execution_count": null,
   "metadata": {},
   "outputs": [],
   "source": [
    "# k_range = range(1,30)\n",
    "# scores= {}\n",
    "# scores_list = []\n",
    "# for k in k_range:\n",
    "#     knn= KNeighborsClassifier(n_neighbors=k)\n",
    "#     knn.fit(X_train_scaled, y_train.values)\n",
    "#     y_pred_knn = knn.predict(X_test_scaled)\n",
    "#     scores[k]= accuracy_score(y_test, y_pred_knn) \n",
    "#     # scores[k]= metrics.accuracy_score(y_test, y_pred_knn)\n",
    "#     # print()\n",
    "\n",
    "# test_df = X_test\n",
    "# test_df['havarth3']= y_test\n",
    "# test_df.to_csv(\"training.csv\")\n",
    "# training_df = X_train\n",
    "# training_df['havarth3']= y_train\n",
    "# training_df.to_csv(\"training.csv\")\n",
    "\n",
    "# numeric_variable_summary = df[numeric_var]\n",
    "# df_target = df[\"havarth3\"]\n",
    "# df_target.unique()\n",
    "\n",
    "# profile = ProfileReport(numeric_variable_summary, title=\"Pandas_Profiling_Report\")\n",
    "# profile\n",
    "\n",
    "# profile.to_file(\"your_report.html\")\n",
    "\n",
    "# cor_matrix = numeric_variable_summary.corr().abs()\n",
    "# cor_matrix\n",
    "\n",
    "# import numpy as np\n",
    "# upper_tri = cor_matrix.where(np.triu(np.ones(cor_matrix.shape),k=1).astype(np.bool))\n",
    "# print(upper_tri)\n",
    "# to_drop = [column for column in upper_tri.columns if any(upper_tri[column] > 0.95)]\n",
    "# print(to_drop)\n",
    "\n",
    "#let's plot the ordered mutual_info values per feature\n",
    "#mutual_info.sort_values(ascending=False).plot.bar(figsize=(20, 8))\n",
    "\n",
    "# from sklearn.feature_selection import SelectKBest\n",
    "# #No we Will select the  top 5 important features\n",
    "# sel_five_cols = SelectKBest(mutual_info_classif, k=30)\n",
    "# sel_five_cols.fit(X_train, y_train)\n",
    "# X_train.columns[sel_five_cols.get_support()]\n",
    "\n",
    "# from sklearn.feature_selection import chi2\n",
    "# X_cat = X_train.loc[ :,  ~X_train.columns.isin(numeric_var) ]\n",
    "# y = y_train\n",
    "# chi2_features = SelectKBest(chi2, k=30)\n",
    "# X_kbest_features = chi2_features.fit_transform(X_cat, y)\n",
    "\n",
    "# print('original feature number', X_cat.shape[1])\n",
    "# print('reduced feature number', X_kbest_features.shape[1])\n",
    "# print(\"best features \", X_cat.columns[chi2_features.get_support()])"
   ]
  }
 ],
 "metadata": {
  "kernelspec": {
   "display_name": "Python 3.8.10 ('env': venv)",
   "language": "python",
   "name": "python3"
  },
  "language_info": {
   "codemirror_mode": {
    "name": "ipython",
    "version": 3
   },
   "file_extension": ".py",
   "mimetype": "text/x-python",
   "name": "python",
   "nbconvert_exporter": "python",
   "pygments_lexer": "ipython3",
   "version": "3.8.10"
  },
  "orig_nbformat": 4,
  "vscode": {
   "interpreter": {
    "hash": "3c1415cb821ed4adf865e02a40bc7bc1df3fdd4fe2d5a3e5cd806c6716eac26a"
   }
  }
 },
 "nbformat": 4,
 "nbformat_minor": 2
}
