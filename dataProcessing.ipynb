{
 "cells": [
  {
   "cell_type": "markdown",
   "metadata": {},
   "source": [
    "Read the csv file\n",
    "\n",
    "class attribute is havarth3"
   ]
  },
  {
   "cell_type": "code",
   "execution_count": 197,
   "metadata": {},
   "outputs": [],
   "source": [
    "# libraries \n",
    "# for data processing\n",
    "import pandas as pd  # for reading and analyzing the data\n",
    "# for  visualizations\n",
    "import seaborn as sns\n",
    "import matplotlib.pyplot as plt\n",
    "from pandas_profiling import ProfileReport\n",
    "#to split data into training and testing \n",
    "from sklearn.model_selection import train_test_split\n",
    "#model evaluation\n",
    "from sklearn.metrics import confusion_matrix,ConfusionMatrixDisplay,accuracy_score,plot_roc_curve"
   ]
  },
  {
   "cell_type": "code",
   "execution_count": 126,
   "metadata": {},
   "outputs": [
    {
     "data": {
      "text/html": [
       "<div>\n",
       "<style scoped>\n",
       "    .dataframe tbody tr th:only-of-type {\n",
       "        vertical-align: middle;\n",
       "    }\n",
       "\n",
       "    .dataframe tbody tr th {\n",
       "        vertical-align: top;\n",
       "    }\n",
       "\n",
       "    .dataframe thead th {\n",
       "        text-align: right;\n",
       "    }\n",
       "</style>\n",
       "<table border=\"1\" class=\"dataframe\">\n",
       "  <thead>\n",
       "    <tr style=\"text-align: right;\">\n",
       "      <th></th>\n",
       "      <th>x.aidtst3</th>\n",
       "      <th>employ1</th>\n",
       "      <th>income2</th>\n",
       "      <th>weight2</th>\n",
       "      <th>height3</th>\n",
       "      <th>children</th>\n",
       "      <th>veteran3</th>\n",
       "      <th>blind</th>\n",
       "      <th>renthom1</th>\n",
       "      <th>sex1</th>\n",
       "      <th>...</th>\n",
       "      <th>x.denvst3</th>\n",
       "      <th>x.prace1</th>\n",
       "      <th>x.mrace1</th>\n",
       "      <th>x.exteth3</th>\n",
       "      <th>x.asthms1</th>\n",
       "      <th>x.michd</th>\n",
       "      <th>x.ltasth1</th>\n",
       "      <th>x.casthm1</th>\n",
       "      <th>x.state</th>\n",
       "      <th>havarth3</th>\n",
       "    </tr>\n",
       "  </thead>\n",
       "  <tbody>\n",
       "    <tr>\n",
       "      <th>0</th>\n",
       "      <td>2.0</td>\n",
       "      <td>1.0</td>\n",
       "      <td>8.0</td>\n",
       "      <td>138.0</td>\n",
       "      <td>504.0</td>\n",
       "      <td>2.0</td>\n",
       "      <td>2.0</td>\n",
       "      <td>2.0</td>\n",
       "      <td>1.0</td>\n",
       "      <td>2</td>\n",
       "      <td>...</td>\n",
       "      <td>1</td>\n",
       "      <td>1</td>\n",
       "      <td>1</td>\n",
       "      <td>1</td>\n",
       "      <td>3</td>\n",
       "      <td>2.0</td>\n",
       "      <td>1</td>\n",
       "      <td>1</td>\n",
       "      <td>27</td>\n",
       "      <td>2</td>\n",
       "    </tr>\n",
       "    <tr>\n",
       "      <th>1</th>\n",
       "      <td>1.0</td>\n",
       "      <td>1.0</td>\n",
       "      <td>4.0</td>\n",
       "      <td>240.0</td>\n",
       "      <td>507.0</td>\n",
       "      <td>88.0</td>\n",
       "      <td>2.0</td>\n",
       "      <td>1.0</td>\n",
       "      <td>2.0</td>\n",
       "      <td>1</td>\n",
       "      <td>...</td>\n",
       "      <td>2</td>\n",
       "      <td>1</td>\n",
       "      <td>1</td>\n",
       "      <td>2</td>\n",
       "      <td>3</td>\n",
       "      <td>2.0</td>\n",
       "      <td>1</td>\n",
       "      <td>1</td>\n",
       "      <td>72</td>\n",
       "      <td>2</td>\n",
       "    </tr>\n",
       "    <tr>\n",
       "      <th>2</th>\n",
       "      <td>1.0</td>\n",
       "      <td>1.0</td>\n",
       "      <td>6.0</td>\n",
       "      <td>120.0</td>\n",
       "      <td>504.0</td>\n",
       "      <td>88.0</td>\n",
       "      <td>2.0</td>\n",
       "      <td>2.0</td>\n",
       "      <td>1.0</td>\n",
       "      <td>2</td>\n",
       "      <td>...</td>\n",
       "      <td>1</td>\n",
       "      <td>6</td>\n",
       "      <td>6</td>\n",
       "      <td>2</td>\n",
       "      <td>3</td>\n",
       "      <td>2.0</td>\n",
       "      <td>1</td>\n",
       "      <td>1</td>\n",
       "      <td>31</td>\n",
       "      <td>2</td>\n",
       "    </tr>\n",
       "    <tr>\n",
       "      <th>3</th>\n",
       "      <td>2.0</td>\n",
       "      <td>7.0</td>\n",
       "      <td>77.0</td>\n",
       "      <td>133.0</td>\n",
       "      <td>502.0</td>\n",
       "      <td>88.0</td>\n",
       "      <td>2.0</td>\n",
       "      <td>2.0</td>\n",
       "      <td>1.0</td>\n",
       "      <td>2</td>\n",
       "      <td>...</td>\n",
       "      <td>1</td>\n",
       "      <td>1</td>\n",
       "      <td>1</td>\n",
       "      <td>2</td>\n",
       "      <td>3</td>\n",
       "      <td>2.0</td>\n",
       "      <td>1</td>\n",
       "      <td>1</td>\n",
       "      <td>45</td>\n",
       "      <td>2</td>\n",
       "    </tr>\n",
       "    <tr>\n",
       "      <th>4</th>\n",
       "      <td>9.0</td>\n",
       "      <td>7.0</td>\n",
       "      <td>8.0</td>\n",
       "      <td>170.0</td>\n",
       "      <td>505.0</td>\n",
       "      <td>88.0</td>\n",
       "      <td>2.0</td>\n",
       "      <td>2.0</td>\n",
       "      <td>1.0</td>\n",
       "      <td>2</td>\n",
       "      <td>...</td>\n",
       "      <td>1</td>\n",
       "      <td>1</td>\n",
       "      <td>1</td>\n",
       "      <td>1</td>\n",
       "      <td>3</td>\n",
       "      <td>2.0</td>\n",
       "      <td>1</td>\n",
       "      <td>1</td>\n",
       "      <td>24</td>\n",
       "      <td>2</td>\n",
       "    </tr>\n",
       "  </tbody>\n",
       "</table>\n",
       "<p>5 rows × 108 columns</p>\n",
       "</div>"
      ],
      "text/plain": [
       "   x.aidtst3  employ1  income2  weight2  height3  children  veteran3  blind  \\\n",
       "0        2.0      1.0      8.0    138.0    504.0       2.0       2.0    2.0   \n",
       "1        1.0      1.0      4.0    240.0    507.0      88.0       2.0    1.0   \n",
       "2        1.0      1.0      6.0    120.0    504.0      88.0       2.0    2.0   \n",
       "3        2.0      7.0     77.0    133.0    502.0      88.0       2.0    2.0   \n",
       "4        9.0      7.0      8.0    170.0    505.0      88.0       2.0    2.0   \n",
       "\n",
       "   renthom1  sex1  ...  x.denvst3  x.prace1  x.mrace1  x.exteth3  x.asthms1  \\\n",
       "0       1.0     2  ...          1         1         1          1          3   \n",
       "1       2.0     1  ...          2         1         1          2          3   \n",
       "2       1.0     2  ...          1         6         6          2          3   \n",
       "3       1.0     2  ...          1         1         1          2          3   \n",
       "4       1.0     2  ...          1         1         1          1          3   \n",
       "\n",
       "   x.michd  x.ltasth1  x.casthm1  x.state  havarth3  \n",
       "0      2.0          1          1       27         2  \n",
       "1      2.0          1          1       72         2  \n",
       "2      2.0          1          1       31         2  \n",
       "3      2.0          1          1       45         2  \n",
       "4      2.0          1          1       24         2  \n",
       "\n",
       "[5 rows x 108 columns]"
      ]
     },
     "execution_count": 126,
     "metadata": {},
     "output_type": "execute_result"
    }
   ],
   "source": [
    "# saving as df \n",
    "df= pd.read_csv(\"dataClean.csv\", index_col = False)\n",
    "df.head()"
   ]
  },
  {
   "cell_type": "code",
   "execution_count": 127,
   "metadata": {},
   "outputs": [
    {
     "data": {
      "text/html": [
       "<div>\n",
       "<style scoped>\n",
       "    .dataframe tbody tr th:only-of-type {\n",
       "        vertical-align: middle;\n",
       "    }\n",
       "\n",
       "    .dataframe tbody tr th {\n",
       "        vertical-align: top;\n",
       "    }\n",
       "\n",
       "    .dataframe thead th {\n",
       "        text-align: right;\n",
       "    }\n",
       "</style>\n",
       "<table border=\"1\" class=\"dataframe\">\n",
       "  <thead>\n",
       "    <tr style=\"text-align: right;\">\n",
       "      <th></th>\n",
       "      <th>weight2</th>\n",
       "      <th>height3</th>\n",
       "      <th>children</th>\n",
       "      <th>alcday5</th>\n",
       "      <th>x.psu</th>\n",
       "      <th>physhlth</th>\n",
       "      <th>menthlth</th>\n",
       "      <th>sleptim1</th>\n",
       "      <th>htin4</th>\n",
       "      <th>wtkg3</th>\n",
       "      <th>x.bmi5</th>\n",
       "      <th>htm4</th>\n",
       "      <th>x.drnkwek</th>\n",
       "      <th>drocdy3.</th>\n",
       "      <th>x.llcpwt2</th>\n",
       "      <th>x.llcpwt</th>\n",
       "      <th>x.wt2rake</th>\n",
       "      <th>x.ststr</th>\n",
       "      <th>x.strwt</th>\n",
       "      <th>x.rawrake</th>\n",
       "    </tr>\n",
       "  </thead>\n",
       "  <tbody>\n",
       "    <tr>\n",
       "      <th>0</th>\n",
       "      <td>138.0</td>\n",
       "      <td>504.0</td>\n",
       "      <td>2.0</td>\n",
       "      <td>203.0</td>\n",
       "      <td>2018012727</td>\n",
       "      <td>88</td>\n",
       "      <td>88</td>\n",
       "      <td>8</td>\n",
       "      <td>64.0</td>\n",
       "      <td>6260.0</td>\n",
       "      <td>2369.0</td>\n",
       "      <td>163.0</td>\n",
       "      <td>140</td>\n",
       "      <td>10</td>\n",
       "      <td>347.364408</td>\n",
       "      <td>300.334407</td>\n",
       "      <td>46.653717</td>\n",
       "      <td>272049</td>\n",
       "      <td>46.653717</td>\n",
       "      <td>1.0</td>\n",
       "    </tr>\n",
       "    <tr>\n",
       "      <th>1</th>\n",
       "      <td>240.0</td>\n",
       "      <td>507.0</td>\n",
       "      <td>88.0</td>\n",
       "      <td>203.0</td>\n",
       "      <td>2018003318</td>\n",
       "      <td>30</td>\n",
       "      <td>30</td>\n",
       "      <td>7</td>\n",
       "      <td>72.0</td>\n",
       "      <td>10886.0</td>\n",
       "      <td>3255.0</td>\n",
       "      <td>183.0</td>\n",
       "      <td>420</td>\n",
       "      <td>10</td>\n",
       "      <td>591.664273</td>\n",
       "      <td>230.240437</td>\n",
       "      <td>184.630736</td>\n",
       "      <td>722019</td>\n",
       "      <td>184.630736</td>\n",
       "      <td>1.0</td>\n",
       "    </tr>\n",
       "    <tr>\n",
       "      <th>2</th>\n",
       "      <td>120.0</td>\n",
       "      <td>504.0</td>\n",
       "      <td>88.0</td>\n",
       "      <td>888.0</td>\n",
       "      <td>2018014634</td>\n",
       "      <td>88</td>\n",
       "      <td>88</td>\n",
       "      <td>6</td>\n",
       "      <td>64.0</td>\n",
       "      <td>5443.0</td>\n",
       "      <td>2060.0</td>\n",
       "      <td>163.0</td>\n",
       "      <td>0</td>\n",
       "      <td>0</td>\n",
       "      <td>142.637597</td>\n",
       "      <td>234.853526</td>\n",
       "      <td>37.261383</td>\n",
       "      <td>312199</td>\n",
       "      <td>37.261383</td>\n",
       "      <td>1.0</td>\n",
       "    </tr>\n",
       "    <tr>\n",
       "      <th>3</th>\n",
       "      <td>133.0</td>\n",
       "      <td>502.0</td>\n",
       "      <td>88.0</td>\n",
       "      <td>888.0</td>\n",
       "      <td>2018004927</td>\n",
       "      <td>88</td>\n",
       "      <td>88</td>\n",
       "      <td>7</td>\n",
       "      <td>62.0</td>\n",
       "      <td>6033.0</td>\n",
       "      <td>2433.0</td>\n",
       "      <td>157.0</td>\n",
       "      <td>0</td>\n",
       "      <td>0</td>\n",
       "      <td>131.943500</td>\n",
       "      <td>95.944181</td>\n",
       "      <td>18.271132</td>\n",
       "      <td>451101</td>\n",
       "      <td>18.271132</td>\n",
       "      <td>1.0</td>\n",
       "    </tr>\n",
       "    <tr>\n",
       "      <th>4</th>\n",
       "      <td>170.0</td>\n",
       "      <td>505.0</td>\n",
       "      <td>88.0</td>\n",
       "      <td>105.0</td>\n",
       "      <td>2018005584</td>\n",
       "      <td>88</td>\n",
       "      <td>88</td>\n",
       "      <td>7</td>\n",
       "      <td>65.0</td>\n",
       "      <td>7711.0</td>\n",
       "      <td>2829.0</td>\n",
       "      <td>165.0</td>\n",
       "      <td>500</td>\n",
       "      <td>71</td>\n",
       "      <td>155.667313</td>\n",
       "      <td>87.722689</td>\n",
       "      <td>13.906822</td>\n",
       "      <td>241011</td>\n",
       "      <td>13.906822</td>\n",
       "      <td>1.0</td>\n",
       "    </tr>\n",
       "    <tr>\n",
       "      <th>...</th>\n",
       "      <td>...</td>\n",
       "      <td>...</td>\n",
       "      <td>...</td>\n",
       "      <td>...</td>\n",
       "      <td>...</td>\n",
       "      <td>...</td>\n",
       "      <td>...</td>\n",
       "      <td>...</td>\n",
       "      <td>...</td>\n",
       "      <td>...</td>\n",
       "      <td>...</td>\n",
       "      <td>...</td>\n",
       "      <td>...</td>\n",
       "      <td>...</td>\n",
       "      <td>...</td>\n",
       "      <td>...</td>\n",
       "      <td>...</td>\n",
       "      <td>...</td>\n",
       "      <td>...</td>\n",
       "      <td>...</td>\n",
       "    </tr>\n",
       "    <tr>\n",
       "      <th>11928</th>\n",
       "      <td>250.0</td>\n",
       "      <td>511.0</td>\n",
       "      <td>1.0</td>\n",
       "      <td>107.0</td>\n",
       "      <td>2018003393</td>\n",
       "      <td>88</td>\n",
       "      <td>88</td>\n",
       "      <td>8</td>\n",
       "      <td>71.0</td>\n",
       "      <td>11340.0</td>\n",
       "      <td>3487.0</td>\n",
       "      <td>180.0</td>\n",
       "      <td>2100</td>\n",
       "      <td>100</td>\n",
       "      <td>551.939252</td>\n",
       "      <td>674.656860</td>\n",
       "      <td>51.138050</td>\n",
       "      <td>412019</td>\n",
       "      <td>51.138050</td>\n",
       "      <td>1.0</td>\n",
       "    </tr>\n",
       "    <tr>\n",
       "      <th>11929</th>\n",
       "      <td>215.0</td>\n",
       "      <td>510.0</td>\n",
       "      <td>88.0</td>\n",
       "      <td>888.0</td>\n",
       "      <td>2018005797</td>\n",
       "      <td>30</td>\n",
       "      <td>88</td>\n",
       "      <td>8</td>\n",
       "      <td>70.0</td>\n",
       "      <td>9752.0</td>\n",
       "      <td>3085.0</td>\n",
       "      <td>178.0</td>\n",
       "      <td>0</td>\n",
       "      <td>0</td>\n",
       "      <td>65.027460</td>\n",
       "      <td>98.935261</td>\n",
       "      <td>5.687222</td>\n",
       "      <td>241021</td>\n",
       "      <td>5.687222</td>\n",
       "      <td>1.0</td>\n",
       "    </tr>\n",
       "    <tr>\n",
       "      <th>11930</th>\n",
       "      <td>160.0</td>\n",
       "      <td>508.0</td>\n",
       "      <td>88.0</td>\n",
       "      <td>888.0</td>\n",
       "      <td>2018003470</td>\n",
       "      <td>88</td>\n",
       "      <td>88</td>\n",
       "      <td>7</td>\n",
       "      <td>68.0</td>\n",
       "      <td>7257.0</td>\n",
       "      <td>2433.0</td>\n",
       "      <td>173.0</td>\n",
       "      <td>0</td>\n",
       "      <td>0</td>\n",
       "      <td>93.619977</td>\n",
       "      <td>77.027603</td>\n",
       "      <td>4.486657</td>\n",
       "      <td>102019</td>\n",
       "      <td>4.486657</td>\n",
       "      <td>1.0</td>\n",
       "    </tr>\n",
       "    <tr>\n",
       "      <th>11931</th>\n",
       "      <td>220.0</td>\n",
       "      <td>505.0</td>\n",
       "      <td>88.0</td>\n",
       "      <td>201.0</td>\n",
       "      <td>2018003951</td>\n",
       "      <td>88</td>\n",
       "      <td>88</td>\n",
       "      <td>8</td>\n",
       "      <td>65.0</td>\n",
       "      <td>9979.0</td>\n",
       "      <td>3661.0</td>\n",
       "      <td>165.0</td>\n",
       "      <td>23</td>\n",
       "      <td>3</td>\n",
       "      <td>175.165147</td>\n",
       "      <td>88.663009</td>\n",
       "      <td>28.192596</td>\n",
       "      <td>442019</td>\n",
       "      <td>28.192596</td>\n",
       "      <td>1.0</td>\n",
       "    </tr>\n",
       "    <tr>\n",
       "      <th>11932</th>\n",
       "      <td>240.0</td>\n",
       "      <td>508.0</td>\n",
       "      <td>88.0</td>\n",
       "      <td>210.0</td>\n",
       "      <td>2018004529</td>\n",
       "      <td>1</td>\n",
       "      <td>2</td>\n",
       "      <td>7</td>\n",
       "      <td>68.0</td>\n",
       "      <td>10886.0</td>\n",
       "      <td>3649.0</td>\n",
       "      <td>173.0</td>\n",
       "      <td>467</td>\n",
       "      <td>33</td>\n",
       "      <td>403.740658</td>\n",
       "      <td>341.825532</td>\n",
       "      <td>58.187758</td>\n",
       "      <td>542019</td>\n",
       "      <td>58.187758</td>\n",
       "      <td>1.0</td>\n",
       "    </tr>\n",
       "  </tbody>\n",
       "</table>\n",
       "<p>11933 rows × 20 columns</p>\n",
       "</div>"
      ],
      "text/plain": [
       "       weight2  height3  children  alcday5       x.psu  physhlth  menthlth  \\\n",
       "0        138.0    504.0       2.0    203.0  2018012727        88        88   \n",
       "1        240.0    507.0      88.0    203.0  2018003318        30        30   \n",
       "2        120.0    504.0      88.0    888.0  2018014634        88        88   \n",
       "3        133.0    502.0      88.0    888.0  2018004927        88        88   \n",
       "4        170.0    505.0      88.0    105.0  2018005584        88        88   \n",
       "...        ...      ...       ...      ...         ...       ...       ...   \n",
       "11928    250.0    511.0       1.0    107.0  2018003393        88        88   \n",
       "11929    215.0    510.0      88.0    888.0  2018005797        30        88   \n",
       "11930    160.0    508.0      88.0    888.0  2018003470        88        88   \n",
       "11931    220.0    505.0      88.0    201.0  2018003951        88        88   \n",
       "11932    240.0    508.0      88.0    210.0  2018004529         1         2   \n",
       "\n",
       "       sleptim1  htin4    wtkg3  x.bmi5   htm4  x.drnkwek  drocdy3.  \\\n",
       "0             8   64.0   6260.0  2369.0  163.0        140        10   \n",
       "1             7   72.0  10886.0  3255.0  183.0        420        10   \n",
       "2             6   64.0   5443.0  2060.0  163.0          0         0   \n",
       "3             7   62.0   6033.0  2433.0  157.0          0         0   \n",
       "4             7   65.0   7711.0  2829.0  165.0        500        71   \n",
       "...         ...    ...      ...     ...    ...        ...       ...   \n",
       "11928         8   71.0  11340.0  3487.0  180.0       2100       100   \n",
       "11929         8   70.0   9752.0  3085.0  178.0          0         0   \n",
       "11930         7   68.0   7257.0  2433.0  173.0          0         0   \n",
       "11931         8   65.0   9979.0  3661.0  165.0         23         3   \n",
       "11932         7   68.0  10886.0  3649.0  173.0        467        33   \n",
       "\n",
       "        x.llcpwt2    x.llcpwt   x.wt2rake  x.ststr     x.strwt  x.rawrake  \n",
       "0      347.364408  300.334407   46.653717   272049   46.653717        1.0  \n",
       "1      591.664273  230.240437  184.630736   722019  184.630736        1.0  \n",
       "2      142.637597  234.853526   37.261383   312199   37.261383        1.0  \n",
       "3      131.943500   95.944181   18.271132   451101   18.271132        1.0  \n",
       "4      155.667313   87.722689   13.906822   241011   13.906822        1.0  \n",
       "...           ...         ...         ...      ...         ...        ...  \n",
       "11928  551.939252  674.656860   51.138050   412019   51.138050        1.0  \n",
       "11929   65.027460   98.935261    5.687222   241021    5.687222        1.0  \n",
       "11930   93.619977   77.027603    4.486657   102019    4.486657        1.0  \n",
       "11931  175.165147   88.663009   28.192596   442019   28.192596        1.0  \n",
       "11932  403.740658  341.825532   58.187758   542019   58.187758        1.0  \n",
       "\n",
       "[11933 rows x 20 columns]"
      ]
     },
     "execution_count": 127,
     "metadata": {},
     "output_type": "execute_result"
    }
   ],
   "source": [
    "numeric_var = [\"weight2\",\"height3\",\"children\",\"alcday5\",\"x.psu\",\"physhlth\",\"menthlth\",\"sleptim1\",\"htin4\",\"wtkg3\",\"x.bmi5\",\"htm4\",\"x.drnkwek\",\"drocdy3.\",\"x.llcpwt2\",\"x.llcpwt\",\"x.wt2rake\",\"x.ststr\"\n",
    ",\"x.strwt\",\"x.rawrake\"]\n",
    "\n",
    "df[numeric_var]"
   ]
  },
  {
   "cell_type": "markdown",
   "metadata": {},
   "source": [
    "Split data into test and training"
   ]
  },
  {
   "cell_type": "code",
   "execution_count": 128,
   "metadata": {},
   "outputs": [],
   "source": [
    "X= df.loc[ :,  ~df.columns.isin(['havarth3']) ]\n",
    "y = df.loc[:, 'havarth3':'havarth3']"
   ]
  },
  {
   "cell_type": "code",
   "execution_count": 129,
   "metadata": {},
   "outputs": [
    {
     "name": "stdout",
     "output_type": "stream",
     "text": [
      "original data size  (11933, 108)\n",
      "training data size (7995, 107)\n",
      "testing data size  (3938, 107)\n",
      "       havarth3\n",
      "10172         1\n",
      "10322         1\n",
      "9195          1\n",
      "357           2\n",
      "4352          2\n",
      "...         ...\n",
      "5070          2\n",
      "11170         1\n",
      "7087          2\n",
      "538           2\n",
      "11714         1\n",
      "\n",
      "[3938 rows x 1 columns]\n"
     ]
    }
   ],
   "source": [
    "X_train, X_test, y_train, y_test  = train_test_split(X, y, test_size=0.33 ,random_state = 42)\n",
    "print(\"original data size \", df.shape)\n",
    "print(\"training data size\", X_train.shape)\n",
    "print(\"testing data size \", X_test.shape)\n",
    "print(y_test)"
   ]
  },
  {
   "cell_type": "markdown",
   "metadata": {},
   "source": [
    "saving train and test data"
   ]
  },
  {
   "cell_type": "markdown",
   "metadata": {},
   "source": [
    "## Attribute Selection Method"
   ]
  },
  {
   "cell_type": "markdown",
   "metadata": {},
   "source": [
    "## Information Gain"
   ]
  },
  {
   "cell_type": "markdown",
   "metadata": {},
   "source": [
    "First attribute selection method is Information Gain/Mutual Information. This is a filtering method. It means we will use univariate statistics to pick our attributes and filter them based on their information gain. We will only select the ones with high information gain. "
   ]
  },
  {
   "cell_type": "code",
   "execution_count": 166,
   "metadata": {},
   "outputs": [
    {
     "data": {
      "text/plain": [
       "array([5.95233368e-03, 6.22868574e-02, 1.01835772e-02, 1.78152934e-04,\n",
       "       4.48394865e-03, 2.61393937e-02, 3.32820486e-03, 1.01323127e-02,\n",
       "       2.81514793e-03, 1.16481527e-03, 2.92699145e-02, 6.86847619e-04,\n",
       "       1.15850708e-02, 1.16776416e-02, 1.15975558e-02, 5.41892356e-03,\n",
       "       6.19542993e-03, 0.00000000e+00, 2.10676370e-03, 3.14462072e-02,\n",
       "       6.25588365e-03, 6.29424700e-02, 1.29738019e-03, 1.05665767e-02,\n",
       "       1.54090447e-02, 1.11484177e-02, 2.16292830e-02, 1.13967945e-02,\n",
       "       7.12978015e-03, 5.74318873e-03, 2.96457952e-02, 4.56995707e-03,\n",
       "       0.00000000e+00, 3.68823115e-02, 1.33142109e-03, 5.46256225e-03,\n",
       "       2.04804674e-03, 0.00000000e+00, 4.34965797e-03, 9.67797564e-03,\n",
       "       1.52246029e-02, 6.23613276e-03, 2.32986627e-02, 6.14070620e-03,\n",
       "       4.63884924e-03, 1.37164700e-02, 1.06694208e-03, 7.81143503e-03,\n",
       "       7.67369210e-03, 0.00000000e+00, 1.17515333e-02, 5.52291829e-03,\n",
       "       9.27547247e-03, 1.52262995e-02, 2.89611122e-04, 3.23907188e-03,\n",
       "       8.90002019e-03, 5.85169765e-03, 8.63968983e-03, 9.47893059e-04,\n",
       "       4.36082630e-03, 8.16249930e-02, 9.56655407e-03, 8.41528471e-02,\n",
       "       0.00000000e+00, 7.18107102e-02, 4.12904243e-02, 4.50487381e-03,\n",
       "       1.76135429e-02, 4.06345336e-03, 7.17367813e-03, 6.12106750e-03,\n",
       "       0.00000000e+00, 0.00000000e+00, 1.18356045e-02, 1.08248034e-02,\n",
       "       9.74487143e-03, 5.60422937e-03, 0.00000000e+00, 6.64933536e-03,\n",
       "       0.00000000e+00, 3.23520804e-03, 6.19851281e-03, 1.39517454e-02,\n",
       "       1.67223271e-02, 1.96560982e-02, 2.46820312e-02, 8.37862265e-03,\n",
       "       1.39431463e-02, 7.35115878e-03, 1.63285237e-02, 2.39603225e-02,\n",
       "       1.49367886e-02, 6.02458497e-03, 3.19725070e-02, 3.30037638e-03,\n",
       "       3.39795354e-02, 0.00000000e+00, 2.74007142e-03, 6.06702827e-03,\n",
       "       0.00000000e+00, 2.65955896e-02, 0.00000000e+00, 6.26823073e-03,\n",
       "       2.79771090e-03, 1.01006391e-02, 8.79471100e-05])"
      ]
     },
     "execution_count": 166,
     "metadata": {},
     "output_type": "execute_result"
    }
   ],
   "source": [
    "from sklearn.feature_selection import mutual_info_classif\n",
    "# determine the mutual information\n",
    "mutual_info = mutual_info_classif(X_train, y_train.values.ravel())\n",
    "mutual_info"
   ]
  },
  {
   "cell_type": "code",
   "execution_count": 190,
   "metadata": {},
   "outputs": [
    {
     "data": {
      "text/plain": [
       "x.age80      0.084153\n",
       "x.age.g      0.081625\n",
       "x.ageg5yr    0.071811\n",
       "diffwalk     0.062942\n",
       "employ1      0.062287\n",
       "x.age65yr    0.041290\n",
       "genhlth      0.036882\n",
       "x.hcvu651    0.033980\n",
       "x.phys14d    0.031973\n",
       "pneuvac4     0.031446\n",
       "physhlth     0.029646\n",
       "marital      0.029270\n",
       "x.exteth3    0.026596\n",
       "children     0.026139\n",
       "x.rfhlth     0.024682\n",
       "x.ststr      0.023960\n",
       "checkup1     0.023299\n",
       "rmvteth4     0.021629\n",
       "x.llcpwt     0.019656\n",
       "x.chldcnt    0.017614\n",
       "dtype: float64"
      ]
     },
     "execution_count": 190,
     "metadata": {},
     "output_type": "execute_result"
    }
   ],
   "source": [
    "mutual_info = pd.Series(mutual_info)\n",
    "mutual_info.index = X_train.columns\n",
    "mutual_info.sort_values(ascending=False)\n",
    "#mutual_info.between(0.1,1 )\n",
    "mutual_info[mutual_info.between(0.01,1 )].sort_values(ascending=False)[0:20]\n",
    "\n"
   ]
  },
  {
   "cell_type": "code",
   "execution_count": 243,
   "metadata": {},
   "outputs": [
    {
     "data": {
      "text/plain": [
       "<AxesSubplot: >"
      ]
     },
     "execution_count": 243,
     "metadata": {},
     "output_type": "execute_result"
    },
    {
     "data": {
      "image/png": "[encoded data removed]",
      "text/plain": [
       "<Figure size 800x800 with 1 Axes>"
      ]
     },
     "metadata": {},
     "output_type": "display_data"
    }
   ],
   "source": [
    "#let's plot the ordered mutual_info values per feature\n",
    "mutual_info[mutual_info.between(0.01,1 )].sort_values(ascending=False).plot.bar(figsize=(8, 8))"
   ]
  },
  {
   "cell_type": "code",
   "execution_count": 211,
   "metadata": {},
   "outputs": [
    {
     "name": "stdout",
     "output_type": "stream",
     "text": [
      "Index(['employ1', 'income2', 'sex1', 'marital', 'pneuvac4', 'diffwalk',\n",
      "       'rmvteth4', 'physhlth', 'genhlth', 'chccopd1', 'x.age.g', 'x.age80',\n",
      "       'x.ageg5yr', 'x.age65yr', 'x.rfhlth', 'x.ststr', 'x.strwt', 'x.phys14d',\n",
      "       'x.hcvu651', 'x.exteth3'],\n",
      "      dtype='object')\n",
      "Train data length (7995, 107)\n",
      "After attribute reduction (3938, 20)\n"
     ]
    }
   ],
   "source": [
    "from sklearn.feature_selection import SelectKBest\n",
    "select_twenty_cols = SelectKBest(mutual_info_classif, k=20)\n",
    "train_twenty = select_twenty_cols.fit_transform(X_train, y_train.values.ravel())\n",
    "print(X_train.columns[select_twenty_cols.get_support()])\n",
    "X_train_20 = select_twenty_cols.transform(X_train)\n",
    "X_train_20 = pd.DataFrame(X_train_20,columns= (X_train.columns[select_twenty_cols.get_support()].to_list()), index=None)\n",
    "\n",
    "X_test_20 = select_twenty_cols.transform(X_test)\n",
    "X_test_20  = pd.DataFrame(X_test_20,columns= (X_test.columns[select_twenty_cols.get_support()].to_list()), index=None)\n",
    "\n",
    "print(\"Train data length\", X_train.shape)\n",
    "print(\"After attribute reduction\", X_test_20.shape)\n"
   ]
  },
  {
   "cell_type": "markdown",
   "metadata": {},
   "source": [
    "## Model creation"
   ]
  },
  {
   "cell_type": "markdown",
   "metadata": {},
   "source": [
    "## Logistic Regretion "
   ]
  },
  {
   "cell_type": "code",
   "execution_count": 230,
   "metadata": {},
   "outputs": [
    {
     "data": {
      "text/plain": [
       "0.6912138141188421"
      ]
     },
     "execution_count": 230,
     "metadata": {},
     "output_type": "execute_result"
    }
   ],
   "source": [
    "# import the class\n",
    "from sklearn.linear_model import LogisticRegression\n",
    "# instantiate the model (using the default parameters)\n",
    "log_reg_classifier = LogisticRegression(solver='lbfgs', max_iter=1000) # intiate the log reg\n",
    "log_reg_classifier.fit(X_train_20,y_train.values.ravel())# fit the training data to train the data\n",
    "y_pred = log_reg_classifier.predict(X_test_20) # use test data to predict\n",
    "accuracy = accuracy_score(y_test, y_pred)\n",
    "accuracy"
   ]
  },
  {
   "cell_type": "code",
   "execution_count": 240,
   "metadata": {},
   "outputs": [
    {
     "name": "stdout",
     "output_type": "stream",
     "text": [
      "{'employ1': 0.6942610462163534, 'income2': 0.7120365667851701, 'sex1': 0.7117826307770442, 'marital': 0.6742001015744032, 'pneuvac4': 0.6945149822244794, 'diffwalk': 0.7117826307770442, 'rmvteth4': 0.6912138141188421, 'physhlth': 0.6678517013712545, 'genhlth': 0.691721686135094, 'chccopd1': 0.6912138141188421, 'x.age.g': 0.691467750126968, 'x.age80': 0.6632808532249873, 'x.ageg5yr': 0.6907059421025902, 'x.age65yr': 0.6912138141188421, 'x.rfhlth': 0.7120365667851701, 'x.ststr': 0.7524123920771966, 'x.strwt': 0.7097511427120365, 'x.phys14d': 0.6945149822244794, 'x.hcvu651': 0.6904520060944642, 'x.exteth3': 0.691467750126968}\n",
      "max effect \n",
      "feature x.ststr\n",
      "accuracy score  0.7524123920771966\n",
      "when we drop it the accurasy score went down effect\n",
      "feature x.age80\n",
      "accuracy score  0.6632808532249873\n"
     ]
    }
   ],
   "source": [
    "def dropFeatureAccr(x_train,x_test, y_train, y_test):\n",
    "    accuracy_featuresDrop = []\n",
    "    column_name= list(x_train.columns.values.tolist())\n",
    "    for column in range(len(column_name)):\n",
    "        x_train_modified = x_train.drop(columns=[column_name[column]])\n",
    "        x_test_modified = x_test.drop(columns=[column_name[column]])\n",
    "        log_reg_classifier = LogisticRegression(solver='lbfgs', max_iter=2000)\n",
    "        log_reg_classifier.fit(x_train_modified,y_train.values.ravel())\n",
    "        y_pred_mod = log_reg_classifier.predict(x_test_modified)\n",
    "        accuracy_featuresDrop.append(accuracy_score(y_test,y_pred_mod))      \n",
    "    dictionary_feature_drop = dict(zip(column_name, accuracy_featuresDrop))        \n",
    "    return dictionary_feature_drop\n",
    "\n",
    "logisticRegDrop =dropFeatureAccr(x_train= X_train_20,y_train= y_train, x_test= X_test_20, y_test = y_test) \n",
    "print(logisticRegDrop)\n",
    "print(\"max effect \")\n",
    "print(\"feature\", max(logisticRegDrop, key=logisticRegDrop.get))\n",
    "print(\"accuracy score \", logisticRegDrop.get(max(logisticRegDrop, key=logisticRegDrop.get)))\n",
    "print(\"when we drop it the accurasy score went down effect\")\n",
    "print(\"feature\",min(logisticRegDrop, key=logisticRegDrop.get))\n",
    "print(\"accuracy score \", logisticRegDrop.get(min(logisticRegDrop, key=logisticRegDrop.get)))\n",
    "\n",
    "\n",
    "lists = logisticRegDrop.items() # sorted by key, return a list of tuples\n",
    "\n",
    "# x, y = zip(*lists) # unpack a list of pairs into two tuples\n",
    "\n",
    "# plt.plot(x, y)\n",
    "# plt.xticks(x,[0,1,2,3,4,5,6,7,8,9,10])\n",
    "# plt.show()"
   ]
  },
  {
   "cell_type": "code",
   "execution_count": 239,
   "metadata": {},
   "outputs": [
    {
     "data": {
      "text/plain": [
       "0.7531742001015744"
      ]
     },
     "execution_count": 239,
     "metadata": {},
     "output_type": "execute_result"
    }
   ],
   "source": [
    "x_train_modified = X_train_20.drop(columns=[\"x.age80\",'x.age.g', \"x.ststr\",  ])\n",
    "x_test_modified = X_test_20.drop(columns=[ \"x.age80\", 'x.age.g', \"x.ststr\", ])\n",
    "log_reg_classifier = LogisticRegression(solver='lbfgs', max_iter=2000)\n",
    "log_reg_classifier.fit(x_train_modified,y_train.values.ravel())\n",
    "y_pred_mod = log_reg_classifier.predict(x_test_modified)\n",
    "accuracy_score(y_test,y_pred_mod)  "
   ]
  },
  {
   "cell_type": "code",
   "execution_count": 130,
   "metadata": {},
   "outputs": [],
   "source": [
    "# test_df = X_test\n",
    "# test_df['havarth3']= y_test\n",
    "# test_df.to_csv(\"training.csv\")\n",
    "# training_df = X_train\n",
    "# training_df['havarth3']= y_train\n",
    "# training_df.to_csv(\"training.csv\")\n"
   ]
  },
  {
   "cell_type": "code",
   "execution_count": 131,
   "metadata": {},
   "outputs": [
    {
     "data": {
      "text/plain": [
       "array([2, 1])"
      ]
     },
     "execution_count": 131,
     "metadata": {},
     "output_type": "execute_result"
    }
   ],
   "source": [
    "# numeric_variable_summary = df[numeric_var]\n",
    "# df_target = df[\"havarth3\"]\n",
    "# df_target.unique()"
   ]
  },
  {
   "cell_type": "code",
   "execution_count": 132,
   "metadata": {},
   "outputs": [],
   "source": [
    "# profile = ProfileReport(numeric_variable_summary, title=\"Pandas_Profiling_Report\")\n",
    "# profile"
   ]
  },
  {
   "cell_type": "code",
   "execution_count": 133,
   "metadata": {},
   "outputs": [],
   "source": [
    "# profile.to_file(\"your_report.html\")"
   ]
  },
  {
   "cell_type": "code",
   "execution_count": 134,
   "metadata": {},
   "outputs": [],
   "source": [
    "# cor_matrix = numeric_variable_summary.corr().abs()\n",
    "# cor_matrix\n",
    "\n",
    "# import numpy as np\n",
    "# upper_tri = cor_matrix.where(np.triu(np.ones(cor_matrix.shape),k=1).astype(np.bool))\n",
    "# print(upper_tri)\n",
    "# to_drop = [column for column in upper_tri.columns if any(upper_tri[column] > 0.95)]\n",
    "# print(to_drop)"
   ]
  },
  {
   "cell_type": "code",
   "execution_count": null,
   "metadata": {},
   "outputs": [],
   "source": [
    "#let's plot the ordered mutual_info values per feature\n",
    "#mutual_info.sort_values(ascending=False).plot.bar(figsize=(20, 8))"
   ]
  },
  {
   "cell_type": "code",
   "execution_count": 143,
   "metadata": {},
   "outputs": [
    {
     "name": "stderr",
     "output_type": "stream",
     "text": [
      "/home/harnold/github/CS_699_Data-Mining/venv/lib/python3.8/site-packages/sklearn/utils/validation.py:993: DataConversionWarning: A column-vector y was passed when a 1d array was expected. Please change the shape of y to (n_samples, ), for example using ravel().\n",
      "  y = column_or_1d(y, warn=True)\n"
     ]
    },
    {
     "data": {
      "text/plain": [
       "Index(['employ1', 'children', 'marital', 'deaf', 'x.drnkdrv', 'pneuvac4',\n",
       "       'diffwalk', 'rmvteth4', 'diabete3', 'physhlth', 'genhlth', 'checkup1',\n",
       "       'chccopd1', 'x.age.g', 'x.raceg21', 'x.age80', 'x.ageg5yr', 'x.age65yr',\n",
       "       'x.chldcnt', 'x.llcpwt2', 'x.llcpwt', 'x.rfhlth', 'x.wt2rake',\n",
       "       'x.ststr', 'x.strwt', 'x.phys14d', 'x.hcvu651', 'x.totinda',\n",
       "       'x.exteth3', 'x.asthms1'],\n",
       "      dtype='object')"
      ]
     },
     "execution_count": 143,
     "metadata": {},
     "output_type": "execute_result"
    }
   ],
   "source": [
    "# from sklearn.feature_selection import SelectKBest\n",
    "# #No we Will select the  top 5 important features\n",
    "# sel_five_cols = SelectKBest(mutual_info_classif, k=30)\n",
    "# sel_five_cols.fit(X_train, y_train)\n",
    "# X_train.columns[sel_five_cols.get_support()]"
   ]
  },
  {
   "cell_type": "code",
   "execution_count": 241,
   "metadata": {},
   "outputs": [],
   "source": [
    "# from sklearn.feature_selection import chi2\n",
    "# X_cat = X_train.loc[ :,  ~X_train.columns.isin(numeric_var) ]\n",
    "# y = y_train\n",
    "# chi2_features = SelectKBest(chi2, k=30)\n",
    "# X_kbest_features = chi2_features.fit_transform(X_cat, y)\n",
    "\n",
    "# print('original feature number', X_cat.shape[1])\n",
    "# print('reduced feature number', X_kbest_features.shape[1])\n",
    "# print(\"best features \", X_cat.columns[chi2_features.get_support()])"
   ]
  }
 ],
 "metadata": {
  "kernelspec": {
   "display_name": "Python 3.8.10 ('venv': venv)",
   "language": "python",
   "name": "python3"
  },
  "language_info": {
   "codemirror_mode": {
    "name": "ipython",
    "version": 3
   },
   "file_extension": ".py",
   "mimetype": "text/x-python",
   "name": "python",
   "nbconvert_exporter": "python",
   "pygments_lexer": "ipython3",
   "version": "3.8.10"
  },
  "orig_nbformat": 4,
  "vscode": {
   "interpreter": {
    "hash": "1417755986901c50d0a2d815c90f0d9b5714233b5cef037e91b19346eaa01f5c"
   }
  }
 },
 "nbformat": 4,
 "nbformat_minor": 2
}
