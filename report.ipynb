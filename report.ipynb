{
 "cells": [
  {
   "cell_type": "markdown",
   "metadata": {},
   "source": [
    "Predicting Health Status UsingMachine Learning Models-2018-BRFSS Data"
   ]
  }
 ],
 "metadata": {
  "kernelspec": {
   "display_name": "Python 3.8.10 ('venv': venv)",
   "language": "python",
   "name": "python3"
  },
  "language_info": {
   "name": "python",
   "version": "3.8.10"
  },
  "orig_nbformat": 4,
  "vscode": {
   "interpreter": {
    "hash": "1417755986901c50d0a2d815c90f0d9b5714233b5cef037e91b19346eaa01f5c"
   }
  }
 },
 "nbformat": 4,
 "nbformat_minor": 2
}
